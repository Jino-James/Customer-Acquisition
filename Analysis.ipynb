{
 "cells": [
  {
   "cell_type": "code",
   "execution_count": 6,
   "metadata": {},
   "outputs": [
    {
     "data": {
      "text/html": [
       "<div>\n",
       "<style scoped>\n",
       "    .dataframe tbody tr th:only-of-type {\n",
       "        vertical-align: middle;\n",
       "    }\n",
       "\n",
       "    .dataframe tbody tr th {\n",
       "        vertical-align: top;\n",
       "    }\n",
       "\n",
       "    .dataframe thead th {\n",
       "        text-align: right;\n",
       "    }\n",
       "</style>\n",
       "<table border=\"1\" class=\"dataframe\">\n",
       "  <thead>\n",
       "    <tr style=\"text-align: right;\">\n",
       "      <th></th>\n",
       "      <th>Customer_ID</th>\n",
       "      <th>Marketing_Channel</th>\n",
       "      <th>Marketing_Spend</th>\n",
       "      <th>New_Customers</th>\n",
       "    </tr>\n",
       "  </thead>\n",
       "  <tbody>\n",
       "    <tr>\n",
       "      <th>0</th>\n",
       "      <td>CUST0001</td>\n",
       "      <td>Email Marketing</td>\n",
       "      <td>3489.027844</td>\n",
       "      <td>16</td>\n",
       "    </tr>\n",
       "    <tr>\n",
       "      <th>1</th>\n",
       "      <td>CUST0002</td>\n",
       "      <td>Online Ads</td>\n",
       "      <td>1107.865808</td>\n",
       "      <td>33</td>\n",
       "    </tr>\n",
       "    <tr>\n",
       "      <th>2</th>\n",
       "      <td>CUST0003</td>\n",
       "      <td>Social Media</td>\n",
       "      <td>2576.081025</td>\n",
       "      <td>44</td>\n",
       "    </tr>\n",
       "    <tr>\n",
       "      <th>3</th>\n",
       "      <td>CUST0004</td>\n",
       "      <td>Online Ads</td>\n",
       "      <td>3257.567932</td>\n",
       "      <td>32</td>\n",
       "    </tr>\n",
       "    <tr>\n",
       "      <th>4</th>\n",
       "      <td>CUST0005</td>\n",
       "      <td>Email Marketing</td>\n",
       "      <td>1108.408185</td>\n",
       "      <td>13</td>\n",
       "    </tr>\n",
       "    <tr>\n",
       "      <th>...</th>\n",
       "      <td>...</td>\n",
       "      <td>...</td>\n",
       "      <td>...</td>\n",
       "      <td>...</td>\n",
       "    </tr>\n",
       "    <tr>\n",
       "      <th>495</th>\n",
       "      <td>CUST0496</td>\n",
       "      <td>Email Marketing</td>\n",
       "      <td>1130.865147</td>\n",
       "      <td>19</td>\n",
       "    </tr>\n",
       "    <tr>\n",
       "      <th>496</th>\n",
       "      <td>CUST0497</td>\n",
       "      <td>Social Media</td>\n",
       "      <td>2482.119835</td>\n",
       "      <td>18</td>\n",
       "    </tr>\n",
       "    <tr>\n",
       "      <th>497</th>\n",
       "      <td>CUST0498</td>\n",
       "      <td>Online Ads</td>\n",
       "      <td>2773.532344</td>\n",
       "      <td>12</td>\n",
       "    </tr>\n",
       "    <tr>\n",
       "      <th>498</th>\n",
       "      <td>CUST0499</td>\n",
       "      <td>Social Media</td>\n",
       "      <td>4802.220679</td>\n",
       "      <td>28</td>\n",
       "    </tr>\n",
       "    <tr>\n",
       "      <th>499</th>\n",
       "      <td>CUST0500</td>\n",
       "      <td>Online Ads</td>\n",
       "      <td>4421.800773</td>\n",
       "      <td>40</td>\n",
       "    </tr>\n",
       "  </tbody>\n",
       "</table>\n",
       "<p>500 rows × 4 columns</p>\n",
       "</div>"
      ],
      "text/plain": [
       "    Customer_ID Marketing_Channel  Marketing_Spend  New_Customers\n",
       "0      CUST0001   Email Marketing      3489.027844             16\n",
       "1      CUST0002        Online Ads      1107.865808             33\n",
       "2      CUST0003      Social Media      2576.081025             44\n",
       "3      CUST0004        Online Ads      3257.567932             32\n",
       "4      CUST0005   Email Marketing      1108.408185             13\n",
       "..          ...               ...              ...            ...\n",
       "495    CUST0496   Email Marketing      1130.865147             19\n",
       "496    CUST0497      Social Media      2482.119835             18\n",
       "497    CUST0498        Online Ads      2773.532344             12\n",
       "498    CUST0499      Social Media      4802.220679             28\n",
       "499    CUST0500        Online Ads      4421.800773             40\n",
       "\n",
       "[500 rows x 4 columns]"
      ]
     },
     "execution_count": 6,
     "metadata": {},
     "output_type": "execute_result"
    }
   ],
   "source": [
    "import pandas as pd\n",
    "import plotly.express as px\n",
    "import plotly.io as pio\n",
    "import plotly.graph_objects as go\n",
    "pio.templates.default = \"plotly_white\"\n",
    "\n",
    "df = pd.read_csv(r\"C:\\Users\\91965\\Desktop\\Project File\\customer_acquisition_cost_dataset.csv\")\n",
    "df\n"
   ]
  },
  {
   "cell_type": "code",
   "execution_count": 7,
   "metadata": {},
   "outputs": [
    {
     "name": "stdout",
     "output_type": "stream",
     "text": [
      "<class 'pandas.core.frame.DataFrame'>\n",
      "RangeIndex: 500 entries, 0 to 499\n",
      "Data columns (total 4 columns):\n",
      " #   Column             Non-Null Count  Dtype  \n",
      "---  ------             --------------  -----  \n",
      " 0   Customer_ID        500 non-null    object \n",
      " 1   Marketing_Channel  500 non-null    object \n",
      " 2   Marketing_Spend    500 non-null    float64\n",
      " 3   New_Customers      500 non-null    int64  \n",
      "dtypes: float64(1), int64(1), object(2)\n",
      "memory usage: 15.8+ KB\n"
     ]
    }
   ],
   "source": [
    "df.info()"
   ]
  },
  {
   "cell_type": "code",
   "execution_count": 8,
   "metadata": {},
   "outputs": [
    {
     "data": {
      "application/vnd.plotly.v1+json": {
       "config": {
        "plotlyServerURL": "https://plot.ly"
       },
       "data": [
        {
         "alignmentgroup": "True",
         "hovertemplate": "Marketing_Channel=%{x}<br>CAC=%{y}<extra></extra>",
         "legendgroup": "",
         "marker": {
          "color": "#636efa",
          "pattern": {
           "shape": ""
          }
         },
         "name": "",
         "offsetgroup": "",
         "orientation": "v",
         "showlegend": false,
         "textposition": "auto",
         "type": "bar",
         "x": [
          "Email Marketing",
          "Online Ads",
          "Social Media",
          "Online Ads",
          "Email Marketing",
          "Email Marketing",
          "Referral",
          "Online Ads",
          "Social Media",
          "Online Ads",
          "Online Ads",
          "Email Marketing",
          "Online Ads",
          "Online Ads",
          "Email Marketing",
          "Email Marketing",
          "Online Ads",
          "Email Marketing",
          "Referral",
          "Online Ads",
          "Referral",
          "Email Marketing",
          "Social Media",
          "Online Ads",
          "Referral",
          "Social Media",
          "Online Ads",
          "Online Ads",
          "Referral",
          "Email Marketing",
          "Referral",
          "Email Marketing",
          "Email Marketing",
          "Referral",
          "Social Media",
          "Email Marketing",
          "Referral",
          "Email Marketing",
          "Referral",
          "Email Marketing",
          "Email Marketing",
          "Online Ads",
          "Online Ads",
          "Social Media",
          "Online Ads",
          "Online Ads",
          "Online Ads",
          "Social Media",
          "Email Marketing",
          "Social Media",
          "Social Media",
          "Online Ads",
          "Social Media",
          "Referral",
          "Email Marketing",
          "Email Marketing",
          "Online Ads",
          "Email Marketing",
          "Online Ads",
          "Social Media",
          "Referral",
          "Email Marketing",
          "Email Marketing",
          "Email Marketing",
          "Referral",
          "Referral",
          "Online Ads",
          "Online Ads",
          "Social Media",
          "Social Media",
          "Online Ads",
          "Referral",
          "Referral",
          "Social Media",
          "Email Marketing",
          "Social Media",
          "Referral",
          "Social Media",
          "Social Media",
          "Online Ads",
          "Email Marketing",
          "Social Media",
          "Email Marketing",
          "Referral",
          "Social Media",
          "Online Ads",
          "Referral",
          "Email Marketing",
          "Online Ads",
          "Online Ads",
          "Online Ads",
          "Email Marketing",
          "Referral",
          "Social Media",
          "Online Ads",
          "Social Media",
          "Referral",
          "Email Marketing",
          "Referral",
          "Referral",
          "Online Ads",
          "Email Marketing",
          "Email Marketing",
          "Email Marketing",
          "Social Media",
          "Email Marketing",
          "Online Ads",
          "Social Media",
          "Social Media",
          "Referral",
          "Referral",
          "Social Media",
          "Email Marketing",
          "Online Ads",
          "Referral",
          "Referral",
          "Social Media",
          "Email Marketing",
          "Email Marketing",
          "Online Ads",
          "Referral",
          "Email Marketing",
          "Referral",
          "Email Marketing",
          "Online Ads",
          "Social Media",
          "Online Ads",
          "Referral",
          "Referral",
          "Referral",
          "Social Media",
          "Online Ads",
          "Referral",
          "Referral",
          "Online Ads",
          "Social Media",
          "Online Ads",
          "Referral",
          "Referral",
          "Online Ads",
          "Social Media",
          "Email Marketing",
          "Social Media",
          "Referral",
          "Social Media",
          "Online Ads",
          "Email Marketing",
          "Email Marketing",
          "Online Ads",
          "Social Media",
          "Referral",
          "Email Marketing",
          "Social Media",
          "Email Marketing",
          "Online Ads",
          "Online Ads",
          "Social Media",
          "Email Marketing",
          "Online Ads",
          "Online Ads",
          "Online Ads",
          "Email Marketing",
          "Online Ads",
          "Referral",
          "Referral",
          "Online Ads",
          "Online Ads",
          "Email Marketing",
          "Online Ads",
          "Online Ads",
          "Referral",
          "Email Marketing",
          "Social Media",
          "Referral",
          "Referral",
          "Online Ads",
          "Online Ads",
          "Social Media",
          "Social Media",
          "Social Media",
          "Email Marketing",
          "Email Marketing",
          "Referral",
          "Online Ads",
          "Social Media",
          "Social Media",
          "Referral",
          "Online Ads",
          "Online Ads",
          "Social Media",
          "Social Media",
          "Social Media",
          "Online Ads",
          "Referral",
          "Social Media",
          "Referral",
          "Email Marketing",
          "Online Ads",
          "Referral",
          "Referral",
          "Referral",
          "Referral",
          "Referral",
          "Online Ads",
          "Social Media",
          "Online Ads",
          "Social Media",
          "Online Ads",
          "Social Media",
          "Referral",
          "Social Media",
          "Referral",
          "Social Media",
          "Social Media",
          "Referral",
          "Referral",
          "Email Marketing",
          "Email Marketing",
          "Online Ads",
          "Social Media",
          "Referral",
          "Email Marketing",
          "Email Marketing",
          "Email Marketing",
          "Online Ads",
          "Email Marketing",
          "Email Marketing",
          "Referral",
          "Online Ads",
          "Referral",
          "Online Ads",
          "Online Ads",
          "Email Marketing",
          "Email Marketing",
          "Online Ads",
          "Online Ads",
          "Referral",
          "Online Ads",
          "Email Marketing",
          "Email Marketing",
          "Social Media",
          "Email Marketing",
          "Email Marketing",
          "Referral",
          "Online Ads",
          "Email Marketing",
          "Online Ads",
          "Social Media",
          "Email Marketing",
          "Social Media",
          "Social Media",
          "Referral",
          "Online Ads",
          "Social Media",
          "Referral",
          "Referral",
          "Online Ads",
          "Online Ads",
          "Social Media",
          "Referral",
          "Referral",
          "Referral",
          "Social Media",
          "Online Ads",
          "Referral",
          "Email Marketing",
          "Email Marketing",
          "Referral",
          "Email Marketing",
          "Online Ads",
          "Referral",
          "Social Media",
          "Email Marketing",
          "Referral",
          "Online Ads",
          "Online Ads",
          "Online Ads",
          "Email Marketing",
          "Social Media",
          "Email Marketing",
          "Email Marketing",
          "Online Ads",
          "Email Marketing",
          "Social Media",
          "Social Media",
          "Referral",
          "Referral",
          "Online Ads",
          "Social Media",
          "Social Media",
          "Online Ads",
          "Referral",
          "Email Marketing",
          "Social Media",
          "Email Marketing",
          "Email Marketing",
          "Social Media",
          "Online Ads",
          "Online Ads",
          "Referral",
          "Referral",
          "Email Marketing",
          "Referral",
          "Email Marketing",
          "Online Ads",
          "Online Ads",
          "Social Media",
          "Referral",
          "Referral",
          "Referral",
          "Referral",
          "Online Ads",
          "Online Ads",
          "Online Ads",
          "Referral",
          "Referral",
          "Social Media",
          "Email Marketing",
          "Online Ads",
          "Referral",
          "Referral",
          "Referral",
          "Referral",
          "Referral",
          "Online Ads",
          "Email Marketing",
          "Social Media",
          "Referral",
          "Referral",
          "Referral",
          "Referral",
          "Social Media",
          "Referral",
          "Online Ads",
          "Referral",
          "Referral",
          "Online Ads",
          "Referral",
          "Social Media",
          "Social Media",
          "Referral",
          "Online Ads",
          "Online Ads",
          "Online Ads",
          "Social Media",
          "Referral",
          "Referral",
          "Social Media",
          "Email Marketing",
          "Social Media",
          "Referral",
          "Email Marketing",
          "Referral",
          "Online Ads",
          "Referral",
          "Online Ads",
          "Referral",
          "Social Media",
          "Online Ads",
          "Social Media",
          "Email Marketing",
          "Social Media",
          "Email Marketing",
          "Email Marketing",
          "Social Media",
          "Email Marketing",
          "Social Media",
          "Email Marketing",
          "Online Ads",
          "Referral",
          "Email Marketing",
          "Email Marketing",
          "Email Marketing",
          "Email Marketing",
          "Social Media",
          "Online Ads",
          "Email Marketing",
          "Social Media",
          "Social Media",
          "Referral",
          "Email Marketing",
          "Social Media",
          "Social Media",
          "Social Media",
          "Social Media",
          "Social Media",
          "Online Ads",
          "Social Media",
          "Referral",
          "Email Marketing",
          "Referral",
          "Email Marketing",
          "Social Media",
          "Email Marketing",
          "Online Ads",
          "Social Media",
          "Social Media",
          "Email Marketing",
          "Email Marketing",
          "Social Media",
          "Social Media",
          "Online Ads",
          "Social Media",
          "Referral",
          "Referral",
          "Online Ads",
          "Online Ads",
          "Email Marketing",
          "Email Marketing",
          "Social Media",
          "Referral",
          "Referral",
          "Email Marketing",
          "Online Ads",
          "Online Ads",
          "Online Ads",
          "Online Ads",
          "Social Media",
          "Referral",
          "Online Ads",
          "Social Media",
          "Email Marketing",
          "Online Ads",
          "Email Marketing",
          "Social Media",
          "Online Ads",
          "Email Marketing",
          "Online Ads",
          "Referral",
          "Referral",
          "Online Ads",
          "Social Media",
          "Online Ads",
          "Referral",
          "Email Marketing",
          "Online Ads",
          "Online Ads",
          "Referral",
          "Social Media",
          "Referral",
          "Email Marketing",
          "Referral",
          "Email Marketing",
          "Referral",
          "Referral",
          "Email Marketing",
          "Email Marketing",
          "Email Marketing",
          "Referral",
          "Email Marketing",
          "Referral",
          "Email Marketing",
          "Social Media",
          "Social Media",
          "Online Ads",
          "Email Marketing",
          "Referral",
          "Email Marketing",
          "Email Marketing",
          "Social Media",
          "Online Ads",
          "Social Media",
          "Social Media",
          "Social Media",
          "Email Marketing",
          "Online Ads",
          "Online Ads",
          "Email Marketing",
          "Email Marketing",
          "Online Ads",
          "Social Media",
          "Email Marketing",
          "Social Media",
          "Online Ads",
          "Social Media",
          "Referral",
          "Email Marketing",
          "Email Marketing",
          "Referral",
          "Referral",
          "Social Media",
          "Online Ads",
          "Social Media",
          "Referral",
          "Referral",
          "Referral",
          "Social Media",
          "Email Marketing",
          "Email Marketing",
          "Email Marketing",
          "Online Ads",
          "Online Ads",
          "Social Media",
          "Online Ads",
          "Social Media",
          "Email Marketing",
          "Social Media",
          "Online Ads",
          "Social Media",
          "Online Ads"
         ],
         "xaxis": "x",
         "y": [
          218.06424024351617,
          33.57169114001669,
          58.547296030882244,
          101.79899787809677,
          85.26216810471152,
          102.02853120106694,
          57.14066477489841,
          129.39971710027487,
          70.65520787967706,
          64.5234732500656,
          123.10940912306177,
          100.3210095445754,
          80.89837663152218,
          52.42718463034469,
          364.3672085653763,
          332.8997800477762,
          64.80922990740395,
          53.10499724186282,
          59.86295267778016,
          68.64513460195944,
          217.37527452334072,
          171.4172410629097,
          80.01280828887778,
          179.3448781931991,
          76.74507704203315,
          174.6492528799176,
          199.93528878599818,
          57.98202353064941,
          56.92210890954365,
          33.53186214873253,
          150.4883899496825,
          136.21612512887563,
          171.36201724842508,
          103.99212020144525,
          86.31499738601373,
          156.44586128557552,
          79.57888445100996,
          201.7052926802192,
          362.8820552564676,
          81.00730475086614,
          427.72046972443405,
          151.84009662926096,
          57.29579994521705,
          23.461993659358807,
          74.92763258595936,
          337.21719521833046,
          230.1281596582659,
          99.48529869486575,
          296.92760155368256,
          72.44366174290221,
          104.51271288144227,
          81.60394377684135,
          82.80030716375917,
          292.1373957003497,
          110.02932390887963,
          89.5170120859836,
          44.976371523310924,
          117.50898585854013,
          87.88385926476765,
          149.30094132711224,
          71.40821191944679,
          59.10198821124344,
          125.99346494617964,
          48.263769376431284,
          366.5252089998591,
          99.75171331070307,
          49.03984422675843,
          124.18334022713626,
          322.0309476732531,
          331.9099418469102,
          95.73086437060769,
          78.34138800087739,
          106.35624908252886,
          303.8684328095194,
          50.73974598901472,
          111.38939145334275,
          225.19225898521591,
          195.5993343688523,
          91.40993240051924,
          81.75218452542686,
          109.13590274720532,
          314.775188576952,
          240.16244864235634,
          49.87598489713695,
          92.37805583696098,
          39.50907513527648,
          60.826252476870785,
          76.47392926493517,
          83.8652405504352,
          32.78823503177525,
          91.74606969270492,
          40.17114950304109,
          66.01712145424843,
          107.46998531570222,
          56.22274696802701,
          94.19333164651879,
          102.83067571158936,
          131.56714393904622,
          61.212026926747555,
          106.49445135795831,
          58.36747164487327,
          104.87293665991288,
          77.74503651039868,
          168.02744224707774,
          104.51214882739144,
          115.60037416012287,
          75.9816753926755,
          119.19232778655056,
          38.117038950519074,
          117.89910011813255,
          125.57162070602693,
          60.13038163568522,
          110.87407804431562,
          111.2708444245423,
          94.65720377524458,
          142.21132899057156,
          99.59354367136098,
          165.9403706274086,
          254.0946512495384,
          138.91104719365234,
          133.70764698691772,
          40.07090645970874,
          110.64607336287935,
          44.794514091521556,
          174.63643675194442,
          89.97240973192027,
          133.89225921158828,
          39.692309776902604,
          65.26209664112966,
          86.62977787493791,
          158.27187392039443,
          182.26749861379008,
          59.22207814166167,
          43.81576351134885,
          48.01271114498091,
          146.91789645617067,
          61.348791955057614,
          22.01236393800532,
          108.15656403691906,
          65.53891584790841,
          306.07373277568445,
          69.85730146074854,
          90.23022789620899,
          65.43991181885373,
          235.4655152132514,
          74.0878694523779,
          187.11995583308908,
          206.01605490658307,
          89.92461811631378,
          61.37500427875647,
          52.65014186546445,
          70.91216874907714,
          176.45386618786713,
          63.28079889266849,
          178.68594088323843,
          70.34675051372321,
          28.807304022723535,
          71.79148628179578,
          24.784414227961886,
          35.48422973099157,
          295.57803530347786,
          46.15295932018564,
          184.28416632744003,
          133.9823862587133,
          193.22732291927508,
          126.86187425821673,
          143.5504592887475,
          61.3789854277464,
          96.57156689127724,
          280.2057859555017,
          131.9468579084435,
          233.7192980686695,
          107.82880525798242,
          63.472027922212604,
          248.86494887775672,
          180.97492889371165,
          79.20714443876359,
          435.48734557286474,
          122.07677488628035,
          42.88606467957145,
          158.3353282073107,
          47.889069809514965,
          47.090394258492715,
          33.33998655396594,
          32.603319045533645,
          140.10074092354049,
          102.28014486297735,
          74.65645365945208,
          64.19683127413678,
          83.21355042426376,
          79.4156298411431,
          187.7416870418782,
          288.4261292526901,
          247.13916725948394,
          207.56560532934628,
          71.43330670728342,
          280.3640131856517,
          315.6449222521369,
          100.02058757099432,
          83.63814512742933,
          97.04159171918711,
          113.01575075244936,
          89.71926330417163,
          33.83261440587518,
          46.21364324674719,
          82.60915742433075,
          173.73177775123884,
          78.0197189827707,
          126.73190313078628,
          46.79420727183853,
          101.47870175265878,
          223.46674940605112,
          170.38232010629153,
          63.86997252067452,
          72.56538725317895,
          30.738776920865206,
          39.98079781842939,
          227.34288805359085,
          95.38693055971667,
          57.18490313280046,
          28.443907219248768,
          372.89572375164204,
          434.3834455624725,
          143.5128885599879,
          165.62569349053135,
          217.3169420656437,
          204.95146317849762,
          79.92477322570062,
          41.46166759208803,
          134.16917738834096,
          169.52960547097263,
          360.6037957734745,
          113.76319882212366,
          46.64747537547307,
          159.1104048148294,
          196.61882654535265,
          87.26185908129568,
          31.022036935802472,
          99.66017604910841,
          55.55318034905638,
          81.78964529077204,
          138.46663680004406,
          165.65818959399007,
          107.84841988382087,
          179.4059317871519,
          129.21011238521197,
          386.75128535926274,
          82.0611906637726,
          201.37883102906557,
          75.26895428935573,
          49.849894458782146,
          131.91186235768402,
          56.88478756528224,
          87.38242883761203,
          99.04953718254033,
          100.851154053681,
          113.22765633674214,
          156.05825195278152,
          50.00943330223166,
          222.46522150970006,
          134.19242054074317,
          175.0817484290018,
          82.44820702538914,
          46.51879367695117,
          96.87510776791899,
          314.0460695585194,
          74.39092919701386,
          237.06250728054306,
          59.42817333801917,
          132.23208819693994,
          73.09546102825234,
          55.91970998030289,
          37.98866640048673,
          213.55706853404533,
          91.68587532042663,
          47.33920017676173,
          160.29124379293157,
          193.821646414028,
          91.79972828113333,
          73.49322981791151,
          309.1837639339718,
          71.27385759116144,
          77.32826607934328,
          178.5581211928263,
          48.690688066351086,
          103.30704243587566,
          223.68084229152282,
          61.71636325939229,
          100.15813461005871,
          133.38652910466317,
          187.4989039890499,
          189.5602228982235,
          237.75289582031075,
          171.3887591428597,
          95.68134596764381,
          198.09641561964068,
          55.411868629278764,
          249.31545130158318,
          216.496478802759,
          203.9141853686816,
          42.627118662626124,
          53.517643880172415,
          85.83976640145241,
          108.60020288950771,
          62.94811460899583,
          41.95741246134622,
          68.57222414816293,
          47.609915335440604,
          65.46264629149478,
          105.7906750611564,
          56.427569349320095,
          76.23698003053832,
          92.3478681488643,
          99.73667659163908,
          234.7993262814003,
          48.356244605789314,
          107.95205001044829,
          23.491783927784155,
          137.2007105607167,
          141.5152416333337,
          90.33267255871291,
          195.71653922799453,
          114.21110368556684,
          101.9759573056719,
          351.6623253313672,
          102.80395167123082,
          29.437908855956533,
          79.18854211925957,
          280.060143103189,
          344.5231733422201,
          136.26549988537073,
          98.61517282438244,
          221.7003105164461,
          188.51415319313128,
          79.38316959760346,
          54.99821831219703,
          86.16965013597465,
          47.57190809077045,
          73.79390779330585,
          103.76201111269934,
          52.316554137905044,
          314.2348661956273,
          94.71964763992344,
          95.8056775957123,
          200.4256975574351,
          147.91229122243556,
          52.50078312688792,
          56.666115393339965,
          92.25880240218886,
          212.50564407039238,
          345.3486207380111,
          30.094642088177533,
          79.60518679538787,
          113.69819572317944,
          312.2477596747458,
          118.8024688529729,
          189.86026033103371,
          227.9904906410419,
          55.750900221311674,
          93.02608724008329,
          118.1662350112727,
          64.52823736387961,
          87.81406165518459,
          94.1570662898356,
          59.19819373544256,
          126.80526850451051,
          65.86276072305562,
          89.26301282504501,
          46.53762302345865,
          86.79625757208446,
          105.28104024721767,
          86.87662282341277,
          129.2257381747992,
          26.317468052799573,
          144.62446434127162,
          248.48867672497582,
          63.33287636855652,
          290.7072540058887,
          34.943797344756405,
          83.66469568882324,
          71.99676277336319,
          77.7425704860237,
          21.61645262123925,
          222.02801620529394,
          148.54315143211392,
          247.36290285308783,
          34.72132953802442,
          145.62732286396093,
          74.44570305538521,
          115.52713174157537,
          101.59299455542995,
          149.84643076908839,
          41.67485203397511,
          292.081046704693,
          61.960965394329975,
          56.41717768598626,
          86.25977188931954,
          62.865251861622525,
          182.64948718905308,
          76.72669117940885,
          331.38454496717264,
          58.943865284677756,
          116.947093769225,
          110.08846253680977,
          190.72013824662827,
          98.90048690372109,
          129.07579210124305,
          189.46073165053812,
          52.00769578713043,
          110.50406362277091,
          72.85144258769466,
          209.8464165261319,
          89.36569190986575,
          233.08002655724417,
          180.43473645563495,
          172.09170166723328,
          126.65969685798457,
          217.72279078257603,
          88.35851986889138,
          88.26621606097355,
          84.57502700620965,
          362.77903898750554,
          113.32233595959978,
          94.15540441411983,
          199.18680197567176,
          46.57774032938634,
          81.27331648974254,
          174.64711691966374,
          196.47195358784765,
          64.78730966594647,
          44.498812377890225,
          199.4961729876743,
          44.80421794150596,
          127.38659924892784,
          87.71197322049123,
          148.05934317713212,
          124.9363797924456,
          122.47231310333652,
          88.20184649529776,
          72.42429779475175,
          113.12524342551656,
          121.9746383122902,
          96.04440852670605,
          159.4494961147272,
          81.20210397267398,
          36.51697074497594,
          220.52605324888683,
          47.36448666737971,
          105.78262690980453,
          116.8569049367181,
          99.91966277697622,
          175.70603468312908,
          143.2082055647097,
          100.43691847814877,
          57.28139994470385,
          115.63132984321527,
          52.783731020180234,
          143.01314695801076,
          58.73216897782289,
          205.07297374972305,
          141.8985842078482,
          256.7877205083588,
          107.24173012267742,
          144.27780506418839,
          31.85298686215384,
          120.9554755528958,
          25.583688339207658,
          266.87878710937696,
          115.91534032141126,
          310.7349089981759,
          94.273440014798,
          46.402524616325245,
          113.0374054095208,
          110.4178703264659,
          116.25056305878952,
          71.16711954545003,
          103.9405366685923,
          199.376922146991,
          58.35416677431634,
          92.82807737227574,
          126.25163586248058,
          126.36214539205581,
          118.66586114041122,
          80.41642935873058,
          87.66535417620678,
          120.38062079068746,
          191.35585372470916,
          78.72079451937915,
          264.60507060408423,
          49.03307907998,
          110.8140879061345,
          126.91695807655582,
          98.57960503861527,
          164.52897142442512,
          155.03503553303995,
          59.519218285273034,
          137.8955463854301,
          231.1276953535672,
          171.5078814073467,
          110.54501933059547
         ],
         "yaxis": "y"
        }
       ],
       "layout": {
        "barmode": "relative",
        "legend": {
         "tracegroupgap": 0
        },
        "template": {
         "data": {
          "bar": [
           {
            "error_x": {
             "color": "#2a3f5f"
            },
            "error_y": {
             "color": "#2a3f5f"
            },
            "marker": {
             "line": {
              "color": "white",
              "width": 0.5
             },
             "pattern": {
              "fillmode": "overlay",
              "size": 10,
              "solidity": 0.2
             }
            },
            "type": "bar"
           }
          ],
          "barpolar": [
           {
            "marker": {
             "line": {
              "color": "white",
              "width": 0.5
             },
             "pattern": {
              "fillmode": "overlay",
              "size": 10,
              "solidity": 0.2
             }
            },
            "type": "barpolar"
           }
          ],
          "carpet": [
           {
            "aaxis": {
             "endlinecolor": "#2a3f5f",
             "gridcolor": "#C8D4E3",
             "linecolor": "#C8D4E3",
             "minorgridcolor": "#C8D4E3",
             "startlinecolor": "#2a3f5f"
            },
            "baxis": {
             "endlinecolor": "#2a3f5f",
             "gridcolor": "#C8D4E3",
             "linecolor": "#C8D4E3",
             "minorgridcolor": "#C8D4E3",
             "startlinecolor": "#2a3f5f"
            },
            "type": "carpet"
           }
          ],
          "choropleth": [
           {
            "colorbar": {
             "outlinewidth": 0,
             "ticks": ""
            },
            "type": "choropleth"
           }
          ],
          "contour": [
           {
            "colorbar": {
             "outlinewidth": 0,
             "ticks": ""
            },
            "colorscale": [
             [
              0,
              "#0d0887"
             ],
             [
              0.1111111111111111,
              "#46039f"
             ],
             [
              0.2222222222222222,
              "#7201a8"
             ],
             [
              0.3333333333333333,
              "#9c179e"
             ],
             [
              0.4444444444444444,
              "#bd3786"
             ],
             [
              0.5555555555555556,
              "#d8576b"
             ],
             [
              0.6666666666666666,
              "#ed7953"
             ],
             [
              0.7777777777777778,
              "#fb9f3a"
             ],
             [
              0.8888888888888888,
              "#fdca26"
             ],
             [
              1,
              "#f0f921"
             ]
            ],
            "type": "contour"
           }
          ],
          "contourcarpet": [
           {
            "colorbar": {
             "outlinewidth": 0,
             "ticks": ""
            },
            "type": "contourcarpet"
           }
          ],
          "heatmap": [
           {
            "colorbar": {
             "outlinewidth": 0,
             "ticks": ""
            },
            "colorscale": [
             [
              0,
              "#0d0887"
             ],
             [
              0.1111111111111111,
              "#46039f"
             ],
             [
              0.2222222222222222,
              "#7201a8"
             ],
             [
              0.3333333333333333,
              "#9c179e"
             ],
             [
              0.4444444444444444,
              "#bd3786"
             ],
             [
              0.5555555555555556,
              "#d8576b"
             ],
             [
              0.6666666666666666,
              "#ed7953"
             ],
             [
              0.7777777777777778,
              "#fb9f3a"
             ],
             [
              0.8888888888888888,
              "#fdca26"
             ],
             [
              1,
              "#f0f921"
             ]
            ],
            "type": "heatmap"
           }
          ],
          "heatmapgl": [
           {
            "colorbar": {
             "outlinewidth": 0,
             "ticks": ""
            },
            "colorscale": [
             [
              0,
              "#0d0887"
             ],
             [
              0.1111111111111111,
              "#46039f"
             ],
             [
              0.2222222222222222,
              "#7201a8"
             ],
             [
              0.3333333333333333,
              "#9c179e"
             ],
             [
              0.4444444444444444,
              "#bd3786"
             ],
             [
              0.5555555555555556,
              "#d8576b"
             ],
             [
              0.6666666666666666,
              "#ed7953"
             ],
             [
              0.7777777777777778,
              "#fb9f3a"
             ],
             [
              0.8888888888888888,
              "#fdca26"
             ],
             [
              1,
              "#f0f921"
             ]
            ],
            "type": "heatmapgl"
           }
          ],
          "histogram": [
           {
            "marker": {
             "pattern": {
              "fillmode": "overlay",
              "size": 10,
              "solidity": 0.2
             }
            },
            "type": "histogram"
           }
          ],
          "histogram2d": [
           {
            "colorbar": {
             "outlinewidth": 0,
             "ticks": ""
            },
            "colorscale": [
             [
              0,
              "#0d0887"
             ],
             [
              0.1111111111111111,
              "#46039f"
             ],
             [
              0.2222222222222222,
              "#7201a8"
             ],
             [
              0.3333333333333333,
              "#9c179e"
             ],
             [
              0.4444444444444444,
              "#bd3786"
             ],
             [
              0.5555555555555556,
              "#d8576b"
             ],
             [
              0.6666666666666666,
              "#ed7953"
             ],
             [
              0.7777777777777778,
              "#fb9f3a"
             ],
             [
              0.8888888888888888,
              "#fdca26"
             ],
             [
              1,
              "#f0f921"
             ]
            ],
            "type": "histogram2d"
           }
          ],
          "histogram2dcontour": [
           {
            "colorbar": {
             "outlinewidth": 0,
             "ticks": ""
            },
            "colorscale": [
             [
              0,
              "#0d0887"
             ],
             [
              0.1111111111111111,
              "#46039f"
             ],
             [
              0.2222222222222222,
              "#7201a8"
             ],
             [
              0.3333333333333333,
              "#9c179e"
             ],
             [
              0.4444444444444444,
              "#bd3786"
             ],
             [
              0.5555555555555556,
              "#d8576b"
             ],
             [
              0.6666666666666666,
              "#ed7953"
             ],
             [
              0.7777777777777778,
              "#fb9f3a"
             ],
             [
              0.8888888888888888,
              "#fdca26"
             ],
             [
              1,
              "#f0f921"
             ]
            ],
            "type": "histogram2dcontour"
           }
          ],
          "mesh3d": [
           {
            "colorbar": {
             "outlinewidth": 0,
             "ticks": ""
            },
            "type": "mesh3d"
           }
          ],
          "parcoords": [
           {
            "line": {
             "colorbar": {
              "outlinewidth": 0,
              "ticks": ""
             }
            },
            "type": "parcoords"
           }
          ],
          "pie": [
           {
            "automargin": true,
            "type": "pie"
           }
          ],
          "scatter": [
           {
            "fillpattern": {
             "fillmode": "overlay",
             "size": 10,
             "solidity": 0.2
            },
            "type": "scatter"
           }
          ],
          "scatter3d": [
           {
            "line": {
             "colorbar": {
              "outlinewidth": 0,
              "ticks": ""
             }
            },
            "marker": {
             "colorbar": {
              "outlinewidth": 0,
              "ticks": ""
             }
            },
            "type": "scatter3d"
           }
          ],
          "scattercarpet": [
           {
            "marker": {
             "colorbar": {
              "outlinewidth": 0,
              "ticks": ""
             }
            },
            "type": "scattercarpet"
           }
          ],
          "scattergeo": [
           {
            "marker": {
             "colorbar": {
              "outlinewidth": 0,
              "ticks": ""
             }
            },
            "type": "scattergeo"
           }
          ],
          "scattergl": [
           {
            "marker": {
             "colorbar": {
              "outlinewidth": 0,
              "ticks": ""
             }
            },
            "type": "scattergl"
           }
          ],
          "scattermapbox": [
           {
            "marker": {
             "colorbar": {
              "outlinewidth": 0,
              "ticks": ""
             }
            },
            "type": "scattermapbox"
           }
          ],
          "scatterpolar": [
           {
            "marker": {
             "colorbar": {
              "outlinewidth": 0,
              "ticks": ""
             }
            },
            "type": "scatterpolar"
           }
          ],
          "scatterpolargl": [
           {
            "marker": {
             "colorbar": {
              "outlinewidth": 0,
              "ticks": ""
             }
            },
            "type": "scatterpolargl"
           }
          ],
          "scatterternary": [
           {
            "marker": {
             "colorbar": {
              "outlinewidth": 0,
              "ticks": ""
             }
            },
            "type": "scatterternary"
           }
          ],
          "surface": [
           {
            "colorbar": {
             "outlinewidth": 0,
             "ticks": ""
            },
            "colorscale": [
             [
              0,
              "#0d0887"
             ],
             [
              0.1111111111111111,
              "#46039f"
             ],
             [
              0.2222222222222222,
              "#7201a8"
             ],
             [
              0.3333333333333333,
              "#9c179e"
             ],
             [
              0.4444444444444444,
              "#bd3786"
             ],
             [
              0.5555555555555556,
              "#d8576b"
             ],
             [
              0.6666666666666666,
              "#ed7953"
             ],
             [
              0.7777777777777778,
              "#fb9f3a"
             ],
             [
              0.8888888888888888,
              "#fdca26"
             ],
             [
              1,
              "#f0f921"
             ]
            ],
            "type": "surface"
           }
          ],
          "table": [
           {
            "cells": {
             "fill": {
              "color": "#EBF0F8"
             },
             "line": {
              "color": "white"
             }
            },
            "header": {
             "fill": {
              "color": "#C8D4E3"
             },
             "line": {
              "color": "white"
             }
            },
            "type": "table"
           }
          ]
         },
         "layout": {
          "annotationdefaults": {
           "arrowcolor": "#2a3f5f",
           "arrowhead": 0,
           "arrowwidth": 1
          },
          "autotypenumbers": "strict",
          "coloraxis": {
           "colorbar": {
            "outlinewidth": 0,
            "ticks": ""
           }
          },
          "colorscale": {
           "diverging": [
            [
             0,
             "#8e0152"
            ],
            [
             0.1,
             "#c51b7d"
            ],
            [
             0.2,
             "#de77ae"
            ],
            [
             0.3,
             "#f1b6da"
            ],
            [
             0.4,
             "#fde0ef"
            ],
            [
             0.5,
             "#f7f7f7"
            ],
            [
             0.6,
             "#e6f5d0"
            ],
            [
             0.7,
             "#b8e186"
            ],
            [
             0.8,
             "#7fbc41"
            ],
            [
             0.9,
             "#4d9221"
            ],
            [
             1,
             "#276419"
            ]
           ],
           "sequential": [
            [
             0,
             "#0d0887"
            ],
            [
             0.1111111111111111,
             "#46039f"
            ],
            [
             0.2222222222222222,
             "#7201a8"
            ],
            [
             0.3333333333333333,
             "#9c179e"
            ],
            [
             0.4444444444444444,
             "#bd3786"
            ],
            [
             0.5555555555555556,
             "#d8576b"
            ],
            [
             0.6666666666666666,
             "#ed7953"
            ],
            [
             0.7777777777777778,
             "#fb9f3a"
            ],
            [
             0.8888888888888888,
             "#fdca26"
            ],
            [
             1,
             "#f0f921"
            ]
           ],
           "sequentialminus": [
            [
             0,
             "#0d0887"
            ],
            [
             0.1111111111111111,
             "#46039f"
            ],
            [
             0.2222222222222222,
             "#7201a8"
            ],
            [
             0.3333333333333333,
             "#9c179e"
            ],
            [
             0.4444444444444444,
             "#bd3786"
            ],
            [
             0.5555555555555556,
             "#d8576b"
            ],
            [
             0.6666666666666666,
             "#ed7953"
            ],
            [
             0.7777777777777778,
             "#fb9f3a"
            ],
            [
             0.8888888888888888,
             "#fdca26"
            ],
            [
             1,
             "#f0f921"
            ]
           ]
          },
          "colorway": [
           "#636efa",
           "#EF553B",
           "#00cc96",
           "#ab63fa",
           "#FFA15A",
           "#19d3f3",
           "#FF6692",
           "#B6E880",
           "#FF97FF",
           "#FECB52"
          ],
          "font": {
           "color": "#2a3f5f"
          },
          "geo": {
           "bgcolor": "white",
           "lakecolor": "white",
           "landcolor": "white",
           "showlakes": true,
           "showland": true,
           "subunitcolor": "#C8D4E3"
          },
          "hoverlabel": {
           "align": "left"
          },
          "hovermode": "closest",
          "mapbox": {
           "style": "light"
          },
          "paper_bgcolor": "white",
          "plot_bgcolor": "white",
          "polar": {
           "angularaxis": {
            "gridcolor": "#EBF0F8",
            "linecolor": "#EBF0F8",
            "ticks": ""
           },
           "bgcolor": "white",
           "radialaxis": {
            "gridcolor": "#EBF0F8",
            "linecolor": "#EBF0F8",
            "ticks": ""
           }
          },
          "scene": {
           "xaxis": {
            "backgroundcolor": "white",
            "gridcolor": "#DFE8F3",
            "gridwidth": 2,
            "linecolor": "#EBF0F8",
            "showbackground": true,
            "ticks": "",
            "zerolinecolor": "#EBF0F8"
           },
           "yaxis": {
            "backgroundcolor": "white",
            "gridcolor": "#DFE8F3",
            "gridwidth": 2,
            "linecolor": "#EBF0F8",
            "showbackground": true,
            "ticks": "",
            "zerolinecolor": "#EBF0F8"
           },
           "zaxis": {
            "backgroundcolor": "white",
            "gridcolor": "#DFE8F3",
            "gridwidth": 2,
            "linecolor": "#EBF0F8",
            "showbackground": true,
            "ticks": "",
            "zerolinecolor": "#EBF0F8"
           }
          },
          "shapedefaults": {
           "line": {
            "color": "#2a3f5f"
           }
          },
          "ternary": {
           "aaxis": {
            "gridcolor": "#DFE8F3",
            "linecolor": "#A2B1C6",
            "ticks": ""
           },
           "baxis": {
            "gridcolor": "#DFE8F3",
            "linecolor": "#A2B1C6",
            "ticks": ""
           },
           "bgcolor": "white",
           "caxis": {
            "gridcolor": "#DFE8F3",
            "linecolor": "#A2B1C6",
            "ticks": ""
           }
          },
          "title": {
           "x": 0.05
          },
          "xaxis": {
           "automargin": true,
           "gridcolor": "#EBF0F8",
           "linecolor": "#EBF0F8",
           "ticks": "",
           "title": {
            "standoff": 15
           },
           "zerolinecolor": "#EBF0F8",
           "zerolinewidth": 2
          },
          "yaxis": {
           "automargin": true,
           "gridcolor": "#EBF0F8",
           "linecolor": "#EBF0F8",
           "ticks": "",
           "title": {
            "standoff": 15
           },
           "zerolinecolor": "#EBF0F8",
           "zerolinewidth": 2
          }
         }
        },
        "title": {
         "text": "CAC by MArketing CHannel"
        },
        "xaxis": {
         "anchor": "y",
         "domain": [
          0,
          1
         ],
         "title": {
          "text": "Marketing_Channel"
         }
        },
        "yaxis": {
         "anchor": "x",
         "domain": [
          0,
          1
         ],
         "title": {
          "text": "CAC"
         }
        }
       }
      }
     },
     "metadata": {},
     "output_type": "display_data"
    }
   ],
   "source": [
    "df['CAC'] = df['Marketing_Spend']/df['New_Customers']\n",
    "\n",
    "fig1 = px.bar(df, x='Marketing_Channel', y ='CAC', title = 'CAC by MArketing CHannel')\n",
    "fig1.show()"
   ]
  },
  {
   "cell_type": "code",
   "execution_count": 19,
   "metadata": {},
   "outputs": [
    {
     "data": {
      "application/vnd.plotly.v1+json": {
       "config": {
        "plotlyServerURL": "https://plot.ly"
       },
       "data": [
        {
         "hovertemplate": "Marketing_Channel=Email Marketing<br>New_Customers=%{x}<br>CAC=%{y}<extra></extra>",
         "legendgroup": "Email Marketing",
         "marker": {
          "color": "#636efa",
          "symbol": "circle"
         },
         "mode": "markers",
         "name": "Email Marketing",
         "orientation": "v",
         "showlegend": true,
         "type": "scatter",
         "x": [
          16,
          13,
          35,
          23,
          11,
          13,
          25,
          14,
          48,
          27,
          19,
          26,
          17,
          18,
          10,
          13,
          40,
          38,
          42,
          42,
          24,
          49,
          41,
          19,
          18,
          45,
          43,
          16,
          37,
          38,
          24,
          31,
          30,
          14,
          15,
          37,
          33,
          46,
          24,
          16,
          17,
          46,
          49,
          48,
          31,
          19,
          23,
          34,
          13,
          29,
          12,
          13,
          10,
          23,
          23,
          18,
          41,
          37,
          24,
          42,
          32,
          14,
          37,
          14,
          15,
          37,
          25,
          43,
          24,
          20,
          14,
          50,
          19,
          22,
          21,
          41,
          46,
          50,
          29,
          42,
          38,
          38,
          43,
          49,
          33,
          28,
          31,
          48,
          13,
          50,
          31,
          28,
          29,
          18,
          15,
          31,
          18,
          21,
          23,
          24,
          12,
          49,
          34,
          36,
          38,
          44,
          40,
          22,
          33,
          38,
          28,
          36,
          22,
          48,
          45,
          17,
          28,
          27,
          15,
          24,
          34,
          15,
          33,
          19
         ],
         "xaxis": "x",
         "y": [
          218.06424024351617,
          85.26216810471152,
          102.02853120106694,
          100.3210095445754,
          364.3672085653763,
          332.8997800477762,
          53.10499724186282,
          171.4172410629097,
          33.53186214873253,
          136.21612512887563,
          171.36201724842508,
          156.44586128557552,
          201.7052926802192,
          81.00730475086614,
          427.72046972443405,
          296.92760155368256,
          110.02932390887963,
          89.5170120859836,
          117.50898585854013,
          59.10198821124344,
          125.99346494617964,
          48.263769376431284,
          50.73974598901472,
          109.13590274720532,
          240.16244864235634,
          76.47392926493517,
          40.17114950304109,
          131.56714393904622,
          104.87293665991288,
          77.74503651039868,
          168.02744224707774,
          115.60037416012287,
          110.87407804431562,
          165.9403706274086,
          254.0946512495384,
          40.07090645970874,
          44.794514091521556,
          69.85730146074854,
          187.11995583308908,
          206.01605490658307,
          70.91216874907714,
          63.28079889266849,
          71.79148628179578,
          46.15295932018564,
          61.3789854277464,
          233.7192980686695,
          158.3353282073107,
          47.889069809514965,
          280.3640131856517,
          39.98079781842939,
          227.34288805359085,
          372.89572375164204,
          434.3834455624725,
          143.5128885599879,
          217.3169420656437,
          204.95146317849762,
          113.76319882212366,
          46.64747537547307,
          99.66017604910841,
          55.55318034905638,
          138.46663680004406,
          165.65818959399007,
          129.21011238521197,
          201.37883102906557,
          314.0460695585194,
          74.39092919701386,
          59.42817333801917,
          37.98866640048673,
          193.821646414028,
          73.49322981791151,
          309.1837639339718,
          77.32826607934328,
          237.75289582031075,
          95.68134596764381,
          198.09641561964068,
          53.517643880172415,
          108.60020288950771,
          23.491783927784155,
          102.80395167123082,
          92.25880240218886,
          30.094642088177533,
          118.1662350112727,
          87.81406165518459,
          94.1570662898356,
          126.80526850451051,
          89.26301282504501,
          105.28104024721767,
          86.87662282341277,
          129.2257381747992,
          26.317468052799573,
          63.33287636855652,
          71.99676277336319,
          115.52713174157537,
          149.84643076908839,
          292.081046704693,
          62.865251861622525,
          182.64948718905308,
          189.46073165053812,
          52.00769578713043,
          89.36569190986575,
          362.77903898750554,
          94.15540441411983,
          81.27331648974254,
          87.71197322049123,
          113.12524342551656,
          96.04440852670605,
          36.51697074497594,
          220.52605324888683,
          47.36448666737971,
          116.8569049367181,
          175.70603468312908,
          115.63132984321527,
          143.01314695801076,
          58.73216897782289,
          31.85298686215384,
          266.87878710937696,
          115.91534032141126,
          46.402524616325245,
          103.9405366685923,
          199.376922146991,
          78.72079451937915,
          264.60507060408423,
          49.03307907998,
          59.519218285273034
         ],
         "yaxis": "y"
        },
        {
         "hovertemplate": "<b>OLS trendline</b><br>CAC = -5.39481 * New_Customers + 288.798<br>R<sup>2</sup>=0.503723<br><br>Marketing_Channel=Email Marketing<br>New_Customers=%{x}<br>CAC=%{y} <b>(trend)</b><extra></extra>",
         "legendgroup": "Email Marketing",
         "marker": {
          "color": "#636efa",
          "symbol": "circle"
         },
         "mode": "lines",
         "name": "Email Marketing",
         "showlegend": false,
         "type": "scatter",
         "x": [
          10,
          10,
          11,
          12,
          12,
          13,
          13,
          13,
          13,
          13,
          13,
          14,
          14,
          14,
          14,
          14,
          15,
          15,
          15,
          15,
          15,
          16,
          16,
          16,
          17,
          17,
          17,
          18,
          18,
          18,
          18,
          18,
          19,
          19,
          19,
          19,
          19,
          20,
          21,
          21,
          22,
          22,
          22,
          23,
          23,
          23,
          23,
          23,
          24,
          24,
          24,
          24,
          24,
          24,
          24,
          25,
          25,
          26,
          27,
          27,
          28,
          28,
          28,
          28,
          29,
          29,
          29,
          30,
          31,
          31,
          31,
          31,
          31,
          32,
          33,
          33,
          33,
          33,
          34,
          34,
          34,
          35,
          36,
          36,
          37,
          37,
          37,
          37,
          37,
          38,
          38,
          38,
          38,
          38,
          38,
          40,
          40,
          41,
          41,
          41,
          42,
          42,
          42,
          42,
          43,
          43,
          43,
          44,
          45,
          45,
          46,
          46,
          46,
          48,
          48,
          48,
          48,
          49,
          49,
          49,
          49,
          50,
          50,
          50
         ],
         "xaxis": "x",
         "y": [
          234.84957595975578,
          234.84957595975578,
          229.45476530088527,
          224.0599546420148,
          224.0599546420148,
          218.6651439831443,
          218.6651439831443,
          218.6651439831443,
          218.6651439831443,
          218.6651439831443,
          218.6651439831443,
          213.2703333242738,
          213.2703333242738,
          213.2703333242738,
          213.2703333242738,
          213.2703333242738,
          207.8755226654033,
          207.8755226654033,
          207.8755226654033,
          207.8755226654033,
          207.8755226654033,
          202.48071200653283,
          202.48071200653283,
          202.48071200653283,
          197.08590134766234,
          197.08590134766234,
          197.08590134766234,
          191.69109068879186,
          191.69109068879186,
          191.69109068879186,
          191.69109068879186,
          191.69109068879186,
          186.29628002992135,
          186.29628002992135,
          186.29628002992135,
          186.29628002992135,
          186.29628002992135,
          180.90146937105087,
          175.50665871218038,
          175.50665871218038,
          170.11184805330987,
          170.11184805330987,
          170.11184805330987,
          164.7170373944394,
          164.7170373944394,
          164.7170373944394,
          164.7170373944394,
          164.7170373944394,
          159.3222267355689,
          159.3222267355689,
          159.3222267355689,
          159.3222267355689,
          159.3222267355689,
          159.3222267355689,
          159.3222267355689,
          153.92741607669842,
          153.92741607669842,
          148.53260541782794,
          143.13779475895743,
          143.13779475895743,
          137.74298410008694,
          137.74298410008694,
          137.74298410008694,
          137.74298410008694,
          132.34817344121646,
          132.34817344121646,
          132.34817344121646,
          126.95336278234595,
          121.55855212347547,
          121.55855212347547,
          121.55855212347547,
          121.55855212347547,
          121.55855212347547,
          116.16374146460498,
          110.7689308057345,
          110.7689308057345,
          110.7689308057345,
          110.7689308057345,
          105.37412014686402,
          105.37412014686402,
          105.37412014686402,
          99.9793094879935,
          94.58449882912302,
          94.58449882912302,
          89.18968817025254,
          89.18968817025254,
          89.18968817025254,
          89.18968817025254,
          89.18968817025254,
          83.79487751138203,
          83.79487751138203,
          83.79487751138203,
          83.79487751138203,
          83.79487751138203,
          83.79487751138203,
          73.00525619364106,
          73.00525619364106,
          67.61044553477058,
          67.61044553477058,
          67.61044553477058,
          62.21563487590009,
          62.21563487590009,
          62.21563487590009,
          62.21563487590009,
          56.82082421702958,
          56.82082421702958,
          56.82082421702958,
          51.4260135581591,
          46.031202899288616,
          46.031202899288616,
          40.636392240418104,
          40.636392240418104,
          40.636392240418104,
          29.846770922677138,
          29.846770922677138,
          29.846770922677138,
          29.846770922677138,
          24.451960263806654,
          24.451960263806654,
          24.451960263806654,
          24.451960263806654,
          19.05714960493617,
          19.05714960493617,
          19.05714960493617
         ],
         "yaxis": "y"
        },
        {
         "hovertemplate": "Marketing_Channel=Online Ads<br>New_Customers=%{x}<br>CAC=%{y}<extra></extra>",
         "legendgroup": "Online Ads",
         "marker": {
          "color": "#EF553B",
          "symbol": "circle"
         },
         "mode": "markers",
         "name": "Online Ads",
         "orientation": "v",
         "showlegend": true,
         "type": "scatter",
         "x": [
          33,
          32,
          22,
          39,
          15,
          50,
          48,
          31,
          46,
          23,
          24,
          31,
          32,
          25,
          30,
          11,
          21,
          43,
          33,
          47,
          29,
          39,
          40,
          48,
          50,
          30,
          34,
          48,
          42,
          23,
          39,
          26,
          15,
          18,
          13,
          17,
          37,
          28,
          32,
          40,
          32,
          24,
          37,
          49,
          45,
          11,
          27,
          27,
          29,
          32,
          10,
          19,
          50,
          39,
          29,
          30,
          13,
          15,
          38,
          27,
          42,
          24,
          29,
          28,
          17,
          10,
          21,
          18,
          44,
          12,
          11,
          46,
          28,
          17,
          39,
          37,
          35,
          29,
          31,
          42,
          32,
          25,
          19,
          14,
          47,
          38,
          30,
          19,
          38,
          29,
          14,
          15,
          42,
          12,
          38,
          46,
          31,
          42,
          25,
          34,
          14,
          47,
          29,
          37,
          33,
          29,
          18,
          19,
          14,
          28,
          44,
          31,
          48,
          19,
          49,
          38,
          33,
          25,
          43,
          26,
          16,
          43,
          15,
          42,
          36,
          24,
          11,
          16,
          12,
          40
         ],
         "xaxis": "x",
         "y": [
          33.57169114001669,
          101.79899787809677,
          129.39971710027487,
          64.5234732500656,
          123.10940912306177,
          80.89837663152218,
          52.42718463034469,
          64.80922990740395,
          68.64513460195944,
          179.3448781931991,
          199.93528878599818,
          57.98202353064941,
          151.84009662926096,
          57.29579994521705,
          74.92763258595936,
          337.21719521833046,
          230.1281596582659,
          81.60394377684135,
          44.976371523310924,
          87.88385926476765,
          49.03984422675843,
          124.18334022713626,
          95.73086437060769,
          81.75218452542686,
          39.50907513527648,
          83.8652405504352,
          32.78823503177525,
          91.74606969270492,
          56.22274696802701,
          58.36747164487327,
          75.9816753926755,
          111.2708444245423,
          138.91104719365234,
          174.63643675194442,
          133.89225921158828,
          182.26749861379008,
          48.01271114498091,
          61.348791955057614,
          65.53891584790841,
          74.0878694523779,
          89.92461811631378,
          178.68594088323843,
          70.34675051372321,
          24.784414227961886,
          35.48422973099157,
          295.57803530347786,
          184.28416632744003,
          126.86187425821673,
          143.5504592887475,
          96.57156689127724,
          280.2057859555017,
          180.97492889371165,
          79.20714443876359,
          33.33998655396594,
          74.65645365945208,
          64.19683127413678,
          288.4261292526901,
          315.6449222521369,
          33.83261440587518,
          82.60915742433075,
          78.0197189827707,
          95.38693055971667,
          165.62569349053135,
          41.46166759208803,
          169.52960547097263,
          360.6037957734745,
          159.1104048148294,
          196.61882654535265,
          31.022036935802472,
          179.4059317871519,
          386.75128535926274,
          56.88478756528224,
          113.22765633674214,
          156.05825195278152,
          46.51879367695117,
          132.23208819693994,
          91.68587532042663,
          47.33920017676173,
          160.29124379293157,
          71.27385759116144,
          61.71636325939229,
          187.4989039890499,
          249.31545130158318,
          216.496478802759,
          62.94811460899583,
          41.95741246134622,
          76.23698003053832,
          92.3478681488643,
          99.73667659163908,
          137.2007105607167,
          351.6623253313672,
          188.51415319313128,
          86.16965013597465,
          314.2348661956273,
          94.71964763992344,
          95.8056775957123,
          113.69819572317944,
          118.8024688529729,
          55.750900221311674,
          46.53762302345865,
          248.48867672497582,
          34.72132953802442,
          61.960965394329975,
          58.943865284677756,
          98.90048690372109,
          129.07579210124305,
          233.08002655724417,
          180.43473645563495,
          172.09170166723328,
          126.65969685798457,
          88.26621606097355,
          113.32233595959978,
          46.57774032938634,
          174.64711691966374,
          44.498812377890225,
          44.80421794150596,
          148.05934317713212,
          124.9363797924456,
          57.28139994470385,
          141.8985842078482,
          120.9554755528958,
          25.583688339207658,
          310.7349089981759,
          110.4178703264659,
          126.36214539205581,
          110.8140879061345,
          126.91695807655582,
          164.52897142442512,
          231.1276953535672,
          110.54501933059547
         ],
         "yaxis": "y"
        },
        {
         "hovertemplate": "<b>OLS trendline</b><br>CAC = -5.19966 * New_Customers + 277.966<br>R<sup>2</sup>=0.554830<br><br>Marketing_Channel=Online Ads<br>New_Customers=%{x}<br>CAC=%{y} <b>(trend)</b><extra></extra>",
         "legendgroup": "Online Ads",
         "marker": {
          "color": "#EF553B",
          "symbol": "circle"
         },
         "mode": "lines",
         "name": "Online Ads",
         "showlegend": false,
         "type": "scatter",
         "x": [
          10,
          10,
          11,
          11,
          11,
          11,
          12,
          12,
          12,
          13,
          13,
          14,
          14,
          14,
          14,
          15,
          15,
          15,
          15,
          15,
          16,
          16,
          17,
          17,
          17,
          18,
          18,
          18,
          19,
          19,
          19,
          19,
          19,
          21,
          21,
          22,
          23,
          23,
          24,
          24,
          24,
          24,
          25,
          25,
          25,
          25,
          26,
          26,
          27,
          27,
          27,
          28,
          28,
          28,
          28,
          29,
          29,
          29,
          29,
          29,
          29,
          29,
          29,
          30,
          30,
          30,
          30,
          31,
          31,
          31,
          31,
          31,
          32,
          32,
          32,
          32,
          32,
          32,
          33,
          33,
          33,
          33,
          34,
          34,
          35,
          36,
          37,
          37,
          37,
          37,
          38,
          38,
          38,
          38,
          38,
          39,
          39,
          39,
          39,
          39,
          40,
          40,
          40,
          42,
          42,
          42,
          42,
          42,
          42,
          43,
          43,
          43,
          44,
          44,
          45,
          46,
          46,
          46,
          47,
          47,
          47,
          48,
          48,
          48,
          48,
          49,
          49,
          50,
          50,
          50
         ],
         "xaxis": "x",
         "y": [
          225.96924373601274,
          225.96924373601274,
          220.76957897260445,
          220.76957897260445,
          220.76957897260445,
          220.76957897260445,
          215.56991420919618,
          215.56991420919618,
          215.56991420919618,
          210.37024944578792,
          210.37024944578792,
          205.17058468237965,
          205.17058468237965,
          205.17058468237965,
          205.17058468237965,
          199.9709199189714,
          199.9709199189714,
          199.9709199189714,
          199.9709199189714,
          199.9709199189714,
          194.77125515556313,
          194.77125515556313,
          189.57159039215486,
          189.57159039215486,
          189.57159039215486,
          184.3719256287466,
          184.3719256287466,
          184.3719256287466,
          179.17226086533833,
          179.17226086533833,
          179.17226086533833,
          179.17226086533833,
          179.17226086533833,
          168.7729313385218,
          168.7729313385218,
          163.5732665751135,
          158.37360181170527,
          158.37360181170527,
          153.17393704829698,
          153.17393704829698,
          153.17393704829698,
          153.17393704829698,
          147.9742722848887,
          147.9742722848887,
          147.9742722848887,
          147.9742722848887,
          142.77460752148045,
          142.77460752148045,
          137.57494275807218,
          137.57494275807218,
          137.57494275807218,
          132.37527799466392,
          132.37527799466392,
          132.37527799466392,
          132.37527799466392,
          127.17561323125565,
          127.17561323125565,
          127.17561323125565,
          127.17561323125565,
          127.17561323125565,
          127.17561323125565,
          127.17561323125565,
          127.17561323125565,
          121.97594846784739,
          121.97594846784739,
          121.97594846784739,
          121.97594846784739,
          116.77628370443912,
          116.77628370443912,
          116.77628370443912,
          116.77628370443912,
          116.77628370443912,
          111.57661894103086,
          111.57661894103086,
          111.57661894103086,
          111.57661894103086,
          111.57661894103086,
          111.57661894103086,
          106.3769541776226,
          106.3769541776226,
          106.3769541776226,
          106.3769541776226,
          101.17728941421433,
          101.17728941421433,
          95.97762465080606,
          90.7779598873978,
          85.57829512398953,
          85.57829512398953,
          85.57829512398953,
          85.57829512398953,
          80.37863036058127,
          80.37863036058127,
          80.37863036058127,
          80.37863036058127,
          80.37863036058127,
          75.178965597173,
          75.178965597173,
          75.178965597173,
          75.178965597173,
          75.178965597173,
          69.97930083376474,
          69.97930083376474,
          69.97930083376474,
          59.57997130694818,
          59.57997130694818,
          59.57997130694818,
          59.57997130694818,
          59.57997130694818,
          59.57997130694818,
          54.380306543539916,
          54.380306543539916,
          54.380306543539916,
          49.18064178013165,
          49.18064178013165,
          43.980977016723386,
          38.78131225331512,
          38.78131225331512,
          38.78131225331512,
          33.58164748990686,
          33.58164748990686,
          33.58164748990686,
          28.38198272649859,
          28.38198272649859,
          28.38198272649859,
          28.38198272649859,
          23.182317963090327,
          23.182317963090327,
          17.982653199682034,
          17.982653199682034,
          17.982653199682034
         ],
         "yaxis": "y"
        },
        {
         "hovertemplate": "Marketing_Channel=Social Media<br>New_Customers=%{x}<br>CAC=%{y}<extra></extra>",
         "legendgroup": "Social Media",
         "marker": {
          "color": "#00cc96",
          "symbol": "circle"
         },
         "mode": "markers",
         "name": "Social Media",
         "orientation": "v",
         "showlegend": true,
         "type": "scatter",
         "x": [
          44,
          17,
          45,
          23,
          44,
          47,
          26,
          18,
          36,
          17,
          16,
          11,
          13,
          16,
          38,
          15,
          30,
          14,
          49,
          39,
          48,
          36,
          35,
          36,
          37,
          40,
          45,
          31,
          13,
          16,
          42,
          19,
          45,
          27,
          45,
          46,
          11,
          15,
          43,
          31,
          20,
          46,
          48,
          15,
          20,
          36,
          23,
          17,
          37,
          28,
          47,
          35,
          45,
          39,
          30,
          46,
          35,
          35,
          49,
          35,
          31,
          17,
          43,
          32,
          19,
          26,
          48,
          46,
          38,
          39,
          28,
          39,
          47,
          22,
          40,
          19,
          12,
          38,
          43,
          20,
          33,
          31,
          16,
          45,
          26,
          48,
          19,
          31,
          15,
          19,
          48,
          45,
          34,
          43,
          15,
          42,
          31,
          16,
          43,
          18,
          20,
          49,
          34,
          42,
          18,
          13,
          40,
          33,
          20,
          38,
          19,
          11,
          13,
          25,
          30,
          31,
          18,
          28
         ],
         "xaxis": "x",
         "y": [
          58.547296030882244,
          70.65520787967706,
          80.01280828887778,
          174.6492528799176,
          86.31499738601373,
          23.461993659358807,
          99.48529869486575,
          72.44366174290221,
          104.51271288144227,
          82.80030716375917,
          149.30094132711224,
          322.0309476732531,
          331.9099418469102,
          303.8684328095194,
          111.38939145334275,
          195.5993343688523,
          91.40993240051924,
          314.775188576952,
          92.37805583696098,
          107.46998531570222,
          94.19333164651879,
          104.51214882739144,
          119.19232778655056,
          38.117038950519074,
          60.13038163568522,
          99.59354367136098,
          89.97240973192027,
          158.27187392039443,
          146.91789645617067,
          306.07373277568445,
          90.23022789620899,
          235.4655152132514,
          61.37500427875647,
          176.45386618786713,
          28.807304022723535,
          107.82880525798242,
          435.48734557286474,
          122.07677488628035,
          42.88606467957145,
          32.603319045533645,
          140.10074092354049,
          83.21355042426376,
          79.4156298411431,
          187.7416870418782,
          207.56560532934628,
          46.21364324674719,
          173.73177775123884,
          126.73190313078628,
          101.47870175265878,
          170.38232010629153,
          63.86997252067452,
          57.18490313280046,
          81.78964529077204,
          82.0611906637726,
          75.26895428935573,
          49.849894458782146,
          87.38242883761203,
          50.00943330223166,
          82.44820702538914,
          55.91970998030289,
          91.79972828113333,
          178.5581211928263,
          48.690688066351086,
          100.15813461005871,
          133.38652910466317,
          171.3887591428597,
          55.411868629278764,
          68.57222414816293,
          107.95205001044829,
          29.437908855956533,
          98.61517282438244,
          73.79390779330585,
          103.76201111269934,
          200.4256975574351,
          56.666115393339965,
          212.50564407039238,
          227.9904906410419,
          93.02608724008329,
          64.52823736387961,
          59.19819373544256,
          65.86276072305562,
          144.62446434127162,
          290.7072540058887,
          34.943797344756405,
          77.7425704860237,
          21.61645262123925,
          222.02801620529394,
          148.54315143211392,
          247.36290285308783,
          145.62732286396093,
          41.67485203397511,
          56.41717768598626,
          86.25977188931954,
          76.72669117940885,
          331.38454496717264,
          116.947093769225,
          110.50406362277091,
          217.72279078257603,
          84.57502700620965,
          199.18680197567176,
          199.4961729876743,
          88.20184649529776,
          143.2082055647097,
          100.43691847814877,
          205.07297374972305,
          256.7877205083588,
          107.24173012267742,
          144.27780506418839,
          94.273440014798,
          113.0374054095208,
          116.25056305878952,
          126.25163586248058,
          118.66586114041122,
          191.35585372470916,
          98.57960503861527,
          155.03503553303995,
          137.8955463854301,
          171.5078814073467
         ],
         "yaxis": "y"
        },
        {
         "hovertemplate": "<b>OLS trendline</b><br>CAC = -4.65071 * New_Customers + 270.117<br>R<sup>2</sup>=0.513948<br><br>Marketing_Channel=Social Media<br>New_Customers=%{x}<br>CAC=%{y} <b>(trend)</b><extra></extra>",
         "legendgroup": "Social Media",
         "marker": {
          "color": "#00cc96",
          "symbol": "circle"
         },
         "mode": "lines",
         "name": "Social Media",
         "showlegend": false,
         "type": "scatter",
         "x": [
          11,
          11,
          11,
          12,
          13,
          13,
          13,
          13,
          14,
          15,
          15,
          15,
          15,
          15,
          16,
          16,
          16,
          16,
          16,
          17,
          17,
          17,
          17,
          18,
          18,
          18,
          18,
          19,
          19,
          19,
          19,
          19,
          19,
          20,
          20,
          20,
          20,
          20,
          22,
          23,
          23,
          25,
          26,
          26,
          26,
          27,
          28,
          28,
          28,
          30,
          30,
          30,
          31,
          31,
          31,
          31,
          31,
          31,
          31,
          32,
          33,
          33,
          34,
          34,
          35,
          35,
          35,
          35,
          35,
          36,
          36,
          36,
          36,
          37,
          37,
          38,
          38,
          38,
          38,
          39,
          39,
          39,
          39,
          40,
          40,
          40,
          42,
          42,
          42,
          43,
          43,
          43,
          43,
          43,
          44,
          44,
          45,
          45,
          45,
          45,
          45,
          45,
          45,
          46,
          46,
          46,
          46,
          47,
          47,
          47,
          48,
          48,
          48,
          48,
          48,
          49,
          49,
          49
         ],
         "xaxis": "x",
         "y": [
          218.9595887976321,
          218.9595887976321,
          218.9595887976321,
          214.30888119342552,
          209.65817358921896,
          209.65817358921896,
          209.65817358921896,
          209.65817358921896,
          205.0074659850124,
          200.35675838080581,
          200.35675838080581,
          200.35675838080581,
          200.35675838080581,
          200.35675838080581,
          195.70605077659923,
          195.70605077659923,
          195.70605077659923,
          195.70605077659923,
          195.70605077659923,
          191.05534317239267,
          191.05534317239267,
          191.05534317239267,
          191.05534317239267,
          186.4046355681861,
          186.4046355681861,
          186.4046355681861,
          186.4046355681861,
          181.75392796397952,
          181.75392796397952,
          181.75392796397952,
          181.75392796397952,
          181.75392796397952,
          181.75392796397952,
          177.10322035977293,
          177.10322035977293,
          177.10322035977293,
          177.10322035977293,
          177.10322035977293,
          167.80180515135982,
          163.15109754715323,
          163.15109754715323,
          153.84968233874008,
          149.19897473453352,
          149.19897473453352,
          149.19897473453352,
          144.54826713032696,
          139.89755952612038,
          139.89755952612038,
          139.89755952612038,
          130.59614431770723,
          130.59614431770723,
          130.59614431770723,
          125.94543671350064,
          125.94543671350064,
          125.94543671350064,
          125.94543671350064,
          125.94543671350064,
          125.94543671350064,
          125.94543671350064,
          121.29472910929408,
          116.64402150508752,
          116.64402150508752,
          111.99331390088093,
          111.99331390088093,
          107.34260629667438,
          107.34260629667438,
          107.34260629667438,
          107.34260629667438,
          107.34260629667438,
          102.69189869246779,
          102.69189869246779,
          102.69189869246779,
          102.69189869246779,
          98.04119108826123,
          98.04119108826123,
          93.39048348405464,
          93.39048348405464,
          93.39048348405464,
          93.39048348405464,
          88.73977587984808,
          88.73977587984808,
          88.73977587984808,
          88.73977587984808,
          84.0890682756415,
          84.0890682756415,
          84.0890682756415,
          74.78765306722835,
          74.78765306722835,
          74.78765306722835,
          70.13694546302179,
          70.13694546302179,
          70.13694546302179,
          70.13694546302179,
          70.13694546302179,
          65.4862378588152,
          65.4862378588152,
          60.83553025460864,
          60.83553025460864,
          60.83553025460864,
          60.83553025460864,
          60.83553025460864,
          60.83553025460864,
          60.83553025460864,
          56.184822650402054,
          56.184822650402054,
          56.184822650402054,
          56.184822650402054,
          51.534115046195495,
          51.534115046195495,
          51.534115046195495,
          46.883407441988936,
          46.883407441988936,
          46.883407441988936,
          46.883407441988936,
          46.883407441988936,
          42.23269983778235,
          42.23269983778235,
          42.23269983778235
         ],
         "yaxis": "y"
        },
        {
         "hovertemplate": "Marketing_Channel=Referral<br>New_Customers=%{x}<br>CAC=%{y}<extra></extra>",
         "legendgroup": "Referral",
         "marker": {
          "color": "#ab63fa",
          "symbol": "circle"
         },
         "mode": "markers",
         "name": "Referral",
         "orientation": "v",
         "showlegend": true,
         "type": "scatter",
         "x": [
          27,
          18,
          23,
          47,
          19,
          10,
          18,
          21,
          11,
          14,
          38,
          12,
          43,
          35,
          37,
          14,
          27,
          47,
          28,
          37,
          17,
          45,
          16,
          30,
          33,
          19,
          15,
          16,
          47,
          45,
          45,
          36,
          32,
          48,
          29,
          23,
          33,
          11,
          21,
          21,
          35,
          14,
          36,
          33,
          19,
          49,
          27,
          38,
          37,
          41,
          48,
          32,
          17,
          41,
          43,
          48,
          26,
          30,
          34,
          35,
          37,
          50,
          36,
          11,
          30,
          20,
          33,
          16,
          47,
          15,
          42,
          22,
          16,
          21,
          50,
          39,
          50,
          49,
          30,
          50,
          14,
          40,
          27,
          47,
          13,
          32,
          42,
          38,
          12,
          13,
          33,
          14,
          49,
          48,
          34,
          45,
          30,
          48,
          13,
          16,
          15,
          21,
          36,
          34,
          32,
          35,
          33,
          11,
          41,
          22,
          42,
          20,
          21,
          12,
          38,
          28,
          24,
          25,
          29,
          46,
          39,
          20,
          37,
          38,
          32,
          35,
          42,
          33
         ],
         "xaxis": "x",
         "y": [
          57.14066477489841,
          59.86295267778016,
          217.37527452334072,
          76.74507704203315,
          56.92210890954365,
          150.4883899496825,
          103.99212020144525,
          79.57888445100996,
          362.8820552564676,
          292.1373957003497,
          71.40821191944679,
          366.5252089998591,
          99.75171331070307,
          78.34138800087739,
          106.35624908252886,
          225.19225898521591,
          49.87598489713695,
          60.826252476870785,
          66.01712145424843,
          102.83067571158936,
          61.212026926747555,
          106.49445135795831,
          117.89910011813255,
          125.57162070602693,
          94.65720377524458,
          142.21132899057156,
          133.70764698691772,
          110.64607336287935,
          39.692309776902604,
          65.26209664112966,
          86.62977787493791,
          59.22207814166167,
          43.81576351134885,
          22.01236393800532,
          108.15656403691906,
          65.43991181885373,
          52.65014186546445,
          133.9823862587133,
          193.22732291927508,
          131.9468579084435,
          63.472027922212604,
          248.86494887775672,
          47.090394258492715,
          102.28014486297735,
          247.13916725948394,
          71.43330670728342,
          100.02058757099432,
          83.63814512742933,
          97.04159171918711,
          113.01575075244936,
          89.71926330417163,
          46.79420727183853,
          223.46674940605112,
          72.56538725317895,
          30.738776920865206,
          28.443907219248768,
          79.92477322570062,
          134.16917738834096,
          87.26185908129568,
          107.84841988382087,
          131.91186235768402,
          99.04953718254033,
          100.851154053681,
          222.46522150970006,
          134.19242054074317,
          175.0817484290018,
          96.87510776791899,
          237.06250728054306,
          73.09546102825234,
          213.55706853404533,
          103.30704243587566,
          223.68084229152282,
          189.5602228982235,
          203.9141853686816,
          42.627118662626124,
          85.83976640145241,
          47.609915335440604,
          65.46264629149478,
          105.7906750611564,
          56.427569349320095,
          234.7993262814003,
          48.356244605789314,
          141.5152416333337,
          90.33267255871291,
          195.71653922799453,
          114.21110368556684,
          101.9759573056719,
          79.18854211925957,
          280.060143103189,
          344.5231733422201,
          136.26549988537073,
          221.7003105164461,
          79.38316959760346,
          54.99821831219703,
          47.57190809077045,
          52.316554137905044,
          147.91229122243556,
          52.50078312688792,
          345.3486207380111,
          79.60518679538787,
          312.2477596747458,
          189.86026033103371,
          86.79625757208446,
          83.66469568882324,
          74.44570305538521,
          101.59299455542995,
          110.08846253680977,
          190.72013824662827,
          72.85144258769466,
          209.8464165261319,
          88.35851986889138,
          196.47195358784765,
          64.78730966594647,
          127.38659924892784,
          122.47231310333652,
          72.42429779475175,
          121.9746383122902,
          159.4494961147272,
          81.20210397267398,
          105.78262690980453,
          99.91966277697622,
          52.783731020180234,
          71.16711954545003,
          58.35416677431634,
          92.82807737227574,
          80.41642935873058,
          87.66535417620678,
          120.38062079068746
         ],
         "yaxis": "y"
        },
        {
         "hovertemplate": "<b>OLS trendline</b><br>CAC = -4.22997 * New_Customers + 248.906<br>R<sup>2</sup>=0.464859<br><br>Marketing_Channel=Referral<br>New_Customers=%{x}<br>CAC=%{y} <b>(trend)</b><extra></extra>",
         "legendgroup": "Referral",
         "marker": {
          "color": "#ab63fa",
          "symbol": "circle"
         },
         "mode": "lines",
         "name": "Referral",
         "showlegend": false,
         "type": "scatter",
         "x": [
          10,
          11,
          11,
          11,
          11,
          12,
          12,
          12,
          13,
          13,
          13,
          14,
          14,
          14,
          14,
          14,
          15,
          15,
          15,
          16,
          16,
          16,
          16,
          16,
          17,
          17,
          18,
          18,
          19,
          19,
          19,
          20,
          20,
          20,
          21,
          21,
          21,
          21,
          21,
          21,
          22,
          22,
          23,
          23,
          24,
          25,
          26,
          27,
          27,
          27,
          27,
          28,
          28,
          29,
          29,
          30,
          30,
          30,
          30,
          30,
          32,
          32,
          32,
          32,
          32,
          33,
          33,
          33,
          33,
          33,
          33,
          33,
          34,
          34,
          34,
          35,
          35,
          35,
          35,
          35,
          36,
          36,
          36,
          36,
          37,
          37,
          37,
          37,
          37,
          38,
          38,
          38,
          38,
          38,
          39,
          39,
          40,
          41,
          41,
          41,
          42,
          42,
          42,
          42,
          43,
          43,
          45,
          45,
          45,
          45,
          46,
          47,
          47,
          47,
          47,
          47,
          48,
          48,
          48,
          48,
          48,
          49,
          49,
          49,
          50,
          50,
          50,
          50
         ],
         "xaxis": "x",
         "y": [
          206.60649014340498,
          202.37652351731236,
          202.37652351731236,
          202.37652351731236,
          202.37652351731236,
          198.14655689121975,
          198.14655689121975,
          198.14655689121975,
          193.91659026512713,
          193.91659026512713,
          193.91659026512713,
          189.68662363903448,
          189.68662363903448,
          189.68662363903448,
          189.68662363903448,
          189.68662363903448,
          185.45665701294186,
          185.45665701294186,
          185.45665701294186,
          181.2266903868492,
          181.2266903868492,
          181.2266903868492,
          181.2266903868492,
          181.2266903868492,
          176.9967237607566,
          176.9967237607566,
          172.76675713466398,
          172.76675713466398,
          168.53679050857136,
          168.53679050857136,
          168.53679050857136,
          164.3068238824787,
          164.3068238824787,
          164.3068238824787,
          160.0768572563861,
          160.0768572563861,
          160.0768572563861,
          160.0768572563861,
          160.0768572563861,
          160.0768572563861,
          155.84689063029344,
          155.84689063029344,
          151.61692400420083,
          151.61692400420083,
          147.3869573781082,
          143.1569907520156,
          138.92702412592294,
          134.6970574998303,
          134.6970574998303,
          134.6970574998303,
          134.6970574998303,
          130.46709087373767,
          130.46709087373767,
          126.23712424764506,
          126.23712424764506,
          122.00715762155242,
          122.00715762155242,
          122.00715762155242,
          122.00715762155242,
          122.00715762155242,
          113.54722436936717,
          113.54722436936717,
          113.54722436936717,
          113.54722436936717,
          113.54722436936717,
          109.31725774327455,
          109.31725774327455,
          109.31725774327455,
          109.31725774327455,
          109.31725774327455,
          109.31725774327455,
          109.31725774327455,
          105.0872911171819,
          105.0872911171819,
          105.0872911171819,
          100.85732449108929,
          100.85732449108929,
          100.85732449108929,
          100.85732449108929,
          100.85732449108929,
          96.62735786499667,
          96.62735786499667,
          96.62735786499667,
          96.62735786499667,
          92.39739123890402,
          92.39739123890402,
          92.39739123890402,
          92.39739123890402,
          92.39739123890402,
          88.1674246128114,
          88.1674246128114,
          88.1674246128114,
          88.1674246128114,
          88.1674246128114,
          83.93745798671878,
          83.93745798671878,
          79.70749136062614,
          75.47752473453352,
          75.47752473453352,
          75.47752473453352,
          71.2475581084409,
          71.2475581084409,
          71.2475581084409,
          71.2475581084409,
          67.01759148234825,
          67.01759148234825,
          58.557658230163014,
          58.557658230163014,
          58.557658230163014,
          58.557658230163014,
          54.32769160407037,
          50.09772497797775,
          50.09772497797775,
          50.09772497797775,
          50.09772497797775,
          50.09772497797775,
          45.86775835188513,
          45.86775835188513,
          45.86775835188513,
          45.86775835188513,
          45.86775835188513,
          41.63779172579248,
          41.63779172579248,
          41.63779172579248,
          37.40782509969986,
          37.40782509969986,
          37.40782509969986,
          37.40782509969986
         ],
         "yaxis": "y"
        }
       ],
       "layout": {
        "legend": {
         "title": {
          "text": "Marketing_Channel"
         },
         "tracegroupgap": 0
        },
        "template": {
         "data": {
          "bar": [
           {
            "error_x": {
             "color": "#2a3f5f"
            },
            "error_y": {
             "color": "#2a3f5f"
            },
            "marker": {
             "line": {
              "color": "white",
              "width": 0.5
             },
             "pattern": {
              "fillmode": "overlay",
              "size": 10,
              "solidity": 0.2
             }
            },
            "type": "bar"
           }
          ],
          "barpolar": [
           {
            "marker": {
             "line": {
              "color": "white",
              "width": 0.5
             },
             "pattern": {
              "fillmode": "overlay",
              "size": 10,
              "solidity": 0.2
             }
            },
            "type": "barpolar"
           }
          ],
          "carpet": [
           {
            "aaxis": {
             "endlinecolor": "#2a3f5f",
             "gridcolor": "#C8D4E3",
             "linecolor": "#C8D4E3",
             "minorgridcolor": "#C8D4E3",
             "startlinecolor": "#2a3f5f"
            },
            "baxis": {
             "endlinecolor": "#2a3f5f",
             "gridcolor": "#C8D4E3",
             "linecolor": "#C8D4E3",
             "minorgridcolor": "#C8D4E3",
             "startlinecolor": "#2a3f5f"
            },
            "type": "carpet"
           }
          ],
          "choropleth": [
           {
            "colorbar": {
             "outlinewidth": 0,
             "ticks": ""
            },
            "type": "choropleth"
           }
          ],
          "contour": [
           {
            "colorbar": {
             "outlinewidth": 0,
             "ticks": ""
            },
            "colorscale": [
             [
              0,
              "#0d0887"
             ],
             [
              0.1111111111111111,
              "#46039f"
             ],
             [
              0.2222222222222222,
              "#7201a8"
             ],
             [
              0.3333333333333333,
              "#9c179e"
             ],
             [
              0.4444444444444444,
              "#bd3786"
             ],
             [
              0.5555555555555556,
              "#d8576b"
             ],
             [
              0.6666666666666666,
              "#ed7953"
             ],
             [
              0.7777777777777778,
              "#fb9f3a"
             ],
             [
              0.8888888888888888,
              "#fdca26"
             ],
             [
              1,
              "#f0f921"
             ]
            ],
            "type": "contour"
           }
          ],
          "contourcarpet": [
           {
            "colorbar": {
             "outlinewidth": 0,
             "ticks": ""
            },
            "type": "contourcarpet"
           }
          ],
          "heatmap": [
           {
            "colorbar": {
             "outlinewidth": 0,
             "ticks": ""
            },
            "colorscale": [
             [
              0,
              "#0d0887"
             ],
             [
              0.1111111111111111,
              "#46039f"
             ],
             [
              0.2222222222222222,
              "#7201a8"
             ],
             [
              0.3333333333333333,
              "#9c179e"
             ],
             [
              0.4444444444444444,
              "#bd3786"
             ],
             [
              0.5555555555555556,
              "#d8576b"
             ],
             [
              0.6666666666666666,
              "#ed7953"
             ],
             [
              0.7777777777777778,
              "#fb9f3a"
             ],
             [
              0.8888888888888888,
              "#fdca26"
             ],
             [
              1,
              "#f0f921"
             ]
            ],
            "type": "heatmap"
           }
          ],
          "heatmapgl": [
           {
            "colorbar": {
             "outlinewidth": 0,
             "ticks": ""
            },
            "colorscale": [
             [
              0,
              "#0d0887"
             ],
             [
              0.1111111111111111,
              "#46039f"
             ],
             [
              0.2222222222222222,
              "#7201a8"
             ],
             [
              0.3333333333333333,
              "#9c179e"
             ],
             [
              0.4444444444444444,
              "#bd3786"
             ],
             [
              0.5555555555555556,
              "#d8576b"
             ],
             [
              0.6666666666666666,
              "#ed7953"
             ],
             [
              0.7777777777777778,
              "#fb9f3a"
             ],
             [
              0.8888888888888888,
              "#fdca26"
             ],
             [
              1,
              "#f0f921"
             ]
            ],
            "type": "heatmapgl"
           }
          ],
          "histogram": [
           {
            "marker": {
             "pattern": {
              "fillmode": "overlay",
              "size": 10,
              "solidity": 0.2
             }
            },
            "type": "histogram"
           }
          ],
          "histogram2d": [
           {
            "colorbar": {
             "outlinewidth": 0,
             "ticks": ""
            },
            "colorscale": [
             [
              0,
              "#0d0887"
             ],
             [
              0.1111111111111111,
              "#46039f"
             ],
             [
              0.2222222222222222,
              "#7201a8"
             ],
             [
              0.3333333333333333,
              "#9c179e"
             ],
             [
              0.4444444444444444,
              "#bd3786"
             ],
             [
              0.5555555555555556,
              "#d8576b"
             ],
             [
              0.6666666666666666,
              "#ed7953"
             ],
             [
              0.7777777777777778,
              "#fb9f3a"
             ],
             [
              0.8888888888888888,
              "#fdca26"
             ],
             [
              1,
              "#f0f921"
             ]
            ],
            "type": "histogram2d"
           }
          ],
          "histogram2dcontour": [
           {
            "colorbar": {
             "outlinewidth": 0,
             "ticks": ""
            },
            "colorscale": [
             [
              0,
              "#0d0887"
             ],
             [
              0.1111111111111111,
              "#46039f"
             ],
             [
              0.2222222222222222,
              "#7201a8"
             ],
             [
              0.3333333333333333,
              "#9c179e"
             ],
             [
              0.4444444444444444,
              "#bd3786"
             ],
             [
              0.5555555555555556,
              "#d8576b"
             ],
             [
              0.6666666666666666,
              "#ed7953"
             ],
             [
              0.7777777777777778,
              "#fb9f3a"
             ],
             [
              0.8888888888888888,
              "#fdca26"
             ],
             [
              1,
              "#f0f921"
             ]
            ],
            "type": "histogram2dcontour"
           }
          ],
          "mesh3d": [
           {
            "colorbar": {
             "outlinewidth": 0,
             "ticks": ""
            },
            "type": "mesh3d"
           }
          ],
          "parcoords": [
           {
            "line": {
             "colorbar": {
              "outlinewidth": 0,
              "ticks": ""
             }
            },
            "type": "parcoords"
           }
          ],
          "pie": [
           {
            "automargin": true,
            "type": "pie"
           }
          ],
          "scatter": [
           {
            "fillpattern": {
             "fillmode": "overlay",
             "size": 10,
             "solidity": 0.2
            },
            "type": "scatter"
           }
          ],
          "scatter3d": [
           {
            "line": {
             "colorbar": {
              "outlinewidth": 0,
              "ticks": ""
             }
            },
            "marker": {
             "colorbar": {
              "outlinewidth": 0,
              "ticks": ""
             }
            },
            "type": "scatter3d"
           }
          ],
          "scattercarpet": [
           {
            "marker": {
             "colorbar": {
              "outlinewidth": 0,
              "ticks": ""
             }
            },
            "type": "scattercarpet"
           }
          ],
          "scattergeo": [
           {
            "marker": {
             "colorbar": {
              "outlinewidth": 0,
              "ticks": ""
             }
            },
            "type": "scattergeo"
           }
          ],
          "scattergl": [
           {
            "marker": {
             "colorbar": {
              "outlinewidth": 0,
              "ticks": ""
             }
            },
            "type": "scattergl"
           }
          ],
          "scattermapbox": [
           {
            "marker": {
             "colorbar": {
              "outlinewidth": 0,
              "ticks": ""
             }
            },
            "type": "scattermapbox"
           }
          ],
          "scatterpolar": [
           {
            "marker": {
             "colorbar": {
              "outlinewidth": 0,
              "ticks": ""
             }
            },
            "type": "scatterpolar"
           }
          ],
          "scatterpolargl": [
           {
            "marker": {
             "colorbar": {
              "outlinewidth": 0,
              "ticks": ""
             }
            },
            "type": "scatterpolargl"
           }
          ],
          "scatterternary": [
           {
            "marker": {
             "colorbar": {
              "outlinewidth": 0,
              "ticks": ""
             }
            },
            "type": "scatterternary"
           }
          ],
          "surface": [
           {
            "colorbar": {
             "outlinewidth": 0,
             "ticks": ""
            },
            "colorscale": [
             [
              0,
              "#0d0887"
             ],
             [
              0.1111111111111111,
              "#46039f"
             ],
             [
              0.2222222222222222,
              "#7201a8"
             ],
             [
              0.3333333333333333,
              "#9c179e"
             ],
             [
              0.4444444444444444,
              "#bd3786"
             ],
             [
              0.5555555555555556,
              "#d8576b"
             ],
             [
              0.6666666666666666,
              "#ed7953"
             ],
             [
              0.7777777777777778,
              "#fb9f3a"
             ],
             [
              0.8888888888888888,
              "#fdca26"
             ],
             [
              1,
              "#f0f921"
             ]
            ],
            "type": "surface"
           }
          ],
          "table": [
           {
            "cells": {
             "fill": {
              "color": "#EBF0F8"
             },
             "line": {
              "color": "white"
             }
            },
            "header": {
             "fill": {
              "color": "#C8D4E3"
             },
             "line": {
              "color": "white"
             }
            },
            "type": "table"
           }
          ]
         },
         "layout": {
          "annotationdefaults": {
           "arrowcolor": "#2a3f5f",
           "arrowhead": 0,
           "arrowwidth": 1
          },
          "autotypenumbers": "strict",
          "coloraxis": {
           "colorbar": {
            "outlinewidth": 0,
            "ticks": ""
           }
          },
          "colorscale": {
           "diverging": [
            [
             0,
             "#8e0152"
            ],
            [
             0.1,
             "#c51b7d"
            ],
            [
             0.2,
             "#de77ae"
            ],
            [
             0.3,
             "#f1b6da"
            ],
            [
             0.4,
             "#fde0ef"
            ],
            [
             0.5,
             "#f7f7f7"
            ],
            [
             0.6,
             "#e6f5d0"
            ],
            [
             0.7,
             "#b8e186"
            ],
            [
             0.8,
             "#7fbc41"
            ],
            [
             0.9,
             "#4d9221"
            ],
            [
             1,
             "#276419"
            ]
           ],
           "sequential": [
            [
             0,
             "#0d0887"
            ],
            [
             0.1111111111111111,
             "#46039f"
            ],
            [
             0.2222222222222222,
             "#7201a8"
            ],
            [
             0.3333333333333333,
             "#9c179e"
            ],
            [
             0.4444444444444444,
             "#bd3786"
            ],
            [
             0.5555555555555556,
             "#d8576b"
            ],
            [
             0.6666666666666666,
             "#ed7953"
            ],
            [
             0.7777777777777778,
             "#fb9f3a"
            ],
            [
             0.8888888888888888,
             "#fdca26"
            ],
            [
             1,
             "#f0f921"
            ]
           ],
           "sequentialminus": [
            [
             0,
             "#0d0887"
            ],
            [
             0.1111111111111111,
             "#46039f"
            ],
            [
             0.2222222222222222,
             "#7201a8"
            ],
            [
             0.3333333333333333,
             "#9c179e"
            ],
            [
             0.4444444444444444,
             "#bd3786"
            ],
            [
             0.5555555555555556,
             "#d8576b"
            ],
            [
             0.6666666666666666,
             "#ed7953"
            ],
            [
             0.7777777777777778,
             "#fb9f3a"
            ],
            [
             0.8888888888888888,
             "#fdca26"
            ],
            [
             1,
             "#f0f921"
            ]
           ]
          },
          "colorway": [
           "#636efa",
           "#EF553B",
           "#00cc96",
           "#ab63fa",
           "#FFA15A",
           "#19d3f3",
           "#FF6692",
           "#B6E880",
           "#FF97FF",
           "#FECB52"
          ],
          "font": {
           "color": "#2a3f5f"
          },
          "geo": {
           "bgcolor": "white",
           "lakecolor": "white",
           "landcolor": "white",
           "showlakes": true,
           "showland": true,
           "subunitcolor": "#C8D4E3"
          },
          "hoverlabel": {
           "align": "left"
          },
          "hovermode": "closest",
          "mapbox": {
           "style": "light"
          },
          "paper_bgcolor": "white",
          "plot_bgcolor": "white",
          "polar": {
           "angularaxis": {
            "gridcolor": "#EBF0F8",
            "linecolor": "#EBF0F8",
            "ticks": ""
           },
           "bgcolor": "white",
           "radialaxis": {
            "gridcolor": "#EBF0F8",
            "linecolor": "#EBF0F8",
            "ticks": ""
           }
          },
          "scene": {
           "xaxis": {
            "backgroundcolor": "white",
            "gridcolor": "#DFE8F3",
            "gridwidth": 2,
            "linecolor": "#EBF0F8",
            "showbackground": true,
            "ticks": "",
            "zerolinecolor": "#EBF0F8"
           },
           "yaxis": {
            "backgroundcolor": "white",
            "gridcolor": "#DFE8F3",
            "gridwidth": 2,
            "linecolor": "#EBF0F8",
            "showbackground": true,
            "ticks": "",
            "zerolinecolor": "#EBF0F8"
           },
           "zaxis": {
            "backgroundcolor": "white",
            "gridcolor": "#DFE8F3",
            "gridwidth": 2,
            "linecolor": "#EBF0F8",
            "showbackground": true,
            "ticks": "",
            "zerolinecolor": "#EBF0F8"
           }
          },
          "shapedefaults": {
           "line": {
            "color": "#2a3f5f"
           }
          },
          "ternary": {
           "aaxis": {
            "gridcolor": "#DFE8F3",
            "linecolor": "#A2B1C6",
            "ticks": ""
           },
           "baxis": {
            "gridcolor": "#DFE8F3",
            "linecolor": "#A2B1C6",
            "ticks": ""
           },
           "bgcolor": "white",
           "caxis": {
            "gridcolor": "#DFE8F3",
            "linecolor": "#A2B1C6",
            "ticks": ""
           }
          },
          "title": {
           "x": 0.05
          },
          "xaxis": {
           "automargin": true,
           "gridcolor": "#EBF0F8",
           "linecolor": "#EBF0F8",
           "ticks": "",
           "title": {
            "standoff": 15
           },
           "zerolinecolor": "#EBF0F8",
           "zerolinewidth": 2
          },
          "yaxis": {
           "automargin": true,
           "gridcolor": "#EBF0F8",
           "linecolor": "#EBF0F8",
           "ticks": "",
           "title": {
            "standoff": 15
           },
           "zerolinecolor": "#EBF0F8",
           "zerolinewidth": 2
          }
         }
        },
        "title": {
         "text": "New Customers vs. CAC"
        },
        "xaxis": {
         "anchor": "y",
         "domain": [
          0,
          1
         ],
         "title": {
          "text": "New_Customers"
         }
        },
        "yaxis": {
         "anchor": "x",
         "domain": [
          0,
          1
         ],
         "title": {
          "text": "CAC"
         }
        }
       }
      }
     },
     "metadata": {},
     "output_type": "display_data"
    }
   ],
   "source": [
    "fig2 = px.scatter(df, x='New_Customers', \n",
    "                  y='CAC', color='Marketing_Channel', \n",
    "                  title='New Customers vs. CAC', \n",
    "                  trendline='ols')\n",
    "fig2.show()"
   ]
  },
  {
   "cell_type": "code",
   "execution_count": 14,
   "metadata": {},
   "outputs": [
    {
     "name": "stdout",
     "output_type": "stream",
     "text": [
      "                   count        mean        std        min        25%  \\\n",
      "Marketing_Channel                                                       \n",
      "Email Marketing    124.0  132.913758  89.597107  23.491784  68.226195   \n",
      "Online Ads         130.0  122.135938  79.543793  24.784414  62.207753   \n",
      "Referral           128.0  119.892174  74.101916  22.012364  71.347939   \n",
      "Social Media       118.0  126.181913  77.498788  21.616453  75.633389   \n",
      "\n",
      "                          50%         75%         max  \n",
      "Marketing_Channel                                      \n",
      "Email Marketing    106.940622  177.441898  434.383446  \n",
      "Online Ads          97.736027  163.469540  386.751285  \n",
      "Referral            99.835688  137.577935  366.525209  \n",
      "Social Media       102.620356  167.354709  435.487346  \n"
     ]
    }
   ],
   "source": [
    "summary_stats = df.groupby('Marketing_Channel')['CAC'].describe()\n",
    "print(summary_stats)"
   ]
  },
  {
   "cell_type": "code",
   "execution_count": 15,
   "metadata": {},
   "outputs": [
    {
     "data": {
      "application/vnd.plotly.v1+json": {
       "config": {
        "plotlyServerURL": "https://plot.ly"
       },
       "data": [
        {
         "alignmentgroup": "True",
         "hovertemplate": "Marketing_Channel=%{x}<br>Conversion_Rate=%{y}<extra></extra>",
         "legendgroup": "",
         "marker": {
          "color": "#636efa",
          "pattern": {
           "shape": ""
          }
         },
         "name": "",
         "offsetgroup": "",
         "orientation": "v",
         "showlegend": false,
         "textposition": "auto",
         "type": "bar",
         "x": [
          "Email Marketing",
          "Online Ads",
          "Social Media",
          "Online Ads",
          "Email Marketing",
          "Email Marketing",
          "Referral",
          "Online Ads",
          "Social Media",
          "Online Ads",
          "Online Ads",
          "Email Marketing",
          "Online Ads",
          "Online Ads",
          "Email Marketing",
          "Email Marketing",
          "Online Ads",
          "Email Marketing",
          "Referral",
          "Online Ads",
          "Referral",
          "Email Marketing",
          "Social Media",
          "Online Ads",
          "Referral",
          "Social Media",
          "Online Ads",
          "Online Ads",
          "Referral",
          "Email Marketing",
          "Referral",
          "Email Marketing",
          "Email Marketing",
          "Referral",
          "Social Media",
          "Email Marketing",
          "Referral",
          "Email Marketing",
          "Referral",
          "Email Marketing",
          "Email Marketing",
          "Online Ads",
          "Online Ads",
          "Social Media",
          "Online Ads",
          "Online Ads",
          "Online Ads",
          "Social Media",
          "Email Marketing",
          "Social Media",
          "Social Media",
          "Online Ads",
          "Social Media",
          "Referral",
          "Email Marketing",
          "Email Marketing",
          "Online Ads",
          "Email Marketing",
          "Online Ads",
          "Social Media",
          "Referral",
          "Email Marketing",
          "Email Marketing",
          "Email Marketing",
          "Referral",
          "Referral",
          "Online Ads",
          "Online Ads",
          "Social Media",
          "Social Media",
          "Online Ads",
          "Referral",
          "Referral",
          "Social Media",
          "Email Marketing",
          "Social Media",
          "Referral",
          "Social Media",
          "Social Media",
          "Online Ads",
          "Email Marketing",
          "Social Media",
          "Email Marketing",
          "Referral",
          "Social Media",
          "Online Ads",
          "Referral",
          "Email Marketing",
          "Online Ads",
          "Online Ads",
          "Online Ads",
          "Email Marketing",
          "Referral",
          "Social Media",
          "Online Ads",
          "Social Media",
          "Referral",
          "Email Marketing",
          "Referral",
          "Referral",
          "Online Ads",
          "Email Marketing",
          "Email Marketing",
          "Email Marketing",
          "Social Media",
          "Email Marketing",
          "Online Ads",
          "Social Media",
          "Social Media",
          "Referral",
          "Referral",
          "Social Media",
          "Email Marketing",
          "Online Ads",
          "Referral",
          "Referral",
          "Social Media",
          "Email Marketing",
          "Email Marketing",
          "Online Ads",
          "Referral",
          "Email Marketing",
          "Referral",
          "Email Marketing",
          "Online Ads",
          "Social Media",
          "Online Ads",
          "Referral",
          "Referral",
          "Referral",
          "Social Media",
          "Online Ads",
          "Referral",
          "Referral",
          "Online Ads",
          "Social Media",
          "Online Ads",
          "Referral",
          "Referral",
          "Online Ads",
          "Social Media",
          "Email Marketing",
          "Social Media",
          "Referral",
          "Social Media",
          "Online Ads",
          "Email Marketing",
          "Email Marketing",
          "Online Ads",
          "Social Media",
          "Referral",
          "Email Marketing",
          "Social Media",
          "Email Marketing",
          "Online Ads",
          "Online Ads",
          "Social Media",
          "Email Marketing",
          "Online Ads",
          "Online Ads",
          "Online Ads",
          "Email Marketing",
          "Online Ads",
          "Referral",
          "Referral",
          "Online Ads",
          "Online Ads",
          "Email Marketing",
          "Online Ads",
          "Online Ads",
          "Referral",
          "Email Marketing",
          "Social Media",
          "Referral",
          "Referral",
          "Online Ads",
          "Online Ads",
          "Social Media",
          "Social Media",
          "Social Media",
          "Email Marketing",
          "Email Marketing",
          "Referral",
          "Online Ads",
          "Social Media",
          "Social Media",
          "Referral",
          "Online Ads",
          "Online Ads",
          "Social Media",
          "Social Media",
          "Social Media",
          "Online Ads",
          "Referral",
          "Social Media",
          "Referral",
          "Email Marketing",
          "Online Ads",
          "Referral",
          "Referral",
          "Referral",
          "Referral",
          "Referral",
          "Online Ads",
          "Social Media",
          "Online Ads",
          "Social Media",
          "Online Ads",
          "Social Media",
          "Referral",
          "Social Media",
          "Referral",
          "Social Media",
          "Social Media",
          "Referral",
          "Referral",
          "Email Marketing",
          "Email Marketing",
          "Online Ads",
          "Social Media",
          "Referral",
          "Email Marketing",
          "Email Marketing",
          "Email Marketing",
          "Online Ads",
          "Email Marketing",
          "Email Marketing",
          "Referral",
          "Online Ads",
          "Referral",
          "Online Ads",
          "Online Ads",
          "Email Marketing",
          "Email Marketing",
          "Online Ads",
          "Online Ads",
          "Referral",
          "Online Ads",
          "Email Marketing",
          "Email Marketing",
          "Social Media",
          "Email Marketing",
          "Email Marketing",
          "Referral",
          "Online Ads",
          "Email Marketing",
          "Online Ads",
          "Social Media",
          "Email Marketing",
          "Social Media",
          "Social Media",
          "Referral",
          "Online Ads",
          "Social Media",
          "Referral",
          "Referral",
          "Online Ads",
          "Online Ads",
          "Social Media",
          "Referral",
          "Referral",
          "Referral",
          "Social Media",
          "Online Ads",
          "Referral",
          "Email Marketing",
          "Email Marketing",
          "Referral",
          "Email Marketing",
          "Online Ads",
          "Referral",
          "Social Media",
          "Email Marketing",
          "Referral",
          "Online Ads",
          "Online Ads",
          "Online Ads",
          "Email Marketing",
          "Social Media",
          "Email Marketing",
          "Email Marketing",
          "Online Ads",
          "Email Marketing",
          "Social Media",
          "Social Media",
          "Referral",
          "Referral",
          "Online Ads",
          "Social Media",
          "Social Media",
          "Online Ads",
          "Referral",
          "Email Marketing",
          "Social Media",
          "Email Marketing",
          "Email Marketing",
          "Social Media",
          "Online Ads",
          "Online Ads",
          "Referral",
          "Referral",
          "Email Marketing",
          "Referral",
          "Email Marketing",
          "Online Ads",
          "Online Ads",
          "Social Media",
          "Referral",
          "Referral",
          "Referral",
          "Referral",
          "Online Ads",
          "Online Ads",
          "Online Ads",
          "Referral",
          "Referral",
          "Social Media",
          "Email Marketing",
          "Online Ads",
          "Referral",
          "Referral",
          "Referral",
          "Referral",
          "Referral",
          "Online Ads",
          "Email Marketing",
          "Social Media",
          "Referral",
          "Referral",
          "Referral",
          "Referral",
          "Social Media",
          "Referral",
          "Online Ads",
          "Referral",
          "Referral",
          "Online Ads",
          "Referral",
          "Social Media",
          "Social Media",
          "Referral",
          "Online Ads",
          "Online Ads",
          "Online Ads",
          "Social Media",
          "Referral",
          "Referral",
          "Social Media",
          "Email Marketing",
          "Social Media",
          "Referral",
          "Email Marketing",
          "Referral",
          "Online Ads",
          "Referral",
          "Online Ads",
          "Referral",
          "Social Media",
          "Online Ads",
          "Social Media",
          "Email Marketing",
          "Social Media",
          "Email Marketing",
          "Email Marketing",
          "Social Media",
          "Email Marketing",
          "Social Media",
          "Email Marketing",
          "Online Ads",
          "Referral",
          "Email Marketing",
          "Email Marketing",
          "Email Marketing",
          "Email Marketing",
          "Social Media",
          "Online Ads",
          "Email Marketing",
          "Social Media",
          "Social Media",
          "Referral",
          "Email Marketing",
          "Social Media",
          "Social Media",
          "Social Media",
          "Social Media",
          "Social Media",
          "Online Ads",
          "Social Media",
          "Referral",
          "Email Marketing",
          "Referral",
          "Email Marketing",
          "Social Media",
          "Email Marketing",
          "Online Ads",
          "Social Media",
          "Social Media",
          "Email Marketing",
          "Email Marketing",
          "Social Media",
          "Social Media",
          "Online Ads",
          "Social Media",
          "Referral",
          "Referral",
          "Online Ads",
          "Online Ads",
          "Email Marketing",
          "Email Marketing",
          "Social Media",
          "Referral",
          "Referral",
          "Email Marketing",
          "Online Ads",
          "Online Ads",
          "Online Ads",
          "Online Ads",
          "Social Media",
          "Referral",
          "Online Ads",
          "Social Media",
          "Email Marketing",
          "Online Ads",
          "Email Marketing",
          "Social Media",
          "Online Ads",
          "Email Marketing",
          "Online Ads",
          "Referral",
          "Referral",
          "Online Ads",
          "Social Media",
          "Online Ads",
          "Referral",
          "Email Marketing",
          "Online Ads",
          "Online Ads",
          "Referral",
          "Social Media",
          "Referral",
          "Email Marketing",
          "Referral",
          "Email Marketing",
          "Referral",
          "Referral",
          "Email Marketing",
          "Email Marketing",
          "Email Marketing",
          "Referral",
          "Email Marketing",
          "Referral",
          "Email Marketing",
          "Social Media",
          "Social Media",
          "Online Ads",
          "Email Marketing",
          "Referral",
          "Email Marketing",
          "Email Marketing",
          "Social Media",
          "Online Ads",
          "Social Media",
          "Social Media",
          "Social Media",
          "Email Marketing",
          "Online Ads",
          "Online Ads",
          "Email Marketing",
          "Email Marketing",
          "Online Ads",
          "Social Media",
          "Email Marketing",
          "Social Media",
          "Online Ads",
          "Social Media",
          "Referral",
          "Email Marketing",
          "Email Marketing",
          "Referral",
          "Referral",
          "Social Media",
          "Online Ads",
          "Social Media",
          "Referral",
          "Referral",
          "Referral",
          "Social Media",
          "Email Marketing",
          "Email Marketing",
          "Email Marketing",
          "Online Ads",
          "Online Ads",
          "Social Media",
          "Online Ads",
          "Social Media",
          "Email Marketing",
          "Social Media",
          "Online Ads",
          "Social Media",
          "Online Ads"
         ],
         "xaxis": "x",
         "y": [
          0.004585804618323859,
          0.029787001072699104,
          0.017080208101711902,
          0.009823279411821808,
          0.011728531214124038,
          0.009801180005515386,
          0.017500671438448065,
          0.007727992165740801,
          0.01415323838128053,
          0.015498235752505517,
          0.00812285597927277,
          0.009968001762937526,
          0.01236118747542764,
          0.019074074014289205,
          0.0027444840712678342,
          0.003003907061327841,
          0.015429900979054187,
          0.018830619563834514,
          0.01670482251990852,
          0.014567674836658495,
          0.004600339216098953,
          0.005833718905982172,
          0.012497999025226133,
          0.0055758492245468584,
          0.01303015175100159,
          0.005725761682402176,
          0.005001618303962115,
          0.01724672474515137,
          0.017567866320433157,
          0.029822381935260312,
          0.006645030891315677,
          0.00734127475035638,
          0.005835598903754097,
          0.009616113202258783,
          0.011585472169197303,
          0.006391987565427537,
          0.012566147501296228,
          0.004957728112694525,
          0.0027557163147492866,
          0.012344565753365691,
          0.002337975548947345,
          0.00658587568237421,
          0.017453286295961355,
          0.04262212387058198,
          0.01334621107710521,
          0.0029654478305963976,
          0.0043454047583093396,
          0.010051736418534855,
          0.003367824327436958,
          0.013803830120417356,
          0.009568213975407813,
          0.012254309702661618,
          0.012077249882929051,
          0.0034230468769760546,
          0.009088486273242451,
          0.01117106097151089,
          0.022233896735793977,
          0.008509987493244319,
          0.01137865369552446,
          0.0066978814139492995,
          0.014003991601527098,
          0.016919904562698995,
          0.007936919588862548,
          0.020719475766605405,
          0.0027283252978116015,
          0.010024890468650256,
          0.02039158190177026,
          0.008052609940841986,
          0.0031052916100928426,
          0.0030128654611413807,
          0.01044595185235819,
          0.012764644915262422,
          0.009402362424647316,
          0.00329089794143524,
          0.01970841557260658,
          0.008977515604965543,
          0.004440649978406455,
          0.005112491835551166,
          0.010939730221202084,
          0.012232089035969142,
          0.009162887508397024,
          0.0031768704659374176,
          0.004163848285412737,
          0.020049729385041244,
          0.010825081681356347,
          0.02531064056994667,
          0.016440269772993996,
          0.013076351766045846,
          0.011923891154865479,
          0.030498744413381653,
          0.010899649471082615,
          0.02489348730048904,
          0.015147585625844439,
          0.009304923575288625,
          0.017786395256864346,
          0.010616462784783112,
          0.009724724583204277,
          0.007600681827244728,
          0.016336658826813566,
          0.009390160588167303,
          0.017132830527323954,
          0.009535348506954174,
          0.012862557468427537,
          0.005951408809339247,
          0.009568265615240238,
          0.008650491032276926,
          0.01316106804478805,
          0.008389801747901077,
          0.02623498644000473,
          0.00848182894524233,
          0.007963582809376004,
          0.016630528075786168,
          0.009019240724602072,
          0.008987080175149964,
          0.010564436304017752,
          0.007031788586029589,
          0.010040811513844738,
          0.006026261097399456,
          0.003935541323213181,
          0.007198851496713041,
          0.007479003800716367,
          0.024955761881890522,
          0.009037826373832169,
          0.022324162239082623,
          0.00572618188162194,
          0.011114518361568586,
          0.0074686916621498805,
          0.0251937971264628,
          0.01532282981190306,
          0.011543374859435037,
          0.006318241992275692,
          0.00548644167284546,
          0.016885594551544755,
          0.022822836346124316,
          0.02082781780392205,
          0.006806522718614647,
          0.016300239468978812,
          0.045429014476425944,
          0.00924585584707232,
          0.015258110193959116,
          0.003267186605434321,
          0.014314895924828708,
          0.011082760437558585,
          0.01528119418571546,
          0.004246906384972514,
          0.013497486260456965,
          0.005344165434134666,
          0.004853990629290737,
          0.01112042531786503,
          0.01629327788651783,
          0.018993301149221483,
          0.014101952001193224,
          0.005667203681076155,
          0.01580258178624001,
          0.005596411195290657,
          0.014215297688909176,
          0.03471341848620018,
          0.013929228266354624,
          0.04034793765155021,
          0.028181533249589184,
          0.003383201322700698,
          0.021667082993801354,
          0.005426402169696873,
          0.007463667635155042,
          0.005175251537370684,
          0.007882588885330385,
          0.006966191574410289,
          0.016292221075846415,
          0.010355014754247757,
          0.003568805678262496,
          0.007578808740514983,
          0.004278636844554394,
          0.009273959751362183,
          0.01575497164239873,
          0.004018243647847746,
          0.005525627257393812,
          0.012625123744653074,
          0.0022962779749306915,
          0.008191566339555924,
          0.023317597626912708,
          0.006315709900766338,
          0.020881591644557534,
          0.02123575340037954,
          0.02999401329635646,
          0.03067172390036133,
          0.007137720995678008,
          0.009777068670949575,
          0.013394689286495358,
          0.015577092827677832,
          0.012017273567844496,
          0.012591979714828465,
          0.0053264675297017925,
          0.0034670922589121606,
          0.004046303186536391,
          0.0048177538779283335,
          0.013999071946896712,
          0.003566791574415862,
          0.003168116860125508,
          0.009997941666661405,
          0.011956267065421177,
          0.010304859826431305,
          0.008848324179081978,
          0.01114587841197202,
          0.02955727831149655,
          0.021638631575977,
          0.01210519549138352,
          0.005755999351090905,
          0.012817272518256989,
          0.00789067295050409,
          0.021370166486436352,
          0.009854284522060311,
          0.00447493867726579,
          0.005869153556402792,
          0.01565680961701217,
          0.013780674752151782,
          0.03253219874604734,
          0.025012007127557717,
          0.00439864210647431,
          0.010483616509433158,
          0.017487132883266424,
          0.03515691400242203,
          0.002681714850304975,
          0.002302113513338715,
          0.0069680152774710775,
          0.006037710568482353,
          0.004601574044318807,
          0.0048792040051408355,
          0.012511765246753804,
          0.024118663287697243,
          0.00745327667252209,
          0.005898674731306581,
          0.002773126660674931,
          0.008790188833944154,
          0.0214373873816501,
          0.006284944100065529,
          0.00508598295275319,
          0.011459760432887076,
          0.03223514955092784,
          0.010034098269174655,
          0.018000769599808984,
          0.012226486573512815,
          0.007221956300159677,
          0.006036526189564727,
          0.009272273076204962,
          0.005573951708499834,
          0.007739332328871572,
          0.0025856410511243045,
          0.01218602840040765,
          0.004965765243992638,
          0.01328569008884738,
          0.02006022301264528,
          0.007580819360191141,
          0.01757939236131238,
          0.01144394832350517,
          0.010095958329992803,
          0.009915602943598648,
          0.008831764538391334,
          0.0064078636501873005,
          0.019996227390870577,
          0.004495084639359674,
          0.007451985708063017,
          0.0057116176241837945,
          0.012128826521261517,
          0.02149668813306897,
          0.010322569161891126,
          0.003184246188483693,
          0.013442499116412987,
          0.004218296733091522,
          0.016827035795163,
          0.007562460924844879,
          0.013680740034097152,
          0.017882782302559134,
          0.026323640568419307,
          0.0046825890936997,
          0.01090680539947041,
          0.021124142280943912,
          0.006238643960438826,
          0.0051593824451571894,
          0.0108932784303842,
          0.013606695507567467,
          0.0032343224860072422,
          0.014030389736110037,
          0.012931881842196513,
          0.005600417350494478,
          0.02053780794055106,
          0.009679882188290466,
          0.004470655554384501,
          0.016203158241794413,
          0.009984211506067443,
          0.007497008931204284,
          0.005333364508938148,
          0.00527536834843726,
          0.004206047613215115,
          0.005834688371636195,
          0.01045135799341876,
          0.005048046916306006,
          0.01804667528341781,
          0.004010982852363831,
          0.004619012768845348,
          0.004904023710719177,
          0.02345924452258986,
          0.018685426478023386,
          0.011649612317480398,
          0.00920808592795561,
          0.015886099309114037,
          0.023833690910307258,
          0.014583164137119364,
          0.021004028109573313,
          0.015275887191409262,
          0.009452628971522407,
          0.01772183369815927,
          0.01311699387356935,
          0.010828620303264662,
          0.010026401863121936,
          0.004258956002290775,
          0.02067985237795488,
          0.009263372023997818,
          0.042568074143457535,
          0.007288591989889592,
          0.007066376656381666,
          0.01107019167787864,
          0.005109430219564009,
          0.008755716105792021,
          0.009806233022186887,
          0.0028436370005166522,
          0.009727252539844196,
          0.03396980420359096,
          0.012628089534644792,
          0.00357066160475233,
          0.002902562374249017,
          0.007338614695878415,
          0.010140427394279753,
          0.0045105935921809105,
          0.005304641498060402,
          0.012597128649171367,
          0.018182407188602118,
          0.01160501404406322,
          0.021020809131555785,
          0.013551254160451361,
          0.009637438492916903,
          0.01911440874649402,
          0.003182333049501416,
          0.010557471706414051,
          0.010437794764313155,
          0.004989380165252684,
          0.006760763366826398,
          0.019047334924188145,
          0.017647230502014104,
          0.010839074147533859,
          0.004705757366466702,
          0.002895624710656139,
          0.03322850615966764,
          0.01256199552135135,
          0.008795214327188588,
          0.0032025850274847584,
          0.008417333491929163,
          0.00526703164873173,
          0.004386147848483924,
          0.017936930094946412,
          0.010749672803277033,
          0.008462654326801586,
          0.015497091519189102,
          0.011387697837353813,
          0.01062055180141006,
          0.016892407299942496,
          0.007886107665663984,
          0.015183086603443039,
          0.011202848395449012,
          0.021487990469472855,
          0.011521234071290437,
          0.009498386391812153,
          0.011510576349550567,
          0.007738396499986206,
          0.03799757628635643,
          0.006914459490341076,
          0.004024328243764554,
          0.01578958760976913,
          0.003439886642731466,
          0.028617382081688895,
          0.011952472805486936,
          0.013889513381981841,
          0.012862965473720435,
          0.04626105945882396,
          0.004503936111717403,
          0.006732050521070387,
          0.004042643373222028,
          0.028800740447017404,
          0.006866843256702308,
          0.013432608719619883,
          0.008655975310084883,
          0.009843198385636638,
          0.006673498960685881,
          0.023995286154459713,
          0.0034237072596190903,
          0.016139193339481273,
          0.017725097940310384,
          0.01159288945585326,
          0.01590703879149607,
          0.00547496746577197,
          0.0130332741400475,
          0.003017642238261477,
          0.01696529393127441,
          0.008550875167307091,
          0.009083604012233657,
          0.0052432847899200755,
          0.010111173678785754,
          0.007747386118813285,
          0.0052781385952024515,
          0.01922792357679217,
          0.009049440963670915,
          0.013726564148626894,
          0.004765389929236516,
          0.011189976585294054,
          0.004290371915477714,
          0.005542170092319661,
          0.005810855435282169,
          0.007895171272368006,
          0.0045929964263531214,
          0.011317527743604413,
          0.011329362972909233,
          0.01182382123184635,
          0.0027564988395992773,
          0.008824385691771366,
          0.010620739257852277,
          0.00502041294945906,
          0.02146948291025382,
          0.012304161355667202,
          0.005725831709320411,
          0.005089784988333586,
          0.0154351215563072,
          0.02247250986178818,
          0.005012627485649983,
          0.022319327196058808,
          0.007850119289595657,
          0.011400952039765313,
          0.0067540486033606205,
          0.008004073766674532,
          0.008165110747571543,
          0.011337631123780525,
          0.013807520824488618,
          0.008839759983883843,
          0.008198425622215923,
          0.010411850261141862,
          0.0062715783013856585,
          0.012314951843323157,
          0.027384527785278615,
          0.0045346116037881246,
          0.02111286472969859,
          0.00945334814621922,
          0.008557474635679707,
          0.010008040181560969,
          0.005691324158577792,
          0.0069828400967439155,
          0.009956498219502442,
          0.017457673886555534,
          0.008648175207842907,
          0.018945231431587904,
          0.006992364137638368,
          0.01702644423667713,
          0.004876312961748088,
          0.0070472866630947794,
          0.003894267210364713,
          0.009324728339015664,
          0.006931073005685841,
          0.031394230133819916,
          0.008267505009003777,
          0.03908740548826474,
          0.003747019427175987,
          0.008626985843523295,
          0.003218177201988819,
          0.010607441500416566,
          0.021550551575984338,
          0.008846629099253663,
          0.00905650504799051,
          0.008602108873178412,
          0.014051432830035532,
          0.009620885479824254,
          0.0050156256262334515,
          0.017136736848072587,
          0.01077260273300309,
          0.00792068944824801,
          0.007913762439671814,
          0.008427023495972033,
          0.012435269856848388,
          0.011407014885150713,
          0.008306984906970667,
          0.005225865739328952,
          0.012703123820146711,
          0.003779217071377486,
          0.020394395350307418,
          0.00902412336639953,
          0.007879167726323884,
          0.010144086087667762,
          0.00607795691751067,
          0.006450154937958441,
          0.016801295931123346,
          0.007251865823171059,
          0.004326612604648057,
          0.005830635838972961,
          0.009046088245815981
         ],
         "yaxis": "y"
        }
       ],
       "layout": {
        "barmode": "relative",
        "legend": {
         "tracegroupgap": 0
        },
        "template": {
         "data": {
          "bar": [
           {
            "error_x": {
             "color": "#2a3f5f"
            },
            "error_y": {
             "color": "#2a3f5f"
            },
            "marker": {
             "line": {
              "color": "white",
              "width": 0.5
             },
             "pattern": {
              "fillmode": "overlay",
              "size": 10,
              "solidity": 0.2
             }
            },
            "type": "bar"
           }
          ],
          "barpolar": [
           {
            "marker": {
             "line": {
              "color": "white",
              "width": 0.5
             },
             "pattern": {
              "fillmode": "overlay",
              "size": 10,
              "solidity": 0.2
             }
            },
            "type": "barpolar"
           }
          ],
          "carpet": [
           {
            "aaxis": {
             "endlinecolor": "#2a3f5f",
             "gridcolor": "#C8D4E3",
             "linecolor": "#C8D4E3",
             "minorgridcolor": "#C8D4E3",
             "startlinecolor": "#2a3f5f"
            },
            "baxis": {
             "endlinecolor": "#2a3f5f",
             "gridcolor": "#C8D4E3",
             "linecolor": "#C8D4E3",
             "minorgridcolor": "#C8D4E3",
             "startlinecolor": "#2a3f5f"
            },
            "type": "carpet"
           }
          ],
          "choropleth": [
           {
            "colorbar": {
             "outlinewidth": 0,
             "ticks": ""
            },
            "type": "choropleth"
           }
          ],
          "contour": [
           {
            "colorbar": {
             "outlinewidth": 0,
             "ticks": ""
            },
            "colorscale": [
             [
              0,
              "#0d0887"
             ],
             [
              0.1111111111111111,
              "#46039f"
             ],
             [
              0.2222222222222222,
              "#7201a8"
             ],
             [
              0.3333333333333333,
              "#9c179e"
             ],
             [
              0.4444444444444444,
              "#bd3786"
             ],
             [
              0.5555555555555556,
              "#d8576b"
             ],
             [
              0.6666666666666666,
              "#ed7953"
             ],
             [
              0.7777777777777778,
              "#fb9f3a"
             ],
             [
              0.8888888888888888,
              "#fdca26"
             ],
             [
              1,
              "#f0f921"
             ]
            ],
            "type": "contour"
           }
          ],
          "contourcarpet": [
           {
            "colorbar": {
             "outlinewidth": 0,
             "ticks": ""
            },
            "type": "contourcarpet"
           }
          ],
          "heatmap": [
           {
            "colorbar": {
             "outlinewidth": 0,
             "ticks": ""
            },
            "colorscale": [
             [
              0,
              "#0d0887"
             ],
             [
              0.1111111111111111,
              "#46039f"
             ],
             [
              0.2222222222222222,
              "#7201a8"
             ],
             [
              0.3333333333333333,
              "#9c179e"
             ],
             [
              0.4444444444444444,
              "#bd3786"
             ],
             [
              0.5555555555555556,
              "#d8576b"
             ],
             [
              0.6666666666666666,
              "#ed7953"
             ],
             [
              0.7777777777777778,
              "#fb9f3a"
             ],
             [
              0.8888888888888888,
              "#fdca26"
             ],
             [
              1,
              "#f0f921"
             ]
            ],
            "type": "heatmap"
           }
          ],
          "heatmapgl": [
           {
            "colorbar": {
             "outlinewidth": 0,
             "ticks": ""
            },
            "colorscale": [
             [
              0,
              "#0d0887"
             ],
             [
              0.1111111111111111,
              "#46039f"
             ],
             [
              0.2222222222222222,
              "#7201a8"
             ],
             [
              0.3333333333333333,
              "#9c179e"
             ],
             [
              0.4444444444444444,
              "#bd3786"
             ],
             [
              0.5555555555555556,
              "#d8576b"
             ],
             [
              0.6666666666666666,
              "#ed7953"
             ],
             [
              0.7777777777777778,
              "#fb9f3a"
             ],
             [
              0.8888888888888888,
              "#fdca26"
             ],
             [
              1,
              "#f0f921"
             ]
            ],
            "type": "heatmapgl"
           }
          ],
          "histogram": [
           {
            "marker": {
             "pattern": {
              "fillmode": "overlay",
              "size": 10,
              "solidity": 0.2
             }
            },
            "type": "histogram"
           }
          ],
          "histogram2d": [
           {
            "colorbar": {
             "outlinewidth": 0,
             "ticks": ""
            },
            "colorscale": [
             [
              0,
              "#0d0887"
             ],
             [
              0.1111111111111111,
              "#46039f"
             ],
             [
              0.2222222222222222,
              "#7201a8"
             ],
             [
              0.3333333333333333,
              "#9c179e"
             ],
             [
              0.4444444444444444,
              "#bd3786"
             ],
             [
              0.5555555555555556,
              "#d8576b"
             ],
             [
              0.6666666666666666,
              "#ed7953"
             ],
             [
              0.7777777777777778,
              "#fb9f3a"
             ],
             [
              0.8888888888888888,
              "#fdca26"
             ],
             [
              1,
              "#f0f921"
             ]
            ],
            "type": "histogram2d"
           }
          ],
          "histogram2dcontour": [
           {
            "colorbar": {
             "outlinewidth": 0,
             "ticks": ""
            },
            "colorscale": [
             [
              0,
              "#0d0887"
             ],
             [
              0.1111111111111111,
              "#46039f"
             ],
             [
              0.2222222222222222,
              "#7201a8"
             ],
             [
              0.3333333333333333,
              "#9c179e"
             ],
             [
              0.4444444444444444,
              "#bd3786"
             ],
             [
              0.5555555555555556,
              "#d8576b"
             ],
             [
              0.6666666666666666,
              "#ed7953"
             ],
             [
              0.7777777777777778,
              "#fb9f3a"
             ],
             [
              0.8888888888888888,
              "#fdca26"
             ],
             [
              1,
              "#f0f921"
             ]
            ],
            "type": "histogram2dcontour"
           }
          ],
          "mesh3d": [
           {
            "colorbar": {
             "outlinewidth": 0,
             "ticks": ""
            },
            "type": "mesh3d"
           }
          ],
          "parcoords": [
           {
            "line": {
             "colorbar": {
              "outlinewidth": 0,
              "ticks": ""
             }
            },
            "type": "parcoords"
           }
          ],
          "pie": [
           {
            "automargin": true,
            "type": "pie"
           }
          ],
          "scatter": [
           {
            "fillpattern": {
             "fillmode": "overlay",
             "size": 10,
             "solidity": 0.2
            },
            "type": "scatter"
           }
          ],
          "scatter3d": [
           {
            "line": {
             "colorbar": {
              "outlinewidth": 0,
              "ticks": ""
             }
            },
            "marker": {
             "colorbar": {
              "outlinewidth": 0,
              "ticks": ""
             }
            },
            "type": "scatter3d"
           }
          ],
          "scattercarpet": [
           {
            "marker": {
             "colorbar": {
              "outlinewidth": 0,
              "ticks": ""
             }
            },
            "type": "scattercarpet"
           }
          ],
          "scattergeo": [
           {
            "marker": {
             "colorbar": {
              "outlinewidth": 0,
              "ticks": ""
             }
            },
            "type": "scattergeo"
           }
          ],
          "scattergl": [
           {
            "marker": {
             "colorbar": {
              "outlinewidth": 0,
              "ticks": ""
             }
            },
            "type": "scattergl"
           }
          ],
          "scattermapbox": [
           {
            "marker": {
             "colorbar": {
              "outlinewidth": 0,
              "ticks": ""
             }
            },
            "type": "scattermapbox"
           }
          ],
          "scatterpolar": [
           {
            "marker": {
             "colorbar": {
              "outlinewidth": 0,
              "ticks": ""
             }
            },
            "type": "scatterpolar"
           }
          ],
          "scatterpolargl": [
           {
            "marker": {
             "colorbar": {
              "outlinewidth": 0,
              "ticks": ""
             }
            },
            "type": "scatterpolargl"
           }
          ],
          "scatterternary": [
           {
            "marker": {
             "colorbar": {
              "outlinewidth": 0,
              "ticks": ""
             }
            },
            "type": "scatterternary"
           }
          ],
          "surface": [
           {
            "colorbar": {
             "outlinewidth": 0,
             "ticks": ""
            },
            "colorscale": [
             [
              0,
              "#0d0887"
             ],
             [
              0.1111111111111111,
              "#46039f"
             ],
             [
              0.2222222222222222,
              "#7201a8"
             ],
             [
              0.3333333333333333,
              "#9c179e"
             ],
             [
              0.4444444444444444,
              "#bd3786"
             ],
             [
              0.5555555555555556,
              "#d8576b"
             ],
             [
              0.6666666666666666,
              "#ed7953"
             ],
             [
              0.7777777777777778,
              "#fb9f3a"
             ],
             [
              0.8888888888888888,
              "#fdca26"
             ],
             [
              1,
              "#f0f921"
             ]
            ],
            "type": "surface"
           }
          ],
          "table": [
           {
            "cells": {
             "fill": {
              "color": "#EBF0F8"
             },
             "line": {
              "color": "white"
             }
            },
            "header": {
             "fill": {
              "color": "#C8D4E3"
             },
             "line": {
              "color": "white"
             }
            },
            "type": "table"
           }
          ]
         },
         "layout": {
          "annotationdefaults": {
           "arrowcolor": "#2a3f5f",
           "arrowhead": 0,
           "arrowwidth": 1
          },
          "autotypenumbers": "strict",
          "coloraxis": {
           "colorbar": {
            "outlinewidth": 0,
            "ticks": ""
           }
          },
          "colorscale": {
           "diverging": [
            [
             0,
             "#8e0152"
            ],
            [
             0.1,
             "#c51b7d"
            ],
            [
             0.2,
             "#de77ae"
            ],
            [
             0.3,
             "#f1b6da"
            ],
            [
             0.4,
             "#fde0ef"
            ],
            [
             0.5,
             "#f7f7f7"
            ],
            [
             0.6,
             "#e6f5d0"
            ],
            [
             0.7,
             "#b8e186"
            ],
            [
             0.8,
             "#7fbc41"
            ],
            [
             0.9,
             "#4d9221"
            ],
            [
             1,
             "#276419"
            ]
           ],
           "sequential": [
            [
             0,
             "#0d0887"
            ],
            [
             0.1111111111111111,
             "#46039f"
            ],
            [
             0.2222222222222222,
             "#7201a8"
            ],
            [
             0.3333333333333333,
             "#9c179e"
            ],
            [
             0.4444444444444444,
             "#bd3786"
            ],
            [
             0.5555555555555556,
             "#d8576b"
            ],
            [
             0.6666666666666666,
             "#ed7953"
            ],
            [
             0.7777777777777778,
             "#fb9f3a"
            ],
            [
             0.8888888888888888,
             "#fdca26"
            ],
            [
             1,
             "#f0f921"
            ]
           ],
           "sequentialminus": [
            [
             0,
             "#0d0887"
            ],
            [
             0.1111111111111111,
             "#46039f"
            ],
            [
             0.2222222222222222,
             "#7201a8"
            ],
            [
             0.3333333333333333,
             "#9c179e"
            ],
            [
             0.4444444444444444,
             "#bd3786"
            ],
            [
             0.5555555555555556,
             "#d8576b"
            ],
            [
             0.6666666666666666,
             "#ed7953"
            ],
            [
             0.7777777777777778,
             "#fb9f3a"
            ],
            [
             0.8888888888888888,
             "#fdca26"
            ],
            [
             1,
             "#f0f921"
            ]
           ]
          },
          "colorway": [
           "#636efa",
           "#EF553B",
           "#00cc96",
           "#ab63fa",
           "#FFA15A",
           "#19d3f3",
           "#FF6692",
           "#B6E880",
           "#FF97FF",
           "#FECB52"
          ],
          "font": {
           "color": "#2a3f5f"
          },
          "geo": {
           "bgcolor": "white",
           "lakecolor": "white",
           "landcolor": "white",
           "showlakes": true,
           "showland": true,
           "subunitcolor": "#C8D4E3"
          },
          "hoverlabel": {
           "align": "left"
          },
          "hovermode": "closest",
          "mapbox": {
           "style": "light"
          },
          "paper_bgcolor": "white",
          "plot_bgcolor": "white",
          "polar": {
           "angularaxis": {
            "gridcolor": "#EBF0F8",
            "linecolor": "#EBF0F8",
            "ticks": ""
           },
           "bgcolor": "white",
           "radialaxis": {
            "gridcolor": "#EBF0F8",
            "linecolor": "#EBF0F8",
            "ticks": ""
           }
          },
          "scene": {
           "xaxis": {
            "backgroundcolor": "white",
            "gridcolor": "#DFE8F3",
            "gridwidth": 2,
            "linecolor": "#EBF0F8",
            "showbackground": true,
            "ticks": "",
            "zerolinecolor": "#EBF0F8"
           },
           "yaxis": {
            "backgroundcolor": "white",
            "gridcolor": "#DFE8F3",
            "gridwidth": 2,
            "linecolor": "#EBF0F8",
            "showbackground": true,
            "ticks": "",
            "zerolinecolor": "#EBF0F8"
           },
           "zaxis": {
            "backgroundcolor": "white",
            "gridcolor": "#DFE8F3",
            "gridwidth": 2,
            "linecolor": "#EBF0F8",
            "showbackground": true,
            "ticks": "",
            "zerolinecolor": "#EBF0F8"
           }
          },
          "shapedefaults": {
           "line": {
            "color": "#2a3f5f"
           }
          },
          "ternary": {
           "aaxis": {
            "gridcolor": "#DFE8F3",
            "linecolor": "#A2B1C6",
            "ticks": ""
           },
           "baxis": {
            "gridcolor": "#DFE8F3",
            "linecolor": "#A2B1C6",
            "ticks": ""
           },
           "bgcolor": "white",
           "caxis": {
            "gridcolor": "#DFE8F3",
            "linecolor": "#A2B1C6",
            "ticks": ""
           }
          },
          "title": {
           "x": 0.05
          },
          "xaxis": {
           "automargin": true,
           "gridcolor": "#EBF0F8",
           "linecolor": "#EBF0F8",
           "ticks": "",
           "title": {
            "standoff": 15
           },
           "zerolinecolor": "#EBF0F8",
           "zerolinewidth": 2
          },
          "yaxis": {
           "automargin": true,
           "gridcolor": "#EBF0F8",
           "linecolor": "#EBF0F8",
           "ticks": "",
           "title": {
            "standoff": 15
           },
           "zerolinecolor": "#EBF0F8",
           "zerolinewidth": 2
          }
         }
        },
        "title": {
         "text": "Conversion Rates by Marketing Channel"
        },
        "xaxis": {
         "anchor": "y",
         "domain": [
          0,
          1
         ],
         "title": {
          "text": "Marketing_Channel"
         }
        },
        "yaxis": {
         "anchor": "x",
         "domain": [
          0,
          1
         ],
         "title": {
          "text": "Conversion_Rate"
         }
        }
       }
      }
     },
     "metadata": {},
     "output_type": "display_data"
    }
   ],
   "source": [
    "df['Conversion_Rate'] = df['New_Customers']/df['Marketing_Spend']\n",
    "\n",
    "fig = px.bar(df, x='Marketing_Channel', \n",
    "             y='Conversion_Rate', \n",
    "             title='Conversion Rates by Marketing Channel')\n",
    "fig.show()"
   ]
  },
  {
   "cell_type": "code",
   "execution_count": 16,
   "metadata": {},
   "outputs": [
    {
     "data": {
      "application/vnd.plotly.v1+json": {
       "config": {
        "plotlyServerURL": "https://plot.ly"
       },
       "data": [
        {
         "alignmentgroup": "True",
         "hovertemplate": "Marketing_Channel=%{x}<br>Break_Even_Customers=%{y}<extra></extra>",
         "legendgroup": "",
         "marker": {
          "color": "#636efa",
          "pattern": {
           "shape": ""
          }
         },
         "name": "",
         "offsetgroup": "",
         "orientation": "v",
         "showlegend": false,
         "textposition": "auto",
         "type": "bar",
         "x": [
          "Email Marketing",
          "Online Ads",
          "Social Media",
          "Online Ads",
          "Email Marketing",
          "Email Marketing",
          "Referral",
          "Online Ads",
          "Social Media",
          "Online Ads",
          "Online Ads",
          "Email Marketing",
          "Online Ads",
          "Online Ads",
          "Email Marketing",
          "Email Marketing",
          "Online Ads",
          "Email Marketing",
          "Referral",
          "Online Ads",
          "Referral",
          "Email Marketing",
          "Social Media",
          "Online Ads",
          "Referral",
          "Social Media",
          "Online Ads",
          "Online Ads",
          "Referral",
          "Email Marketing",
          "Referral",
          "Email Marketing",
          "Email Marketing",
          "Referral",
          "Social Media",
          "Email Marketing",
          "Referral",
          "Email Marketing",
          "Referral",
          "Email Marketing",
          "Email Marketing",
          "Online Ads",
          "Online Ads",
          "Social Media",
          "Online Ads",
          "Online Ads",
          "Online Ads",
          "Social Media",
          "Email Marketing",
          "Social Media",
          "Social Media",
          "Online Ads",
          "Social Media",
          "Referral",
          "Email Marketing",
          "Email Marketing",
          "Online Ads",
          "Email Marketing",
          "Online Ads",
          "Social Media",
          "Referral",
          "Email Marketing",
          "Email Marketing",
          "Email Marketing",
          "Referral",
          "Referral",
          "Online Ads",
          "Online Ads",
          "Social Media",
          "Social Media",
          "Online Ads",
          "Referral",
          "Referral",
          "Social Media",
          "Email Marketing",
          "Social Media",
          "Referral",
          "Social Media",
          "Social Media",
          "Online Ads",
          "Email Marketing",
          "Social Media",
          "Email Marketing",
          "Referral",
          "Social Media",
          "Online Ads",
          "Referral",
          "Email Marketing",
          "Online Ads",
          "Online Ads",
          "Online Ads",
          "Email Marketing",
          "Referral",
          "Social Media",
          "Online Ads",
          "Social Media",
          "Referral",
          "Email Marketing",
          "Referral",
          "Referral",
          "Online Ads",
          "Email Marketing",
          "Email Marketing",
          "Email Marketing",
          "Social Media",
          "Email Marketing",
          "Online Ads",
          "Social Media",
          "Social Media",
          "Referral",
          "Referral",
          "Social Media",
          "Email Marketing",
          "Online Ads",
          "Referral",
          "Referral",
          "Social Media",
          "Email Marketing",
          "Email Marketing",
          "Online Ads",
          "Referral",
          "Email Marketing",
          "Referral",
          "Email Marketing",
          "Online Ads",
          "Social Media",
          "Online Ads",
          "Referral",
          "Referral",
          "Referral",
          "Social Media",
          "Online Ads",
          "Referral",
          "Referral",
          "Online Ads",
          "Social Media",
          "Online Ads",
          "Referral",
          "Referral",
          "Online Ads",
          "Social Media",
          "Email Marketing",
          "Social Media",
          "Referral",
          "Social Media",
          "Online Ads",
          "Email Marketing",
          "Email Marketing",
          "Online Ads",
          "Social Media",
          "Referral",
          "Email Marketing",
          "Social Media",
          "Email Marketing",
          "Online Ads",
          "Online Ads",
          "Social Media",
          "Email Marketing",
          "Online Ads",
          "Online Ads",
          "Online Ads",
          "Email Marketing",
          "Online Ads",
          "Referral",
          "Referral",
          "Online Ads",
          "Online Ads",
          "Email Marketing",
          "Online Ads",
          "Online Ads",
          "Referral",
          "Email Marketing",
          "Social Media",
          "Referral",
          "Referral",
          "Online Ads",
          "Online Ads",
          "Social Media",
          "Social Media",
          "Social Media",
          "Email Marketing",
          "Email Marketing",
          "Referral",
          "Online Ads",
          "Social Media",
          "Social Media",
          "Referral",
          "Online Ads",
          "Online Ads",
          "Social Media",
          "Social Media",
          "Social Media",
          "Online Ads",
          "Referral",
          "Social Media",
          "Referral",
          "Email Marketing",
          "Online Ads",
          "Referral",
          "Referral",
          "Referral",
          "Referral",
          "Referral",
          "Online Ads",
          "Social Media",
          "Online Ads",
          "Social Media",
          "Online Ads",
          "Social Media",
          "Referral",
          "Social Media",
          "Referral",
          "Social Media",
          "Social Media",
          "Referral",
          "Referral",
          "Email Marketing",
          "Email Marketing",
          "Online Ads",
          "Social Media",
          "Referral",
          "Email Marketing",
          "Email Marketing",
          "Email Marketing",
          "Online Ads",
          "Email Marketing",
          "Email Marketing",
          "Referral",
          "Online Ads",
          "Referral",
          "Online Ads",
          "Online Ads",
          "Email Marketing",
          "Email Marketing",
          "Online Ads",
          "Online Ads",
          "Referral",
          "Online Ads",
          "Email Marketing",
          "Email Marketing",
          "Social Media",
          "Email Marketing",
          "Email Marketing",
          "Referral",
          "Online Ads",
          "Email Marketing",
          "Online Ads",
          "Social Media",
          "Email Marketing",
          "Social Media",
          "Social Media",
          "Referral",
          "Online Ads",
          "Social Media",
          "Referral",
          "Referral",
          "Online Ads",
          "Online Ads",
          "Social Media",
          "Referral",
          "Referral",
          "Referral",
          "Social Media",
          "Online Ads",
          "Referral",
          "Email Marketing",
          "Email Marketing",
          "Referral",
          "Email Marketing",
          "Online Ads",
          "Referral",
          "Social Media",
          "Email Marketing",
          "Referral",
          "Online Ads",
          "Online Ads",
          "Online Ads",
          "Email Marketing",
          "Social Media",
          "Email Marketing",
          "Email Marketing",
          "Online Ads",
          "Email Marketing",
          "Social Media",
          "Social Media",
          "Referral",
          "Referral",
          "Online Ads",
          "Social Media",
          "Social Media",
          "Online Ads",
          "Referral",
          "Email Marketing",
          "Social Media",
          "Email Marketing",
          "Email Marketing",
          "Social Media",
          "Online Ads",
          "Online Ads",
          "Referral",
          "Referral",
          "Email Marketing",
          "Referral",
          "Email Marketing",
          "Online Ads",
          "Online Ads",
          "Social Media",
          "Referral",
          "Referral",
          "Referral",
          "Referral",
          "Online Ads",
          "Online Ads",
          "Online Ads",
          "Referral",
          "Referral",
          "Social Media",
          "Email Marketing",
          "Online Ads",
          "Referral",
          "Referral",
          "Referral",
          "Referral",
          "Referral",
          "Online Ads",
          "Email Marketing",
          "Social Media",
          "Referral",
          "Referral",
          "Referral",
          "Referral",
          "Social Media",
          "Referral",
          "Online Ads",
          "Referral",
          "Referral",
          "Online Ads",
          "Referral",
          "Social Media",
          "Social Media",
          "Referral",
          "Online Ads",
          "Online Ads",
          "Online Ads",
          "Social Media",
          "Referral",
          "Referral",
          "Social Media",
          "Email Marketing",
          "Social Media",
          "Referral",
          "Email Marketing",
          "Referral",
          "Online Ads",
          "Referral",
          "Online Ads",
          "Referral",
          "Social Media",
          "Online Ads",
          "Social Media",
          "Email Marketing",
          "Social Media",
          "Email Marketing",
          "Email Marketing",
          "Social Media",
          "Email Marketing",
          "Social Media",
          "Email Marketing",
          "Online Ads",
          "Referral",
          "Email Marketing",
          "Email Marketing",
          "Email Marketing",
          "Email Marketing",
          "Social Media",
          "Online Ads",
          "Email Marketing",
          "Social Media",
          "Social Media",
          "Referral",
          "Email Marketing",
          "Social Media",
          "Social Media",
          "Social Media",
          "Social Media",
          "Social Media",
          "Online Ads",
          "Social Media",
          "Referral",
          "Email Marketing",
          "Referral",
          "Email Marketing",
          "Social Media",
          "Email Marketing",
          "Online Ads",
          "Social Media",
          "Social Media",
          "Email Marketing",
          "Email Marketing",
          "Social Media",
          "Social Media",
          "Online Ads",
          "Social Media",
          "Referral",
          "Referral",
          "Online Ads",
          "Online Ads",
          "Email Marketing",
          "Email Marketing",
          "Social Media",
          "Referral",
          "Referral",
          "Email Marketing",
          "Online Ads",
          "Online Ads",
          "Online Ads",
          "Online Ads",
          "Social Media",
          "Referral",
          "Online Ads",
          "Social Media",
          "Email Marketing",
          "Online Ads",
          "Email Marketing",
          "Social Media",
          "Online Ads",
          "Email Marketing",
          "Online Ads",
          "Referral",
          "Referral",
          "Online Ads",
          "Social Media",
          "Online Ads",
          "Referral",
          "Email Marketing",
          "Online Ads",
          "Online Ads",
          "Referral",
          "Social Media",
          "Referral",
          "Email Marketing",
          "Referral",
          "Email Marketing",
          "Referral",
          "Referral",
          "Email Marketing",
          "Email Marketing",
          "Email Marketing",
          "Referral",
          "Email Marketing",
          "Referral",
          "Email Marketing",
          "Social Media",
          "Social Media",
          "Online Ads",
          "Email Marketing",
          "Referral",
          "Email Marketing",
          "Email Marketing",
          "Social Media",
          "Online Ads",
          "Social Media",
          "Social Media",
          "Social Media",
          "Email Marketing",
          "Online Ads",
          "Online Ads",
          "Email Marketing",
          "Email Marketing",
          "Online Ads",
          "Social Media",
          "Email Marketing",
          "Social Media",
          "Online Ads",
          "Social Media",
          "Referral",
          "Email Marketing",
          "Email Marketing",
          "Referral",
          "Referral",
          "Social Media",
          "Online Ads",
          "Social Media",
          "Referral",
          "Referral",
          "Referral",
          "Social Media",
          "Email Marketing",
          "Email Marketing",
          "Email Marketing",
          "Online Ads",
          "Online Ads",
          "Social Media",
          "Online Ads",
          "Social Media",
          "Email Marketing",
          "Social Media",
          "Online Ads",
          "Social Media",
          "Online Ads"
         ],
         "xaxis": "x",
         "y": [
          16,
          33,
          44,
          32,
          13,
          35,
          27,
          22,
          17,
          38.99999999999999,
          15,
          23,
          50,
          48,
          11,
          13,
          31,
          25,
          18,
          46.00000000000001,
          23,
          14.000000000000002,
          45,
          23,
          46.99999999999999,
          23,
          24,
          31,
          19,
          48,
          10,
          27,
          19,
          18,
          44,
          25.999999999999996,
          21,
          17,
          11,
          18,
          10,
          32,
          25,
          47,
          30,
          11,
          21,
          26,
          13,
          18,
          36,
          43,
          17,
          14,
          40,
          38,
          33,
          42,
          47,
          16,
          38,
          42,
          24,
          49,
          12,
          43,
          29,
          39,
          11,
          13,
          40,
          35,
          37,
          16,
          41,
          38,
          14,
          15,
          30,
          48,
          19,
          14,
          18,
          27,
          49,
          50,
          47,
          45,
          30,
          34,
          48,
          43,
          28,
          39,
          42,
          48,
          37,
          16,
          17,
          45,
          23,
          37,
          38,
          24,
          36,
          31,
          39,
          35,
          36,
          16,
          30,
          37,
          30,
          26,
          33,
          19,
          40,
          14,
          15,
          15,
          15.000000000000002,
          37,
          16,
          33,
          18,
          45,
          13.000000000000002,
          47,
          45,
          45,
          31,
          17,
          36,
          32,
          37,
          13,
          28,
          48,
          29,
          32,
          16,
          46,
          42,
          23,
          19,
          40,
          24,
          16,
          32,
          45,
          33,
          17,
          27.000000000000004,
          46,
          24,
          37,
          45,
          49,
          49,
          45,
          11,
          48,
          26.999999999999996,
          11,
          21,
          27,
          28.999999999999996,
          31,
          32,
          10,
          21,
          19,
          46,
          35,
          14,
          19,
          50.00000000000001,
          11,
          15,
          43,
          23,
          34,
          36,
          39,
          31,
          20,
          33,
          29,
          30,
          46,
          48,
          15,
          13,
          19,
          20,
          49,
          13,
          15,
          27,
          38,
          37,
          41,
          48,
          38,
          36,
          27.000000000000004,
          23,
          42,
          17,
          32,
          37,
          17,
          28.000000000000004,
          47,
          41,
          43,
          29.000000000000004,
          12,
          24,
          35,
          48,
          13,
          10,
          23,
          29,
          23,
          18,
          26,
          28,
          30.000000000000004,
          17,
          10,
          41,
          37,
          21,
          18,
          34,
          44,
          24,
          42,
          45,
          32,
          14,
          35,
          12,
          36.99999999999999,
          11,
          39,
          14,
          30.000000000000004,
          46,
          37,
          46,
          35,
          50,
          36,
          28,
          17,
          35,
          11,
          29.999999999999996,
          20,
          49,
          39,
          33,
          14.999999999999998,
          37,
          16,
          25,
          37,
          47,
          35,
          43,
          15,
          35,
          29,
          31,
          24,
          31,
          20,
          14,
          42,
          50,
          17,
          43,
          42,
          22,
          32,
          32,
          19,
          25,
          16,
          19,
          26,
          22,
          21,
          48,
          19,
          14,
          21,
          50,
          41,
          39,
          46,
          47,
          38,
          46,
          49.99999999999999,
          49,
          30,
          50,
          30.000000000000004,
          19,
          38,
          14,
          40,
          38,
          50,
          29.000000000000004,
          27,
          47,
          13,
          32,
          42,
          13.999999999999998,
          29.000000000000004,
          39,
          38,
          12,
          13,
          33,
          28,
          14,
          15,
          49,
          48,
          42,
          34,
          39,
          47,
          45,
          12,
          38,
          46,
          22,
          30,
          48,
          40,
          42,
          19,
          13,
          38,
          16,
          30.999999999999996,
          15,
          42,
          21,
          12,
          25,
          38,
          38,
          43,
          43,
          49,
          20,
          33,
          33,
          27.999999999999996,
          34,
          36,
          31,
          48,
          13,
          50,
          30.999999999999996,
          14,
          31,
          16,
          45,
          34,
          27.999999999999996,
          26,
          48,
          19,
          31.000000000000004,
          15,
          47,
          19,
          32,
          29,
          35,
          18,
          48,
          15,
          29,
          45,
          34,
          31,
          18,
          43,
          15,
          37,
          42,
          33,
          11,
          33,
          29.000000000000004,
          21,
          23,
          31,
          41,
          22,
          24,
          18,
          19,
          14,
          28,
          16,
          42,
          44,
          43,
          12,
          31,
          49,
          18,
          48,
          34,
          19,
          20,
          20.999999999999996,
          49,
          20,
          38,
          12,
          36,
          33,
          25,
          38,
          49,
          28,
          38,
          24,
          44,
          25.000000000000004,
          28.999999999999996,
          40,
          22,
          33,
          46,
          38,
          39,
          28,
          34,
          42,
          43,
          36,
          20,
          21.999999999999996,
          48,
          18,
          26,
          13,
          40,
          33,
          45,
          16,
          43,
          17,
          28,
          14.999999999999998,
          20,
          26.999999999999996,
          38,
          42,
          19,
          37,
          15,
          24,
          38,
          32,
          11,
          36,
          13,
          35,
          42,
          33,
          25,
          34,
          14.999999999999998,
          33,
          24,
          11,
          30,
          16,
          31,
          19,
          18,
          12,
          28,
          40
         ],
         "yaxis": "y"
        }
       ],
       "layout": {
        "barmode": "relative",
        "legend": {
         "tracegroupgap": 0
        },
        "template": {
         "data": {
          "bar": [
           {
            "error_x": {
             "color": "#2a3f5f"
            },
            "error_y": {
             "color": "#2a3f5f"
            },
            "marker": {
             "line": {
              "color": "white",
              "width": 0.5
             },
             "pattern": {
              "fillmode": "overlay",
              "size": 10,
              "solidity": 0.2
             }
            },
            "type": "bar"
           }
          ],
          "barpolar": [
           {
            "marker": {
             "line": {
              "color": "white",
              "width": 0.5
             },
             "pattern": {
              "fillmode": "overlay",
              "size": 10,
              "solidity": 0.2
             }
            },
            "type": "barpolar"
           }
          ],
          "carpet": [
           {
            "aaxis": {
             "endlinecolor": "#2a3f5f",
             "gridcolor": "#C8D4E3",
             "linecolor": "#C8D4E3",
             "minorgridcolor": "#C8D4E3",
             "startlinecolor": "#2a3f5f"
            },
            "baxis": {
             "endlinecolor": "#2a3f5f",
             "gridcolor": "#C8D4E3",
             "linecolor": "#C8D4E3",
             "minorgridcolor": "#C8D4E3",
             "startlinecolor": "#2a3f5f"
            },
            "type": "carpet"
           }
          ],
          "choropleth": [
           {
            "colorbar": {
             "outlinewidth": 0,
             "ticks": ""
            },
            "type": "choropleth"
           }
          ],
          "contour": [
           {
            "colorbar": {
             "outlinewidth": 0,
             "ticks": ""
            },
            "colorscale": [
             [
              0,
              "#0d0887"
             ],
             [
              0.1111111111111111,
              "#46039f"
             ],
             [
              0.2222222222222222,
              "#7201a8"
             ],
             [
              0.3333333333333333,
              "#9c179e"
             ],
             [
              0.4444444444444444,
              "#bd3786"
             ],
             [
              0.5555555555555556,
              "#d8576b"
             ],
             [
              0.6666666666666666,
              "#ed7953"
             ],
             [
              0.7777777777777778,
              "#fb9f3a"
             ],
             [
              0.8888888888888888,
              "#fdca26"
             ],
             [
              1,
              "#f0f921"
             ]
            ],
            "type": "contour"
           }
          ],
          "contourcarpet": [
           {
            "colorbar": {
             "outlinewidth": 0,
             "ticks": ""
            },
            "type": "contourcarpet"
           }
          ],
          "heatmap": [
           {
            "colorbar": {
             "outlinewidth": 0,
             "ticks": ""
            },
            "colorscale": [
             [
              0,
              "#0d0887"
             ],
             [
              0.1111111111111111,
              "#46039f"
             ],
             [
              0.2222222222222222,
              "#7201a8"
             ],
             [
              0.3333333333333333,
              "#9c179e"
             ],
             [
              0.4444444444444444,
              "#bd3786"
             ],
             [
              0.5555555555555556,
              "#d8576b"
             ],
             [
              0.6666666666666666,
              "#ed7953"
             ],
             [
              0.7777777777777778,
              "#fb9f3a"
             ],
             [
              0.8888888888888888,
              "#fdca26"
             ],
             [
              1,
              "#f0f921"
             ]
            ],
            "type": "heatmap"
           }
          ],
          "heatmapgl": [
           {
            "colorbar": {
             "outlinewidth": 0,
             "ticks": ""
            },
            "colorscale": [
             [
              0,
              "#0d0887"
             ],
             [
              0.1111111111111111,
              "#46039f"
             ],
             [
              0.2222222222222222,
              "#7201a8"
             ],
             [
              0.3333333333333333,
              "#9c179e"
             ],
             [
              0.4444444444444444,
              "#bd3786"
             ],
             [
              0.5555555555555556,
              "#d8576b"
             ],
             [
              0.6666666666666666,
              "#ed7953"
             ],
             [
              0.7777777777777778,
              "#fb9f3a"
             ],
             [
              0.8888888888888888,
              "#fdca26"
             ],
             [
              1,
              "#f0f921"
             ]
            ],
            "type": "heatmapgl"
           }
          ],
          "histogram": [
           {
            "marker": {
             "pattern": {
              "fillmode": "overlay",
              "size": 10,
              "solidity": 0.2
             }
            },
            "type": "histogram"
           }
          ],
          "histogram2d": [
           {
            "colorbar": {
             "outlinewidth": 0,
             "ticks": ""
            },
            "colorscale": [
             [
              0,
              "#0d0887"
             ],
             [
              0.1111111111111111,
              "#46039f"
             ],
             [
              0.2222222222222222,
              "#7201a8"
             ],
             [
              0.3333333333333333,
              "#9c179e"
             ],
             [
              0.4444444444444444,
              "#bd3786"
             ],
             [
              0.5555555555555556,
              "#d8576b"
             ],
             [
              0.6666666666666666,
              "#ed7953"
             ],
             [
              0.7777777777777778,
              "#fb9f3a"
             ],
             [
              0.8888888888888888,
              "#fdca26"
             ],
             [
              1,
              "#f0f921"
             ]
            ],
            "type": "histogram2d"
           }
          ],
          "histogram2dcontour": [
           {
            "colorbar": {
             "outlinewidth": 0,
             "ticks": ""
            },
            "colorscale": [
             [
              0,
              "#0d0887"
             ],
             [
              0.1111111111111111,
              "#46039f"
             ],
             [
              0.2222222222222222,
              "#7201a8"
             ],
             [
              0.3333333333333333,
              "#9c179e"
             ],
             [
              0.4444444444444444,
              "#bd3786"
             ],
             [
              0.5555555555555556,
              "#d8576b"
             ],
             [
              0.6666666666666666,
              "#ed7953"
             ],
             [
              0.7777777777777778,
              "#fb9f3a"
             ],
             [
              0.8888888888888888,
              "#fdca26"
             ],
             [
              1,
              "#f0f921"
             ]
            ],
            "type": "histogram2dcontour"
           }
          ],
          "mesh3d": [
           {
            "colorbar": {
             "outlinewidth": 0,
             "ticks": ""
            },
            "type": "mesh3d"
           }
          ],
          "parcoords": [
           {
            "line": {
             "colorbar": {
              "outlinewidth": 0,
              "ticks": ""
             }
            },
            "type": "parcoords"
           }
          ],
          "pie": [
           {
            "automargin": true,
            "type": "pie"
           }
          ],
          "scatter": [
           {
            "fillpattern": {
             "fillmode": "overlay",
             "size": 10,
             "solidity": 0.2
            },
            "type": "scatter"
           }
          ],
          "scatter3d": [
           {
            "line": {
             "colorbar": {
              "outlinewidth": 0,
              "ticks": ""
             }
            },
            "marker": {
             "colorbar": {
              "outlinewidth": 0,
              "ticks": ""
             }
            },
            "type": "scatter3d"
           }
          ],
          "scattercarpet": [
           {
            "marker": {
             "colorbar": {
              "outlinewidth": 0,
              "ticks": ""
             }
            },
            "type": "scattercarpet"
           }
          ],
          "scattergeo": [
           {
            "marker": {
             "colorbar": {
              "outlinewidth": 0,
              "ticks": ""
             }
            },
            "type": "scattergeo"
           }
          ],
          "scattergl": [
           {
            "marker": {
             "colorbar": {
              "outlinewidth": 0,
              "ticks": ""
             }
            },
            "type": "scattergl"
           }
          ],
          "scattermapbox": [
           {
            "marker": {
             "colorbar": {
              "outlinewidth": 0,
              "ticks": ""
             }
            },
            "type": "scattermapbox"
           }
          ],
          "scatterpolar": [
           {
            "marker": {
             "colorbar": {
              "outlinewidth": 0,
              "ticks": ""
             }
            },
            "type": "scatterpolar"
           }
          ],
          "scatterpolargl": [
           {
            "marker": {
             "colorbar": {
              "outlinewidth": 0,
              "ticks": ""
             }
            },
            "type": "scatterpolargl"
           }
          ],
          "scatterternary": [
           {
            "marker": {
             "colorbar": {
              "outlinewidth": 0,
              "ticks": ""
             }
            },
            "type": "scatterternary"
           }
          ],
          "surface": [
           {
            "colorbar": {
             "outlinewidth": 0,
             "ticks": ""
            },
            "colorscale": [
             [
              0,
              "#0d0887"
             ],
             [
              0.1111111111111111,
              "#46039f"
             ],
             [
              0.2222222222222222,
              "#7201a8"
             ],
             [
              0.3333333333333333,
              "#9c179e"
             ],
             [
              0.4444444444444444,
              "#bd3786"
             ],
             [
              0.5555555555555556,
              "#d8576b"
             ],
             [
              0.6666666666666666,
              "#ed7953"
             ],
             [
              0.7777777777777778,
              "#fb9f3a"
             ],
             [
              0.8888888888888888,
              "#fdca26"
             ],
             [
              1,
              "#f0f921"
             ]
            ],
            "type": "surface"
           }
          ],
          "table": [
           {
            "cells": {
             "fill": {
              "color": "#EBF0F8"
             },
             "line": {
              "color": "white"
             }
            },
            "header": {
             "fill": {
              "color": "#C8D4E3"
             },
             "line": {
              "color": "white"
             }
            },
            "type": "table"
           }
          ]
         },
         "layout": {
          "annotationdefaults": {
           "arrowcolor": "#2a3f5f",
           "arrowhead": 0,
           "arrowwidth": 1
          },
          "autotypenumbers": "strict",
          "coloraxis": {
           "colorbar": {
            "outlinewidth": 0,
            "ticks": ""
           }
          },
          "colorscale": {
           "diverging": [
            [
             0,
             "#8e0152"
            ],
            [
             0.1,
             "#c51b7d"
            ],
            [
             0.2,
             "#de77ae"
            ],
            [
             0.3,
             "#f1b6da"
            ],
            [
             0.4,
             "#fde0ef"
            ],
            [
             0.5,
             "#f7f7f7"
            ],
            [
             0.6,
             "#e6f5d0"
            ],
            [
             0.7,
             "#b8e186"
            ],
            [
             0.8,
             "#7fbc41"
            ],
            [
             0.9,
             "#4d9221"
            ],
            [
             1,
             "#276419"
            ]
           ],
           "sequential": [
            [
             0,
             "#0d0887"
            ],
            [
             0.1111111111111111,
             "#46039f"
            ],
            [
             0.2222222222222222,
             "#7201a8"
            ],
            [
             0.3333333333333333,
             "#9c179e"
            ],
            [
             0.4444444444444444,
             "#bd3786"
            ],
            [
             0.5555555555555556,
             "#d8576b"
            ],
            [
             0.6666666666666666,
             "#ed7953"
            ],
            [
             0.7777777777777778,
             "#fb9f3a"
            ],
            [
             0.8888888888888888,
             "#fdca26"
            ],
            [
             1,
             "#f0f921"
            ]
           ],
           "sequentialminus": [
            [
             0,
             "#0d0887"
            ],
            [
             0.1111111111111111,
             "#46039f"
            ],
            [
             0.2222222222222222,
             "#7201a8"
            ],
            [
             0.3333333333333333,
             "#9c179e"
            ],
            [
             0.4444444444444444,
             "#bd3786"
            ],
            [
             0.5555555555555556,
             "#d8576b"
            ],
            [
             0.6666666666666666,
             "#ed7953"
            ],
            [
             0.7777777777777778,
             "#fb9f3a"
            ],
            [
             0.8888888888888888,
             "#fdca26"
            ],
            [
             1,
             "#f0f921"
            ]
           ]
          },
          "colorway": [
           "#636efa",
           "#EF553B",
           "#00cc96",
           "#ab63fa",
           "#FFA15A",
           "#19d3f3",
           "#FF6692",
           "#B6E880",
           "#FF97FF",
           "#FECB52"
          ],
          "font": {
           "color": "#2a3f5f"
          },
          "geo": {
           "bgcolor": "white",
           "lakecolor": "white",
           "landcolor": "white",
           "showlakes": true,
           "showland": true,
           "subunitcolor": "#C8D4E3"
          },
          "hoverlabel": {
           "align": "left"
          },
          "hovermode": "closest",
          "mapbox": {
           "style": "light"
          },
          "paper_bgcolor": "white",
          "plot_bgcolor": "white",
          "polar": {
           "angularaxis": {
            "gridcolor": "#EBF0F8",
            "linecolor": "#EBF0F8",
            "ticks": ""
           },
           "bgcolor": "white",
           "radialaxis": {
            "gridcolor": "#EBF0F8",
            "linecolor": "#EBF0F8",
            "ticks": ""
           }
          },
          "scene": {
           "xaxis": {
            "backgroundcolor": "white",
            "gridcolor": "#DFE8F3",
            "gridwidth": 2,
            "linecolor": "#EBF0F8",
            "showbackground": true,
            "ticks": "",
            "zerolinecolor": "#EBF0F8"
           },
           "yaxis": {
            "backgroundcolor": "white",
            "gridcolor": "#DFE8F3",
            "gridwidth": 2,
            "linecolor": "#EBF0F8",
            "showbackground": true,
            "ticks": "",
            "zerolinecolor": "#EBF0F8"
           },
           "zaxis": {
            "backgroundcolor": "white",
            "gridcolor": "#DFE8F3",
            "gridwidth": 2,
            "linecolor": "#EBF0F8",
            "showbackground": true,
            "ticks": "",
            "zerolinecolor": "#EBF0F8"
           }
          },
          "shapedefaults": {
           "line": {
            "color": "#2a3f5f"
           }
          },
          "ternary": {
           "aaxis": {
            "gridcolor": "#DFE8F3",
            "linecolor": "#A2B1C6",
            "ticks": ""
           },
           "baxis": {
            "gridcolor": "#DFE8F3",
            "linecolor": "#A2B1C6",
            "ticks": ""
           },
           "bgcolor": "white",
           "caxis": {
            "gridcolor": "#DFE8F3",
            "linecolor": "#A2B1C6",
            "ticks": ""
           }
          },
          "title": {
           "x": 0.05
          },
          "xaxis": {
           "automargin": true,
           "gridcolor": "#EBF0F8",
           "linecolor": "#EBF0F8",
           "ticks": "",
           "title": {
            "standoff": 15
           },
           "zerolinecolor": "#EBF0F8",
           "zerolinewidth": 2
          },
          "yaxis": {
           "automargin": true,
           "gridcolor": "#EBF0F8",
           "linecolor": "#EBF0F8",
           "ticks": "",
           "title": {
            "standoff": 15
           },
           "zerolinecolor": "#EBF0F8",
           "zerolinewidth": 2
          }
         }
        },
        "title": {
         "text": "Break Even Customers by Marketing Channel"
        },
        "xaxis": {
         "anchor": "y",
         "domain": [
          0,
          1
         ],
         "title": {
          "text": "Marketing_Channel"
         }
        },
        "yaxis": {
         "anchor": "x",
         "domain": [
          0,
          1
         ],
         "title": {
          "text": "Break_Even_Customers"
         }
        }
       }
      }
     },
     "metadata": {},
     "output_type": "display_data"
    }
   ],
   "source": [
    "df['Break_Even_Customers'] = df['Marketing_Spend']/df['CAC']\n",
    "\n",
    "fig = px.bar(df, x='Marketing_Channel', y='Break_Even_Customers', title='Break Even Customers by Marketing Channel')\n",
    "\n",
    "fig.show()"
   ]
  },
  {
   "cell_type": "code",
   "execution_count": 17,
   "metadata": {},
   "outputs": [
    {
     "data": {
      "application/vnd.plotly.v1+json": {
       "config": {
        "plotlyServerURL": "https://plot.ly"
       },
       "data": [
        {
         "marker": {
          "color": "royalblue"
         },
         "name": "Actual Customers Acquired",
         "type": "bar",
         "x": [
          "Email Marketing",
          "Online Ads",
          "Social Media",
          "Online Ads",
          "Email Marketing",
          "Email Marketing",
          "Referral",
          "Online Ads",
          "Social Media",
          "Online Ads",
          "Online Ads",
          "Email Marketing",
          "Online Ads",
          "Online Ads",
          "Email Marketing",
          "Email Marketing",
          "Online Ads",
          "Email Marketing",
          "Referral",
          "Online Ads",
          "Referral",
          "Email Marketing",
          "Social Media",
          "Online Ads",
          "Referral",
          "Social Media",
          "Online Ads",
          "Online Ads",
          "Referral",
          "Email Marketing",
          "Referral",
          "Email Marketing",
          "Email Marketing",
          "Referral",
          "Social Media",
          "Email Marketing",
          "Referral",
          "Email Marketing",
          "Referral",
          "Email Marketing",
          "Email Marketing",
          "Online Ads",
          "Online Ads",
          "Social Media",
          "Online Ads",
          "Online Ads",
          "Online Ads",
          "Social Media",
          "Email Marketing",
          "Social Media",
          "Social Media",
          "Online Ads",
          "Social Media",
          "Referral",
          "Email Marketing",
          "Email Marketing",
          "Online Ads",
          "Email Marketing",
          "Online Ads",
          "Social Media",
          "Referral",
          "Email Marketing",
          "Email Marketing",
          "Email Marketing",
          "Referral",
          "Referral",
          "Online Ads",
          "Online Ads",
          "Social Media",
          "Social Media",
          "Online Ads",
          "Referral",
          "Referral",
          "Social Media",
          "Email Marketing",
          "Social Media",
          "Referral",
          "Social Media",
          "Social Media",
          "Online Ads",
          "Email Marketing",
          "Social Media",
          "Email Marketing",
          "Referral",
          "Social Media",
          "Online Ads",
          "Referral",
          "Email Marketing",
          "Online Ads",
          "Online Ads",
          "Online Ads",
          "Email Marketing",
          "Referral",
          "Social Media",
          "Online Ads",
          "Social Media",
          "Referral",
          "Email Marketing",
          "Referral",
          "Referral",
          "Online Ads",
          "Email Marketing",
          "Email Marketing",
          "Email Marketing",
          "Social Media",
          "Email Marketing",
          "Online Ads",
          "Social Media",
          "Social Media",
          "Referral",
          "Referral",
          "Social Media",
          "Email Marketing",
          "Online Ads",
          "Referral",
          "Referral",
          "Social Media",
          "Email Marketing",
          "Email Marketing",
          "Online Ads",
          "Referral",
          "Email Marketing",
          "Referral",
          "Email Marketing",
          "Online Ads",
          "Social Media",
          "Online Ads",
          "Referral",
          "Referral",
          "Referral",
          "Social Media",
          "Online Ads",
          "Referral",
          "Referral",
          "Online Ads",
          "Social Media",
          "Online Ads",
          "Referral",
          "Referral",
          "Online Ads",
          "Social Media",
          "Email Marketing",
          "Social Media",
          "Referral",
          "Social Media",
          "Online Ads",
          "Email Marketing",
          "Email Marketing",
          "Online Ads",
          "Social Media",
          "Referral",
          "Email Marketing",
          "Social Media",
          "Email Marketing",
          "Online Ads",
          "Online Ads",
          "Social Media",
          "Email Marketing",
          "Online Ads",
          "Online Ads",
          "Online Ads",
          "Email Marketing",
          "Online Ads",
          "Referral",
          "Referral",
          "Online Ads",
          "Online Ads",
          "Email Marketing",
          "Online Ads",
          "Online Ads",
          "Referral",
          "Email Marketing",
          "Social Media",
          "Referral",
          "Referral",
          "Online Ads",
          "Online Ads",
          "Social Media",
          "Social Media",
          "Social Media",
          "Email Marketing",
          "Email Marketing",
          "Referral",
          "Online Ads",
          "Social Media",
          "Social Media",
          "Referral",
          "Online Ads",
          "Online Ads",
          "Social Media",
          "Social Media",
          "Social Media",
          "Online Ads",
          "Referral",
          "Social Media",
          "Referral",
          "Email Marketing",
          "Online Ads",
          "Referral",
          "Referral",
          "Referral",
          "Referral",
          "Referral",
          "Online Ads",
          "Social Media",
          "Online Ads",
          "Social Media",
          "Online Ads",
          "Social Media",
          "Referral",
          "Social Media",
          "Referral",
          "Social Media",
          "Social Media",
          "Referral",
          "Referral",
          "Email Marketing",
          "Email Marketing",
          "Online Ads",
          "Social Media",
          "Referral",
          "Email Marketing",
          "Email Marketing",
          "Email Marketing",
          "Online Ads",
          "Email Marketing",
          "Email Marketing",
          "Referral",
          "Online Ads",
          "Referral",
          "Online Ads",
          "Online Ads",
          "Email Marketing",
          "Email Marketing",
          "Online Ads",
          "Online Ads",
          "Referral",
          "Online Ads",
          "Email Marketing",
          "Email Marketing",
          "Social Media",
          "Email Marketing",
          "Email Marketing",
          "Referral",
          "Online Ads",
          "Email Marketing",
          "Online Ads",
          "Social Media",
          "Email Marketing",
          "Social Media",
          "Social Media",
          "Referral",
          "Online Ads",
          "Social Media",
          "Referral",
          "Referral",
          "Online Ads",
          "Online Ads",
          "Social Media",
          "Referral",
          "Referral",
          "Referral",
          "Social Media",
          "Online Ads",
          "Referral",
          "Email Marketing",
          "Email Marketing",
          "Referral",
          "Email Marketing",
          "Online Ads",
          "Referral",
          "Social Media",
          "Email Marketing",
          "Referral",
          "Online Ads",
          "Online Ads",
          "Online Ads",
          "Email Marketing",
          "Social Media",
          "Email Marketing",
          "Email Marketing",
          "Online Ads",
          "Email Marketing",
          "Social Media",
          "Social Media",
          "Referral",
          "Referral",
          "Online Ads",
          "Social Media",
          "Social Media",
          "Online Ads",
          "Referral",
          "Email Marketing",
          "Social Media",
          "Email Marketing",
          "Email Marketing",
          "Social Media",
          "Online Ads",
          "Online Ads",
          "Referral",
          "Referral",
          "Email Marketing",
          "Referral",
          "Email Marketing",
          "Online Ads",
          "Online Ads",
          "Social Media",
          "Referral",
          "Referral",
          "Referral",
          "Referral",
          "Online Ads",
          "Online Ads",
          "Online Ads",
          "Referral",
          "Referral",
          "Social Media",
          "Email Marketing",
          "Online Ads",
          "Referral",
          "Referral",
          "Referral",
          "Referral",
          "Referral",
          "Online Ads",
          "Email Marketing",
          "Social Media",
          "Referral",
          "Referral",
          "Referral",
          "Referral",
          "Social Media",
          "Referral",
          "Online Ads",
          "Referral",
          "Referral",
          "Online Ads",
          "Referral",
          "Social Media",
          "Social Media",
          "Referral",
          "Online Ads",
          "Online Ads",
          "Online Ads",
          "Social Media",
          "Referral",
          "Referral",
          "Social Media",
          "Email Marketing",
          "Social Media",
          "Referral",
          "Email Marketing",
          "Referral",
          "Online Ads",
          "Referral",
          "Online Ads",
          "Referral",
          "Social Media",
          "Online Ads",
          "Social Media",
          "Email Marketing",
          "Social Media",
          "Email Marketing",
          "Email Marketing",
          "Social Media",
          "Email Marketing",
          "Social Media",
          "Email Marketing",
          "Online Ads",
          "Referral",
          "Email Marketing",
          "Email Marketing",
          "Email Marketing",
          "Email Marketing",
          "Social Media",
          "Online Ads",
          "Email Marketing",
          "Social Media",
          "Social Media",
          "Referral",
          "Email Marketing",
          "Social Media",
          "Social Media",
          "Social Media",
          "Social Media",
          "Social Media",
          "Online Ads",
          "Social Media",
          "Referral",
          "Email Marketing",
          "Referral",
          "Email Marketing",
          "Social Media",
          "Email Marketing",
          "Online Ads",
          "Social Media",
          "Social Media",
          "Email Marketing",
          "Email Marketing",
          "Social Media",
          "Social Media",
          "Online Ads",
          "Social Media",
          "Referral",
          "Referral",
          "Online Ads",
          "Online Ads",
          "Email Marketing",
          "Email Marketing",
          "Social Media",
          "Referral",
          "Referral",
          "Email Marketing",
          "Online Ads",
          "Online Ads",
          "Online Ads",
          "Online Ads",
          "Social Media",
          "Referral",
          "Online Ads",
          "Social Media",
          "Email Marketing",
          "Online Ads",
          "Email Marketing",
          "Social Media",
          "Online Ads",
          "Email Marketing",
          "Online Ads",
          "Referral",
          "Referral",
          "Online Ads",
          "Social Media",
          "Online Ads",
          "Referral",
          "Email Marketing",
          "Online Ads",
          "Online Ads",
          "Referral",
          "Social Media",
          "Referral",
          "Email Marketing",
          "Referral",
          "Email Marketing",
          "Referral",
          "Referral",
          "Email Marketing",
          "Email Marketing",
          "Email Marketing",
          "Referral",
          "Email Marketing",
          "Referral",
          "Email Marketing",
          "Social Media",
          "Social Media",
          "Online Ads",
          "Email Marketing",
          "Referral",
          "Email Marketing",
          "Email Marketing",
          "Social Media",
          "Online Ads",
          "Social Media",
          "Social Media",
          "Social Media",
          "Email Marketing",
          "Online Ads",
          "Online Ads",
          "Email Marketing",
          "Email Marketing",
          "Online Ads",
          "Social Media",
          "Email Marketing",
          "Social Media",
          "Online Ads",
          "Social Media",
          "Referral",
          "Email Marketing",
          "Email Marketing",
          "Referral",
          "Referral",
          "Social Media",
          "Online Ads",
          "Social Media",
          "Referral",
          "Referral",
          "Referral",
          "Social Media",
          "Email Marketing",
          "Email Marketing",
          "Email Marketing",
          "Online Ads",
          "Online Ads",
          "Social Media",
          "Online Ads",
          "Social Media",
          "Email Marketing",
          "Social Media",
          "Online Ads",
          "Social Media",
          "Online Ads"
         ],
         "y": [
          16,
          33,
          44,
          32,
          13,
          35,
          27,
          22,
          17,
          39,
          15,
          23,
          50,
          48,
          11,
          13,
          31,
          25,
          18,
          46,
          23,
          14,
          45,
          23,
          47,
          23,
          24,
          31,
          19,
          48,
          10,
          27,
          19,
          18,
          44,
          26,
          21,
          17,
          11,
          18,
          10,
          32,
          25,
          47,
          30,
          11,
          21,
          26,
          13,
          18,
          36,
          43,
          17,
          14,
          40,
          38,
          33,
          42,
          47,
          16,
          38,
          42,
          24,
          49,
          12,
          43,
          29,
          39,
          11,
          13,
          40,
          35,
          37,
          16,
          41,
          38,
          14,
          15,
          30,
          48,
          19,
          14,
          18,
          27,
          49,
          50,
          47,
          45,
          30,
          34,
          48,
          43,
          28,
          39,
          42,
          48,
          37,
          16,
          17,
          45,
          23,
          37,
          38,
          24,
          36,
          31,
          39,
          35,
          36,
          16,
          30,
          37,
          30,
          26,
          33,
          19,
          40,
          14,
          15,
          15,
          15,
          37,
          16,
          33,
          18,
          45,
          13,
          47,
          45,
          45,
          31,
          17,
          36,
          32,
          37,
          13,
          28,
          48,
          29,
          32,
          16,
          46,
          42,
          23,
          19,
          40,
          24,
          16,
          32,
          45,
          33,
          17,
          27,
          46,
          24,
          37,
          45,
          49,
          49,
          45,
          11,
          48,
          27,
          11,
          21,
          27,
          29,
          31,
          32,
          10,
          21,
          19,
          46,
          35,
          14,
          19,
          50,
          11,
          15,
          43,
          23,
          34,
          36,
          39,
          31,
          20,
          33,
          29,
          30,
          46,
          48,
          15,
          13,
          19,
          20,
          49,
          13,
          15,
          27,
          38,
          37,
          41,
          48,
          38,
          36,
          27,
          23,
          42,
          17,
          32,
          37,
          17,
          28,
          47,
          41,
          43,
          29,
          12,
          24,
          35,
          48,
          13,
          10,
          23,
          29,
          23,
          18,
          26,
          28,
          30,
          17,
          10,
          41,
          37,
          21,
          18,
          34,
          44,
          24,
          42,
          45,
          32,
          14,
          35,
          12,
          37,
          11,
          39,
          14,
          30,
          46,
          37,
          46,
          35,
          50,
          36,
          28,
          17,
          35,
          11,
          30,
          20,
          49,
          39,
          33,
          15,
          37,
          16,
          25,
          37,
          47,
          35,
          43,
          15,
          35,
          29,
          31,
          24,
          31,
          20,
          14,
          42,
          50,
          17,
          43,
          42,
          22,
          32,
          32,
          19,
          25,
          16,
          19,
          26,
          22,
          21,
          48,
          19,
          14,
          21,
          50,
          41,
          39,
          46,
          47,
          38,
          46,
          50,
          49,
          30,
          50,
          30,
          19,
          38,
          14,
          40,
          38,
          50,
          29,
          27,
          47,
          13,
          32,
          42,
          14,
          29,
          39,
          38,
          12,
          13,
          33,
          28,
          14,
          15,
          49,
          48,
          42,
          34,
          39,
          47,
          45,
          12,
          38,
          46,
          22,
          30,
          48,
          40,
          42,
          19,
          13,
          38,
          16,
          31,
          15,
          42,
          21,
          12,
          25,
          38,
          38,
          43,
          43,
          49,
          20,
          33,
          33,
          28,
          34,
          36,
          31,
          48,
          13,
          50,
          31,
          14,
          31,
          16,
          45,
          34,
          28,
          26,
          48,
          19,
          31,
          15,
          47,
          19,
          32,
          29,
          35,
          18,
          48,
          15,
          29,
          45,
          34,
          31,
          18,
          43,
          15,
          37,
          42,
          33,
          11,
          33,
          29,
          21,
          23,
          31,
          41,
          22,
          24,
          18,
          19,
          14,
          28,
          16,
          42,
          44,
          43,
          12,
          31,
          49,
          18,
          48,
          34,
          19,
          20,
          21,
          49,
          20,
          38,
          12,
          36,
          33,
          25,
          38,
          49,
          28,
          38,
          24,
          44,
          25,
          29,
          40,
          22,
          33,
          46,
          38,
          39,
          28,
          34,
          42,
          43,
          36,
          20,
          22,
          48,
          18,
          26,
          13,
          40,
          33,
          45,
          16,
          43,
          17,
          28,
          15,
          20,
          27,
          38,
          42,
          19,
          37,
          15,
          24,
          38,
          32,
          11,
          36,
          13,
          35,
          42,
          33,
          25,
          34,
          15,
          33,
          24,
          11,
          30,
          16,
          31,
          19,
          18,
          12,
          28,
          40
         ]
        },
        {
         "marker": {
          "color": "lightcoral"
         },
         "name": "Break Even Customers",
         "type": "bar",
         "x": [
          "Email Marketing",
          "Online Ads",
          "Social Media",
          "Online Ads",
          "Email Marketing",
          "Email Marketing",
          "Referral",
          "Online Ads",
          "Social Media",
          "Online Ads",
          "Online Ads",
          "Email Marketing",
          "Online Ads",
          "Online Ads",
          "Email Marketing",
          "Email Marketing",
          "Online Ads",
          "Email Marketing",
          "Referral",
          "Online Ads",
          "Referral",
          "Email Marketing",
          "Social Media",
          "Online Ads",
          "Referral",
          "Social Media",
          "Online Ads",
          "Online Ads",
          "Referral",
          "Email Marketing",
          "Referral",
          "Email Marketing",
          "Email Marketing",
          "Referral",
          "Social Media",
          "Email Marketing",
          "Referral",
          "Email Marketing",
          "Referral",
          "Email Marketing",
          "Email Marketing",
          "Online Ads",
          "Online Ads",
          "Social Media",
          "Online Ads",
          "Online Ads",
          "Online Ads",
          "Social Media",
          "Email Marketing",
          "Social Media",
          "Social Media",
          "Online Ads",
          "Social Media",
          "Referral",
          "Email Marketing",
          "Email Marketing",
          "Online Ads",
          "Email Marketing",
          "Online Ads",
          "Social Media",
          "Referral",
          "Email Marketing",
          "Email Marketing",
          "Email Marketing",
          "Referral",
          "Referral",
          "Online Ads",
          "Online Ads",
          "Social Media",
          "Social Media",
          "Online Ads",
          "Referral",
          "Referral",
          "Social Media",
          "Email Marketing",
          "Social Media",
          "Referral",
          "Social Media",
          "Social Media",
          "Online Ads",
          "Email Marketing",
          "Social Media",
          "Email Marketing",
          "Referral",
          "Social Media",
          "Online Ads",
          "Referral",
          "Email Marketing",
          "Online Ads",
          "Online Ads",
          "Online Ads",
          "Email Marketing",
          "Referral",
          "Social Media",
          "Online Ads",
          "Social Media",
          "Referral",
          "Email Marketing",
          "Referral",
          "Referral",
          "Online Ads",
          "Email Marketing",
          "Email Marketing",
          "Email Marketing",
          "Social Media",
          "Email Marketing",
          "Online Ads",
          "Social Media",
          "Social Media",
          "Referral",
          "Referral",
          "Social Media",
          "Email Marketing",
          "Online Ads",
          "Referral",
          "Referral",
          "Social Media",
          "Email Marketing",
          "Email Marketing",
          "Online Ads",
          "Referral",
          "Email Marketing",
          "Referral",
          "Email Marketing",
          "Online Ads",
          "Social Media",
          "Online Ads",
          "Referral",
          "Referral",
          "Referral",
          "Social Media",
          "Online Ads",
          "Referral",
          "Referral",
          "Online Ads",
          "Social Media",
          "Online Ads",
          "Referral",
          "Referral",
          "Online Ads",
          "Social Media",
          "Email Marketing",
          "Social Media",
          "Referral",
          "Social Media",
          "Online Ads",
          "Email Marketing",
          "Email Marketing",
          "Online Ads",
          "Social Media",
          "Referral",
          "Email Marketing",
          "Social Media",
          "Email Marketing",
          "Online Ads",
          "Online Ads",
          "Social Media",
          "Email Marketing",
          "Online Ads",
          "Online Ads",
          "Online Ads",
          "Email Marketing",
          "Online Ads",
          "Referral",
          "Referral",
          "Online Ads",
          "Online Ads",
          "Email Marketing",
          "Online Ads",
          "Online Ads",
          "Referral",
          "Email Marketing",
          "Social Media",
          "Referral",
          "Referral",
          "Online Ads",
          "Online Ads",
          "Social Media",
          "Social Media",
          "Social Media",
          "Email Marketing",
          "Email Marketing",
          "Referral",
          "Online Ads",
          "Social Media",
          "Social Media",
          "Referral",
          "Online Ads",
          "Online Ads",
          "Social Media",
          "Social Media",
          "Social Media",
          "Online Ads",
          "Referral",
          "Social Media",
          "Referral",
          "Email Marketing",
          "Online Ads",
          "Referral",
          "Referral",
          "Referral",
          "Referral",
          "Referral",
          "Online Ads",
          "Social Media",
          "Online Ads",
          "Social Media",
          "Online Ads",
          "Social Media",
          "Referral",
          "Social Media",
          "Referral",
          "Social Media",
          "Social Media",
          "Referral",
          "Referral",
          "Email Marketing",
          "Email Marketing",
          "Online Ads",
          "Social Media",
          "Referral",
          "Email Marketing",
          "Email Marketing",
          "Email Marketing",
          "Online Ads",
          "Email Marketing",
          "Email Marketing",
          "Referral",
          "Online Ads",
          "Referral",
          "Online Ads",
          "Online Ads",
          "Email Marketing",
          "Email Marketing",
          "Online Ads",
          "Online Ads",
          "Referral",
          "Online Ads",
          "Email Marketing",
          "Email Marketing",
          "Social Media",
          "Email Marketing",
          "Email Marketing",
          "Referral",
          "Online Ads",
          "Email Marketing",
          "Online Ads",
          "Social Media",
          "Email Marketing",
          "Social Media",
          "Social Media",
          "Referral",
          "Online Ads",
          "Social Media",
          "Referral",
          "Referral",
          "Online Ads",
          "Online Ads",
          "Social Media",
          "Referral",
          "Referral",
          "Referral",
          "Social Media",
          "Online Ads",
          "Referral",
          "Email Marketing",
          "Email Marketing",
          "Referral",
          "Email Marketing",
          "Online Ads",
          "Referral",
          "Social Media",
          "Email Marketing",
          "Referral",
          "Online Ads",
          "Online Ads",
          "Online Ads",
          "Email Marketing",
          "Social Media",
          "Email Marketing",
          "Email Marketing",
          "Online Ads",
          "Email Marketing",
          "Social Media",
          "Social Media",
          "Referral",
          "Referral",
          "Online Ads",
          "Social Media",
          "Social Media",
          "Online Ads",
          "Referral",
          "Email Marketing",
          "Social Media",
          "Email Marketing",
          "Email Marketing",
          "Social Media",
          "Online Ads",
          "Online Ads",
          "Referral",
          "Referral",
          "Email Marketing",
          "Referral",
          "Email Marketing",
          "Online Ads",
          "Online Ads",
          "Social Media",
          "Referral",
          "Referral",
          "Referral",
          "Referral",
          "Online Ads",
          "Online Ads",
          "Online Ads",
          "Referral",
          "Referral",
          "Social Media",
          "Email Marketing",
          "Online Ads",
          "Referral",
          "Referral",
          "Referral",
          "Referral",
          "Referral",
          "Online Ads",
          "Email Marketing",
          "Social Media",
          "Referral",
          "Referral",
          "Referral",
          "Referral",
          "Social Media",
          "Referral",
          "Online Ads",
          "Referral",
          "Referral",
          "Online Ads",
          "Referral",
          "Social Media",
          "Social Media",
          "Referral",
          "Online Ads",
          "Online Ads",
          "Online Ads",
          "Social Media",
          "Referral",
          "Referral",
          "Social Media",
          "Email Marketing",
          "Social Media",
          "Referral",
          "Email Marketing",
          "Referral",
          "Online Ads",
          "Referral",
          "Online Ads",
          "Referral",
          "Social Media",
          "Online Ads",
          "Social Media",
          "Email Marketing",
          "Social Media",
          "Email Marketing",
          "Email Marketing",
          "Social Media",
          "Email Marketing",
          "Social Media",
          "Email Marketing",
          "Online Ads",
          "Referral",
          "Email Marketing",
          "Email Marketing",
          "Email Marketing",
          "Email Marketing",
          "Social Media",
          "Online Ads",
          "Email Marketing",
          "Social Media",
          "Social Media",
          "Referral",
          "Email Marketing",
          "Social Media",
          "Social Media",
          "Social Media",
          "Social Media",
          "Social Media",
          "Online Ads",
          "Social Media",
          "Referral",
          "Email Marketing",
          "Referral",
          "Email Marketing",
          "Social Media",
          "Email Marketing",
          "Online Ads",
          "Social Media",
          "Social Media",
          "Email Marketing",
          "Email Marketing",
          "Social Media",
          "Social Media",
          "Online Ads",
          "Social Media",
          "Referral",
          "Referral",
          "Online Ads",
          "Online Ads",
          "Email Marketing",
          "Email Marketing",
          "Social Media",
          "Referral",
          "Referral",
          "Email Marketing",
          "Online Ads",
          "Online Ads",
          "Online Ads",
          "Online Ads",
          "Social Media",
          "Referral",
          "Online Ads",
          "Social Media",
          "Email Marketing",
          "Online Ads",
          "Email Marketing",
          "Social Media",
          "Online Ads",
          "Email Marketing",
          "Online Ads",
          "Referral",
          "Referral",
          "Online Ads",
          "Social Media",
          "Online Ads",
          "Referral",
          "Email Marketing",
          "Online Ads",
          "Online Ads",
          "Referral",
          "Social Media",
          "Referral",
          "Email Marketing",
          "Referral",
          "Email Marketing",
          "Referral",
          "Referral",
          "Email Marketing",
          "Email Marketing",
          "Email Marketing",
          "Referral",
          "Email Marketing",
          "Referral",
          "Email Marketing",
          "Social Media",
          "Social Media",
          "Online Ads",
          "Email Marketing",
          "Referral",
          "Email Marketing",
          "Email Marketing",
          "Social Media",
          "Online Ads",
          "Social Media",
          "Social Media",
          "Social Media",
          "Email Marketing",
          "Online Ads",
          "Online Ads",
          "Email Marketing",
          "Email Marketing",
          "Online Ads",
          "Social Media",
          "Email Marketing",
          "Social Media",
          "Online Ads",
          "Social Media",
          "Referral",
          "Email Marketing",
          "Email Marketing",
          "Referral",
          "Referral",
          "Social Media",
          "Online Ads",
          "Social Media",
          "Referral",
          "Referral",
          "Referral",
          "Social Media",
          "Email Marketing",
          "Email Marketing",
          "Email Marketing",
          "Online Ads",
          "Online Ads",
          "Social Media",
          "Online Ads",
          "Social Media",
          "Email Marketing",
          "Social Media",
          "Online Ads",
          "Social Media",
          "Online Ads"
         ],
         "y": [
          16,
          33,
          44,
          32,
          13,
          35,
          27,
          22,
          17,
          38.99999999999999,
          15,
          23,
          50,
          48,
          11,
          13,
          31,
          25,
          18,
          46.00000000000001,
          23,
          14.000000000000002,
          45,
          23,
          46.99999999999999,
          23,
          24,
          31,
          19,
          48,
          10,
          27,
          19,
          18,
          44,
          25.999999999999996,
          21,
          17,
          11,
          18,
          10,
          32,
          25,
          47,
          30,
          11,
          21,
          26,
          13,
          18,
          36,
          43,
          17,
          14,
          40,
          38,
          33,
          42,
          47,
          16,
          38,
          42,
          24,
          49,
          12,
          43,
          29,
          39,
          11,
          13,
          40,
          35,
          37,
          16,
          41,
          38,
          14,
          15,
          30,
          48,
          19,
          14,
          18,
          27,
          49,
          50,
          47,
          45,
          30,
          34,
          48,
          43,
          28,
          39,
          42,
          48,
          37,
          16,
          17,
          45,
          23,
          37,
          38,
          24,
          36,
          31,
          39,
          35,
          36,
          16,
          30,
          37,
          30,
          26,
          33,
          19,
          40,
          14,
          15,
          15,
          15.000000000000002,
          37,
          16,
          33,
          18,
          45,
          13.000000000000002,
          47,
          45,
          45,
          31,
          17,
          36,
          32,
          37,
          13,
          28,
          48,
          29,
          32,
          16,
          46,
          42,
          23,
          19,
          40,
          24,
          16,
          32,
          45,
          33,
          17,
          27.000000000000004,
          46,
          24,
          37,
          45,
          49,
          49,
          45,
          11,
          48,
          26.999999999999996,
          11,
          21,
          27,
          28.999999999999996,
          31,
          32,
          10,
          21,
          19,
          46,
          35,
          14,
          19,
          50.00000000000001,
          11,
          15,
          43,
          23,
          34,
          36,
          39,
          31,
          20,
          33,
          29,
          30,
          46,
          48,
          15,
          13,
          19,
          20,
          49,
          13,
          15,
          27,
          38,
          37,
          41,
          48,
          38,
          36,
          27.000000000000004,
          23,
          42,
          17,
          32,
          37,
          17,
          28.000000000000004,
          47,
          41,
          43,
          29.000000000000004,
          12,
          24,
          35,
          48,
          13,
          10,
          23,
          29,
          23,
          18,
          26,
          28,
          30.000000000000004,
          17,
          10,
          41,
          37,
          21,
          18,
          34,
          44,
          24,
          42,
          45,
          32,
          14,
          35,
          12,
          36.99999999999999,
          11,
          39,
          14,
          30.000000000000004,
          46,
          37,
          46,
          35,
          50,
          36,
          28,
          17,
          35,
          11,
          29.999999999999996,
          20,
          49,
          39,
          33,
          14.999999999999998,
          37,
          16,
          25,
          37,
          47,
          35,
          43,
          15,
          35,
          29,
          31,
          24,
          31,
          20,
          14,
          42,
          50,
          17,
          43,
          42,
          22,
          32,
          32,
          19,
          25,
          16,
          19,
          26,
          22,
          21,
          48,
          19,
          14,
          21,
          50,
          41,
          39,
          46,
          47,
          38,
          46,
          49.99999999999999,
          49,
          30,
          50,
          30.000000000000004,
          19,
          38,
          14,
          40,
          38,
          50,
          29.000000000000004,
          27,
          47,
          13,
          32,
          42,
          13.999999999999998,
          29.000000000000004,
          39,
          38,
          12,
          13,
          33,
          28,
          14,
          15,
          49,
          48,
          42,
          34,
          39,
          47,
          45,
          12,
          38,
          46,
          22,
          30,
          48,
          40,
          42,
          19,
          13,
          38,
          16,
          30.999999999999996,
          15,
          42,
          21,
          12,
          25,
          38,
          38,
          43,
          43,
          49,
          20,
          33,
          33,
          27.999999999999996,
          34,
          36,
          31,
          48,
          13,
          50,
          30.999999999999996,
          14,
          31,
          16,
          45,
          34,
          27.999999999999996,
          26,
          48,
          19,
          31.000000000000004,
          15,
          47,
          19,
          32,
          29,
          35,
          18,
          48,
          15,
          29,
          45,
          34,
          31,
          18,
          43,
          15,
          37,
          42,
          33,
          11,
          33,
          29.000000000000004,
          21,
          23,
          31,
          41,
          22,
          24,
          18,
          19,
          14,
          28,
          16,
          42,
          44,
          43,
          12,
          31,
          49,
          18,
          48,
          34,
          19,
          20,
          20.999999999999996,
          49,
          20,
          38,
          12,
          36,
          33,
          25,
          38,
          49,
          28,
          38,
          24,
          44,
          25.000000000000004,
          28.999999999999996,
          40,
          22,
          33,
          46,
          38,
          39,
          28,
          34,
          42,
          43,
          36,
          20,
          21.999999999999996,
          48,
          18,
          26,
          13,
          40,
          33,
          45,
          16,
          43,
          17,
          28,
          14.999999999999998,
          20,
          26.999999999999996,
          38,
          42,
          19,
          37,
          15,
          24,
          38,
          32,
          11,
          36,
          13,
          35,
          42,
          33,
          25,
          34,
          14.999999999999998,
          33,
          24,
          11,
          30,
          16,
          31,
          19,
          18,
          12,
          28,
          40
         ]
        }
       ],
       "layout": {
        "barmode": "group",
        "template": {
         "data": {
          "bar": [
           {
            "error_x": {
             "color": "#2a3f5f"
            },
            "error_y": {
             "color": "#2a3f5f"
            },
            "marker": {
             "line": {
              "color": "white",
              "width": 0.5
             },
             "pattern": {
              "fillmode": "overlay",
              "size": 10,
              "solidity": 0.2
             }
            },
            "type": "bar"
           }
          ],
          "barpolar": [
           {
            "marker": {
             "line": {
              "color": "white",
              "width": 0.5
             },
             "pattern": {
              "fillmode": "overlay",
              "size": 10,
              "solidity": 0.2
             }
            },
            "type": "barpolar"
           }
          ],
          "carpet": [
           {
            "aaxis": {
             "endlinecolor": "#2a3f5f",
             "gridcolor": "#C8D4E3",
             "linecolor": "#C8D4E3",
             "minorgridcolor": "#C8D4E3",
             "startlinecolor": "#2a3f5f"
            },
            "baxis": {
             "endlinecolor": "#2a3f5f",
             "gridcolor": "#C8D4E3",
             "linecolor": "#C8D4E3",
             "minorgridcolor": "#C8D4E3",
             "startlinecolor": "#2a3f5f"
            },
            "type": "carpet"
           }
          ],
          "choropleth": [
           {
            "colorbar": {
             "outlinewidth": 0,
             "ticks": ""
            },
            "type": "choropleth"
           }
          ],
          "contour": [
           {
            "colorbar": {
             "outlinewidth": 0,
             "ticks": ""
            },
            "colorscale": [
             [
              0,
              "#0d0887"
             ],
             [
              0.1111111111111111,
              "#46039f"
             ],
             [
              0.2222222222222222,
              "#7201a8"
             ],
             [
              0.3333333333333333,
              "#9c179e"
             ],
             [
              0.4444444444444444,
              "#bd3786"
             ],
             [
              0.5555555555555556,
              "#d8576b"
             ],
             [
              0.6666666666666666,
              "#ed7953"
             ],
             [
              0.7777777777777778,
              "#fb9f3a"
             ],
             [
              0.8888888888888888,
              "#fdca26"
             ],
             [
              1,
              "#f0f921"
             ]
            ],
            "type": "contour"
           }
          ],
          "contourcarpet": [
           {
            "colorbar": {
             "outlinewidth": 0,
             "ticks": ""
            },
            "type": "contourcarpet"
           }
          ],
          "heatmap": [
           {
            "colorbar": {
             "outlinewidth": 0,
             "ticks": ""
            },
            "colorscale": [
             [
              0,
              "#0d0887"
             ],
             [
              0.1111111111111111,
              "#46039f"
             ],
             [
              0.2222222222222222,
              "#7201a8"
             ],
             [
              0.3333333333333333,
              "#9c179e"
             ],
             [
              0.4444444444444444,
              "#bd3786"
             ],
             [
              0.5555555555555556,
              "#d8576b"
             ],
             [
              0.6666666666666666,
              "#ed7953"
             ],
             [
              0.7777777777777778,
              "#fb9f3a"
             ],
             [
              0.8888888888888888,
              "#fdca26"
             ],
             [
              1,
              "#f0f921"
             ]
            ],
            "type": "heatmap"
           }
          ],
          "heatmapgl": [
           {
            "colorbar": {
             "outlinewidth": 0,
             "ticks": ""
            },
            "colorscale": [
             [
              0,
              "#0d0887"
             ],
             [
              0.1111111111111111,
              "#46039f"
             ],
             [
              0.2222222222222222,
              "#7201a8"
             ],
             [
              0.3333333333333333,
              "#9c179e"
             ],
             [
              0.4444444444444444,
              "#bd3786"
             ],
             [
              0.5555555555555556,
              "#d8576b"
             ],
             [
              0.6666666666666666,
              "#ed7953"
             ],
             [
              0.7777777777777778,
              "#fb9f3a"
             ],
             [
              0.8888888888888888,
              "#fdca26"
             ],
             [
              1,
              "#f0f921"
             ]
            ],
            "type": "heatmapgl"
           }
          ],
          "histogram": [
           {
            "marker": {
             "pattern": {
              "fillmode": "overlay",
              "size": 10,
              "solidity": 0.2
             }
            },
            "type": "histogram"
           }
          ],
          "histogram2d": [
           {
            "colorbar": {
             "outlinewidth": 0,
             "ticks": ""
            },
            "colorscale": [
             [
              0,
              "#0d0887"
             ],
             [
              0.1111111111111111,
              "#46039f"
             ],
             [
              0.2222222222222222,
              "#7201a8"
             ],
             [
              0.3333333333333333,
              "#9c179e"
             ],
             [
              0.4444444444444444,
              "#bd3786"
             ],
             [
              0.5555555555555556,
              "#d8576b"
             ],
             [
              0.6666666666666666,
              "#ed7953"
             ],
             [
              0.7777777777777778,
              "#fb9f3a"
             ],
             [
              0.8888888888888888,
              "#fdca26"
             ],
             [
              1,
              "#f0f921"
             ]
            ],
            "type": "histogram2d"
           }
          ],
          "histogram2dcontour": [
           {
            "colorbar": {
             "outlinewidth": 0,
             "ticks": ""
            },
            "colorscale": [
             [
              0,
              "#0d0887"
             ],
             [
              0.1111111111111111,
              "#46039f"
             ],
             [
              0.2222222222222222,
              "#7201a8"
             ],
             [
              0.3333333333333333,
              "#9c179e"
             ],
             [
              0.4444444444444444,
              "#bd3786"
             ],
             [
              0.5555555555555556,
              "#d8576b"
             ],
             [
              0.6666666666666666,
              "#ed7953"
             ],
             [
              0.7777777777777778,
              "#fb9f3a"
             ],
             [
              0.8888888888888888,
              "#fdca26"
             ],
             [
              1,
              "#f0f921"
             ]
            ],
            "type": "histogram2dcontour"
           }
          ],
          "mesh3d": [
           {
            "colorbar": {
             "outlinewidth": 0,
             "ticks": ""
            },
            "type": "mesh3d"
           }
          ],
          "parcoords": [
           {
            "line": {
             "colorbar": {
              "outlinewidth": 0,
              "ticks": ""
             }
            },
            "type": "parcoords"
           }
          ],
          "pie": [
           {
            "automargin": true,
            "type": "pie"
           }
          ],
          "scatter": [
           {
            "fillpattern": {
             "fillmode": "overlay",
             "size": 10,
             "solidity": 0.2
            },
            "type": "scatter"
           }
          ],
          "scatter3d": [
           {
            "line": {
             "colorbar": {
              "outlinewidth": 0,
              "ticks": ""
             }
            },
            "marker": {
             "colorbar": {
              "outlinewidth": 0,
              "ticks": ""
             }
            },
            "type": "scatter3d"
           }
          ],
          "scattercarpet": [
           {
            "marker": {
             "colorbar": {
              "outlinewidth": 0,
              "ticks": ""
             }
            },
            "type": "scattercarpet"
           }
          ],
          "scattergeo": [
           {
            "marker": {
             "colorbar": {
              "outlinewidth": 0,
              "ticks": ""
             }
            },
            "type": "scattergeo"
           }
          ],
          "scattergl": [
           {
            "marker": {
             "colorbar": {
              "outlinewidth": 0,
              "ticks": ""
             }
            },
            "type": "scattergl"
           }
          ],
          "scattermapbox": [
           {
            "marker": {
             "colorbar": {
              "outlinewidth": 0,
              "ticks": ""
             }
            },
            "type": "scattermapbox"
           }
          ],
          "scatterpolar": [
           {
            "marker": {
             "colorbar": {
              "outlinewidth": 0,
              "ticks": ""
             }
            },
            "type": "scatterpolar"
           }
          ],
          "scatterpolargl": [
           {
            "marker": {
             "colorbar": {
              "outlinewidth": 0,
              "ticks": ""
             }
            },
            "type": "scatterpolargl"
           }
          ],
          "scatterternary": [
           {
            "marker": {
             "colorbar": {
              "outlinewidth": 0,
              "ticks": ""
             }
            },
            "type": "scatterternary"
           }
          ],
          "surface": [
           {
            "colorbar": {
             "outlinewidth": 0,
             "ticks": ""
            },
            "colorscale": [
             [
              0,
              "#0d0887"
             ],
             [
              0.1111111111111111,
              "#46039f"
             ],
             [
              0.2222222222222222,
              "#7201a8"
             ],
             [
              0.3333333333333333,
              "#9c179e"
             ],
             [
              0.4444444444444444,
              "#bd3786"
             ],
             [
              0.5555555555555556,
              "#d8576b"
             ],
             [
              0.6666666666666666,
              "#ed7953"
             ],
             [
              0.7777777777777778,
              "#fb9f3a"
             ],
             [
              0.8888888888888888,
              "#fdca26"
             ],
             [
              1,
              "#f0f921"
             ]
            ],
            "type": "surface"
           }
          ],
          "table": [
           {
            "cells": {
             "fill": {
              "color": "#EBF0F8"
             },
             "line": {
              "color": "white"
             }
            },
            "header": {
             "fill": {
              "color": "#C8D4E3"
             },
             "line": {
              "color": "white"
             }
            },
            "type": "table"
           }
          ]
         },
         "layout": {
          "annotationdefaults": {
           "arrowcolor": "#2a3f5f",
           "arrowhead": 0,
           "arrowwidth": 1
          },
          "autotypenumbers": "strict",
          "coloraxis": {
           "colorbar": {
            "outlinewidth": 0,
            "ticks": ""
           }
          },
          "colorscale": {
           "diverging": [
            [
             0,
             "#8e0152"
            ],
            [
             0.1,
             "#c51b7d"
            ],
            [
             0.2,
             "#de77ae"
            ],
            [
             0.3,
             "#f1b6da"
            ],
            [
             0.4,
             "#fde0ef"
            ],
            [
             0.5,
             "#f7f7f7"
            ],
            [
             0.6,
             "#e6f5d0"
            ],
            [
             0.7,
             "#b8e186"
            ],
            [
             0.8,
             "#7fbc41"
            ],
            [
             0.9,
             "#4d9221"
            ],
            [
             1,
             "#276419"
            ]
           ],
           "sequential": [
            [
             0,
             "#0d0887"
            ],
            [
             0.1111111111111111,
             "#46039f"
            ],
            [
             0.2222222222222222,
             "#7201a8"
            ],
            [
             0.3333333333333333,
             "#9c179e"
            ],
            [
             0.4444444444444444,
             "#bd3786"
            ],
            [
             0.5555555555555556,
             "#d8576b"
            ],
            [
             0.6666666666666666,
             "#ed7953"
            ],
            [
             0.7777777777777778,
             "#fb9f3a"
            ],
            [
             0.8888888888888888,
             "#fdca26"
            ],
            [
             1,
             "#f0f921"
            ]
           ],
           "sequentialminus": [
            [
             0,
             "#0d0887"
            ],
            [
             0.1111111111111111,
             "#46039f"
            ],
            [
             0.2222222222222222,
             "#7201a8"
            ],
            [
             0.3333333333333333,
             "#9c179e"
            ],
            [
             0.4444444444444444,
             "#bd3786"
            ],
            [
             0.5555555555555556,
             "#d8576b"
            ],
            [
             0.6666666666666666,
             "#ed7953"
            ],
            [
             0.7777777777777778,
             "#fb9f3a"
            ],
            [
             0.8888888888888888,
             "#fdca26"
            ],
            [
             1,
             "#f0f921"
            ]
           ]
          },
          "colorway": [
           "#636efa",
           "#EF553B",
           "#00cc96",
           "#ab63fa",
           "#FFA15A",
           "#19d3f3",
           "#FF6692",
           "#B6E880",
           "#FF97FF",
           "#FECB52"
          ],
          "font": {
           "color": "#2a3f5f"
          },
          "geo": {
           "bgcolor": "white",
           "lakecolor": "white",
           "landcolor": "white",
           "showlakes": true,
           "showland": true,
           "subunitcolor": "#C8D4E3"
          },
          "hoverlabel": {
           "align": "left"
          },
          "hovermode": "closest",
          "mapbox": {
           "style": "light"
          },
          "paper_bgcolor": "white",
          "plot_bgcolor": "white",
          "polar": {
           "angularaxis": {
            "gridcolor": "#EBF0F8",
            "linecolor": "#EBF0F8",
            "ticks": ""
           },
           "bgcolor": "white",
           "radialaxis": {
            "gridcolor": "#EBF0F8",
            "linecolor": "#EBF0F8",
            "ticks": ""
           }
          },
          "scene": {
           "xaxis": {
            "backgroundcolor": "white",
            "gridcolor": "#DFE8F3",
            "gridwidth": 2,
            "linecolor": "#EBF0F8",
            "showbackground": true,
            "ticks": "",
            "zerolinecolor": "#EBF0F8"
           },
           "yaxis": {
            "backgroundcolor": "white",
            "gridcolor": "#DFE8F3",
            "gridwidth": 2,
            "linecolor": "#EBF0F8",
            "showbackground": true,
            "ticks": "",
            "zerolinecolor": "#EBF0F8"
           },
           "zaxis": {
            "backgroundcolor": "white",
            "gridcolor": "#DFE8F3",
            "gridwidth": 2,
            "linecolor": "#EBF0F8",
            "showbackground": true,
            "ticks": "",
            "zerolinecolor": "#EBF0F8"
           }
          },
          "shapedefaults": {
           "line": {
            "color": "#2a3f5f"
           }
          },
          "ternary": {
           "aaxis": {
            "gridcolor": "#DFE8F3",
            "linecolor": "#A2B1C6",
            "ticks": ""
           },
           "baxis": {
            "gridcolor": "#DFE8F3",
            "linecolor": "#A2B1C6",
            "ticks": ""
           },
           "bgcolor": "white",
           "caxis": {
            "gridcolor": "#DFE8F3",
            "linecolor": "#A2B1C6",
            "ticks": ""
           }
          },
          "title": {
           "x": 0.05
          },
          "xaxis": {
           "automargin": true,
           "gridcolor": "#EBF0F8",
           "linecolor": "#EBF0F8",
           "ticks": "",
           "title": {
            "standoff": 15
           },
           "zerolinecolor": "#EBF0F8",
           "zerolinewidth": 2
          },
          "yaxis": {
           "automargin": true,
           "gridcolor": "#EBF0F8",
           "linecolor": "#EBF0F8",
           "ticks": "",
           "title": {
            "standoff": 15
           },
           "zerolinecolor": "#EBF0F8",
           "zerolinewidth": 2
          }
         }
        },
        "title": {
         "text": "Actual vs. Break Even Customers by Marketing Channel"
        },
        "xaxis": {
         "title": {
          "text": "Marketing Channel"
         }
        },
        "yaxis": {
         "title": {
          "text": "Number of Customers"
         }
        }
       }
      }
     },
     "metadata": {},
     "output_type": "display_data"
    }
   ],
   "source": [
    "fig = go.Figure()\n",
    "\n",
    "fig.add_trace(go.Bar(x = df['Marketing_Channel'], y =df['New_Customers'], name = 'Actual Customers Acquired', marker_color = 'royalblue'))\n",
    "\n",
    "fig.add_trace(go.Bar(x = df['Marketing_Channel'], y =df['Break_Even_Customers'], name = 'Break Even Customers', marker_color = 'lightcoral'))\n",
    "\n",
    "fig.update_layout(barmode = 'group', title = 'Actual vs. Break Even Customers by Marketing Channel', xaxis_title='Marketing Channel', yaxis_title = 'Number of Customers')\n",
    "\n",
    "fig.show()"
   ]
  }
 ],
 "metadata": {
  "kernelspec": {
   "display_name": "python_course",
   "language": "python",
   "name": "python3"
  },
  "language_info": {
   "codemirror_mode": {
    "name": "ipython",
    "version": 3
   },
   "file_extension": ".py",
   "mimetype": "text/x-python",
   "name": "python",
   "nbconvert_exporter": "python",
   "pygments_lexer": "ipython3",
   "version": "3.11.10"
  }
 },
 "nbformat": 4,
 "nbformat_minor": 2
}
